{
 "cells": [
  {
   "cell_type": "markdown",
   "id": "87a37f0e-fb3e-4077-8225-e5bd8171ab92",
   "metadata": {},
   "source": [
    "#### basic calculator"
   ]
  },
  {
   "cell_type": "code",
   "execution_count": 7,
   "id": "dba13149-1e64-4b74-adb6-fd4571c5a6f1",
   "metadata": {},
   "outputs": [
    {
     "name": "stdin",
     "output_type": "stream",
     "text": [
      "enter no.1 12\n",
      "enter no.2 2\n"
     ]
    },
    {
     "name": "stdout",
     "output_type": "stream",
     "text": [
      "14\n"
     ]
    },
    {
     "name": "stdin",
     "output_type": "stream",
     "text": [
      "enter no.1 12\n",
      "enter no.2 2\n"
     ]
    },
    {
     "name": "stdout",
     "output_type": "stream",
     "text": [
      "10\n"
     ]
    },
    {
     "name": "stdin",
     "output_type": "stream",
     "text": [
      "enter no.1 12\n",
      "enter no.2 2\n"
     ]
    },
    {
     "name": "stdout",
     "output_type": "stream",
     "text": [
      "24\n"
     ]
    },
    {
     "name": "stdin",
     "output_type": "stream",
     "text": [
      "enter no.1 12\n",
      "enter no.2 2\n"
     ]
    },
    {
     "name": "stdout",
     "output_type": "stream",
     "text": [
      "6.0\n"
     ]
    }
   ],
   "source": [
    "#addition\n",
    "n1=int(input(\"enter no.1\"))\n",
    "n2=int(input(\"enter no.2\"))\n",
    "n3=n1+n2\n",
    "print(n3)\n",
    "\n",
    "#substraction\n",
    "n1=int(input(\"enter no.1\"))\n",
    "n2=int(input(\"enter no.2\"))\n",
    "n3=n1-n2\n",
    "print(n3)\n",
    "\n",
    "#multiplication\n",
    "n1=int(input(\"enter no.1\"))\n",
    "n2=int(input(\"enter no.2\"))\n",
    "n3=n1*n2\n",
    "print(n3)\n",
    "\n",
    "#division\n",
    "n1=int(input(\"enter no.1\"))\n",
    "n2=int(input(\"enter no.2\"))\n",
    "n3=n1/n2\n",
    "print(n3)\n"
   ]
  },
  {
   "cell_type": "code",
   "execution_count": 6,
   "id": "a5bfb5e0-ebc5-4abd-85f9-60d4400dcddc",
   "metadata": {},
   "outputs": [
    {
     "name": "stdin",
     "output_type": "stream",
     "text": [
      "enter no.1 12\n",
      "enter operator +\n",
      "enter no.2 2\n"
     ]
    },
    {
     "name": "stdout",
     "output_type": "stream",
     "text": [
      "14.0\n"
     ]
    }
   ],
   "source": [
    "#basic calculator using if condition\n",
    "num1=float(input(\"enter no.1\"))\n",
    "operator=input(\"enter operator\")\n",
    "num2=float(input(\"enter no.2\"))\n",
    "\n",
    "if operator=='+':\n",
    "    num3=num1+num2\n",
    "    print(num3)\n",
    "\n",
    "elif operator=='-':\n",
    "    num3=num1+num2\n",
    "    print(num3)\n",
    "\n",
    "elif operator=='*':\n",
    "    num3=num1+num2\n",
    "    print(num3)\n",
    "\n",
    "elif operator=='/':\n",
    "    num3=num1+num2\n",
    "    print(num3)\n",
    "\n",
    "elif operator=='%':\n",
    "    num3=num1+num2\n",
    "    print(num3)\n",
    "\n",
    "else:\n",
    "    print(\"operator not found\")\n",
    "\n",
    "    \n"
   ]
  },
  {
   "cell_type": "markdown",
   "id": "a86a726d-2ebc-4ec3-a996-eb9aa6833206",
   "metadata": {},
   "source": [
    "## calculator with while loop"
   ]
  },
  {
   "cell_type": "code",
   "execution_count": 12,
   "id": "3da3439a-cbe0-4a33-bbe2-02485ce9473e",
   "metadata": {},
   "outputs": [
    {
     "name": "stdin",
     "output_type": "stream",
     "text": [
      "enter first number 12\n",
      "enter second number 2\n",
      "enter operator +\n"
     ]
    },
    {
     "name": "stdout",
     "output_type": "stream",
     "text": [
      "14.0\n"
     ]
    },
    {
     "name": "stdin",
     "output_type": "stream",
     "text": [
      "enter first number 12\n",
      "enter second number 2\n",
      "enter operator -\n"
     ]
    },
    {
     "name": "stdout",
     "output_type": "stream",
     "text": [
      "10.0\n"
     ]
    },
    {
     "ename": "KeyboardInterrupt",
     "evalue": "Interrupted by user",
     "output_type": "error",
     "traceback": [
      "\u001b[31m---------------------------------------------------------------------------\u001b[39m",
      "\u001b[31mKeyboardInterrupt\u001b[39m                         Traceback (most recent call last)",
      "\u001b[36mCell\u001b[39m\u001b[36m \u001b[39m\u001b[32mIn[12]\u001b[39m\u001b[32m, line 2\u001b[39m\n\u001b[32m      1\u001b[39m \u001b[38;5;28;01mwhile\u001b[39;00m \u001b[38;5;28;01mTrue\u001b[39;00m:\n\u001b[32m----> \u001b[39m\u001b[32m2\u001b[39m     num1=\u001b[38;5;28mfloat\u001b[39m(\u001b[38;5;28;43minput\u001b[39;49m\u001b[43m(\u001b[49m\u001b[33;43m\"\u001b[39;49m\u001b[33;43menter first number\u001b[39;49m\u001b[33;43m\"\u001b[39;49m\u001b[43m)\u001b[49m)\n\u001b[32m      3\u001b[39m     num2=\u001b[38;5;28mfloat\u001b[39m(\u001b[38;5;28minput\u001b[39m(\u001b[33m\"\u001b[39m\u001b[33menter second number\u001b[39m\u001b[33m\"\u001b[39m))\n\u001b[32m      4\u001b[39m     operator=\u001b[38;5;28minput\u001b[39m(\u001b[33m\"\u001b[39m\u001b[33menter operator\u001b[39m\u001b[33m\"\u001b[39m)\n",
      "\u001b[36mFile \u001b[39m\u001b[32m~\\AppData\\Roaming\\Python\\Python313\\site-packages\\ipykernel\\kernelbase.py:1282\u001b[39m, in \u001b[36mKernel.raw_input\u001b[39m\u001b[34m(self, prompt)\u001b[39m\n\u001b[32m   1280\u001b[39m     msg = \u001b[33m\"\u001b[39m\u001b[33mraw_input was called, but this frontend does not support input requests.\u001b[39m\u001b[33m\"\u001b[39m\n\u001b[32m   1281\u001b[39m     \u001b[38;5;28;01mraise\u001b[39;00m StdinNotImplementedError(msg)\n\u001b[32m-> \u001b[39m\u001b[32m1282\u001b[39m \u001b[38;5;28;01mreturn\u001b[39;00m \u001b[38;5;28;43mself\u001b[39;49m\u001b[43m.\u001b[49m\u001b[43m_input_request\u001b[49m\u001b[43m(\u001b[49m\n\u001b[32m   1283\u001b[39m \u001b[43m    \u001b[49m\u001b[38;5;28;43mstr\u001b[39;49m\u001b[43m(\u001b[49m\u001b[43mprompt\u001b[49m\u001b[43m)\u001b[49m\u001b[43m,\u001b[49m\n\u001b[32m   1284\u001b[39m \u001b[43m    \u001b[49m\u001b[38;5;28;43mself\u001b[39;49m\u001b[43m.\u001b[49m\u001b[43m_parent_ident\u001b[49m\u001b[43m[\u001b[49m\u001b[33;43m\"\u001b[39;49m\u001b[33;43mshell\u001b[39;49m\u001b[33;43m\"\u001b[39;49m\u001b[43m]\u001b[49m\u001b[43m,\u001b[49m\n\u001b[32m   1285\u001b[39m \u001b[43m    \u001b[49m\u001b[38;5;28;43mself\u001b[39;49m\u001b[43m.\u001b[49m\u001b[43mget_parent\u001b[49m\u001b[43m(\u001b[49m\u001b[33;43m\"\u001b[39;49m\u001b[33;43mshell\u001b[39;49m\u001b[33;43m\"\u001b[39;49m\u001b[43m)\u001b[49m\u001b[43m,\u001b[49m\n\u001b[32m   1286\u001b[39m \u001b[43m    \u001b[49m\u001b[43mpassword\u001b[49m\u001b[43m=\u001b[49m\u001b[38;5;28;43;01mFalse\u001b[39;49;00m\u001b[43m,\u001b[49m\n\u001b[32m   1287\u001b[39m \u001b[43m\u001b[49m\u001b[43m)\u001b[49m\n",
      "\u001b[36mFile \u001b[39m\u001b[32m~\\AppData\\Roaming\\Python\\Python313\\site-packages\\ipykernel\\kernelbase.py:1325\u001b[39m, in \u001b[36mKernel._input_request\u001b[39m\u001b[34m(self, prompt, ident, parent, password)\u001b[39m\n\u001b[32m   1322\u001b[39m \u001b[38;5;28;01mexcept\u001b[39;00m \u001b[38;5;167;01mKeyboardInterrupt\u001b[39;00m:\n\u001b[32m   1323\u001b[39m     \u001b[38;5;66;03m# re-raise KeyboardInterrupt, to truncate traceback\u001b[39;00m\n\u001b[32m   1324\u001b[39m     msg = \u001b[33m\"\u001b[39m\u001b[33mInterrupted by user\u001b[39m\u001b[33m\"\u001b[39m\n\u001b[32m-> \u001b[39m\u001b[32m1325\u001b[39m     \u001b[38;5;28;01mraise\u001b[39;00m \u001b[38;5;167;01mKeyboardInterrupt\u001b[39;00m(msg) \u001b[38;5;28;01mfrom\u001b[39;00m\u001b[38;5;250m \u001b[39m\u001b[38;5;28;01mNone\u001b[39;00m\n\u001b[32m   1326\u001b[39m \u001b[38;5;28;01mexcept\u001b[39;00m \u001b[38;5;167;01mException\u001b[39;00m:\n\u001b[32m   1327\u001b[39m     \u001b[38;5;28mself\u001b[39m.log.warning(\u001b[33m\"\u001b[39m\u001b[33mInvalid Message:\u001b[39m\u001b[33m\"\u001b[39m, exc_info=\u001b[38;5;28;01mTrue\u001b[39;00m)\n",
      "\u001b[31mKeyboardInterrupt\u001b[39m: Interrupted by user"
     ]
    }
   ],
   "source": [
    "# while True:\n",
    "    num1=float(input(\"enter first number\"))\n",
    "    num2=float(input(\"enter second number\"))\n",
    "    operator=input(\"enter operator\")\n",
    "\n",
    "    if operator=='+':\n",
    "        result=num1+num2\n",
    "        print(result)\n",
    "\n",
    "    elif operator=='-':\n",
    "        result=num1-num2\n",
    "        print(result)\n",
    "\n",
    "    elif operator=='*':\n",
    "        result=num1*num2\n",
    "        print(result)\n",
    "\n",
    "    elif operator=='/':\n",
    "        result=num1/num2\n",
    "        print(result)\n",
    "\n",
    "    else:\n",
    "        print(\"invalid operator\")\n",
    "\n",
    "       # continue\n",
    "        again=input(\"do you want to continue(yes/no)\")\n",
    "\n",
    "        if again!=yes:\n",
    "       \n",
    "               break\n",
    "    \n",
    "    \n",
    "    \n",
    "    \n",
    "    "
   ]
  },
  {
   "cell_type": "markdown",
   "id": "5a64e24b-bdf7-4990-a666-067e4e0a5c2b",
   "metadata": {},
   "source": [
    "## calculator with function"
   ]
  },
  {
   "cell_type": "code",
   "execution_count": 6,
   "id": "0fc8832a-7335-48c2-b0b6-a144439b33db",
   "metadata": {},
   "outputs": [
    {
     "name": "stdin",
     "output_type": "stream",
     "text": [
      "enter first number 12\n",
      "enter second number 3\n",
      "enter operator +\n"
     ]
    },
    {
     "data": {
      "text/plain": [
       "15.0"
      ]
     },
     "execution_count": 6,
     "metadata": {},
     "output_type": "execute_result"
    }
   ],
   "source": [
    "def calculator():\n",
    "    num1=float(input(\"enter first number\"))\n",
    "    num2=float(input(\"enter second number\"))\n",
    "    operator=input(\"enter operator\")\n",
    "\n",
    "    if operator=='+':\n",
    "        return num1+num2\n",
    "\n",
    "    \n",
    "    if operator=='-':\n",
    "        return num1-num2\n",
    "\n",
    "    \n",
    "    if operator=='*':\n",
    "        return num1*num2\n",
    "\n",
    "    \n",
    "    if operator=='/':\n",
    "        return num1/num2\n",
    "\n",
    "    else:\n",
    "        print(\"invalid operator\")\n",
    "\n",
    "calculator()\n",
    "        \n",
    "        \n",
    "\n",
    "   "
   ]
  },
  {
   "cell_type": "markdown",
   "id": "007fdb7b-cd59-470c-ab87-ae2868486563",
   "metadata": {},
   "source": [
    "## calculator using conditional statement"
   ]
  },
  {
   "cell_type": "code",
   "execution_count": 15,
   "id": "0980bce7-8511-482d-8f3b-2ce4ee0eb868",
   "metadata": {},
   "outputs": [
    {
     "name": "stdin",
     "output_type": "stream",
     "text": [
      "enter first number 12\n",
      "enter second number 2\n",
      "enter operator +\n"
     ]
    },
    {
     "name": "stdout",
     "output_type": "stream",
     "text": [
      "14.0\n"
     ]
    }
   ],
   "source": [
    "num1=float(input(\"enter first number\"))\n",
    "num2=float(input(\"enter second number\"))\n",
    "operator=input(\"enter operator\")\n",
    "\n",
    "if operator=='+':\n",
    "    result=num1+num2\n",
    "    print(result)\n",
    "\n",
    "elif operator=='-':\n",
    "    result=num1-num2\n",
    "    print(result)\n",
    "\n",
    "    \n",
    "elif operator=='*':\n",
    "    result=num1*num2\n",
    "    print(result)\n",
    "\n",
    "\n",
    "elif operator=='/':\n",
    "    result=num1/num2\n",
    "    print(result)\n",
    "\n",
    "else:\n",
    "    print(\"invalid operator\")\n"
   ]
  },
  {
   "cell_type": "code",
   "execution_count": null,
   "id": "f555b72f-18c3-484a-961d-fdf1e4bfe241",
   "metadata": {},
   "outputs": [],
   "source": []
  }
 ],
 "metadata": {
  "kernelspec": {
   "display_name": "Python 3 (ipykernel)",
   "language": "python",
   "name": "python3"
  },
  "language_info": {
   "codemirror_mode": {
    "name": "ipython",
    "version": 3
   },
   "file_extension": ".py",
   "mimetype": "text/x-python",
   "name": "python",
   "nbconvert_exporter": "python",
   "pygments_lexer": "ipython3",
   "version": "3.13.5"
  }
 },
 "nbformat": 4,
 "nbformat_minor": 5
}
