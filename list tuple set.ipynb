{
 "cells": [
  {
   "cell_type": "markdown",
   "id": "c75dd10b-1e28-4e00-aa9c-77f41477c51a",
   "metadata": {},
   "source": [
    "### Python Data Structure"
   ]
  },
  {
   "cell_type": "markdown",
   "id": "f2d5a922-a604-46d2-abb7-f0224a9e426a",
   "metadata": {},
   "source": [
    "### 1.Lists"
   ]
  },
  {
   "cell_type": "markdown",
   "id": "542176af-9dc4-48b3-b5f4-cd07ea6b8d39",
   "metadata": {},
   "source": [
    "### definition\n",
    "A list is an ordered, mutable collection in python\n",
    "- allows duplicates\n",
    "- elements can be of mixed data types\n",
    "- supports indexing(positive and negative)"
   ]
  },
  {
   "cell_type": "markdown",
   "id": "6dca83ec-6a92-4fa2-be00-054aa2629021",
   "metadata": {},
   "source": [
    "### Creating Lists"
   ]
  },
  {
   "cell_type": "code",
   "execution_count": 3,
   "id": "130ec72e-2aa4-4193-b536-ff8f5cd155dd",
   "metadata": {},
   "outputs": [
    {
     "name": "stdout",
     "output_type": "stream",
     "text": [
      "numbers: [10, 20, 30]\n",
      "fruits: ['mango', 'apple', 'banana']\n",
      "mixed: [1, 'two', 3.0, [4, 5]]\n"
     ]
    }
   ],
   "source": [
    "nums= [10,20,30]\n",
    "fruits=[\"mango\",\"apple\",\"banana\"]\n",
    "mixed=[1,\"two\",3.0,[4,5]]\n",
    "\n",
    "print(\"numbers:\",nums)\n",
    "print(\"fruits:\",fruits)\n",
    "print(\"mixed:\",mixed)\n"
   ]
  },
  {
   "cell_type": "code",
   "execution_count": 4,
   "id": "489e3d65-9612-41dc-8a26-ab7009527b09",
   "metadata": {},
   "outputs": [
    {
     "name": "stdout",
     "output_type": "stream",
     "text": [
      "[30, 10, 20]\n",
      "[34, 65, 34, 65]\n"
     ]
    }
   ],
   "source": [
    "nums1= [30,10,20]  #lists preserve order\n",
    "print(nums1)\n",
    "\n",
    "nums2=[34,65,34,65]   #duplicates allowed\n",
    "print(nums2)"
   ]
  },
  {
   "cell_type": "markdown",
   "id": "ba9cde95-40de-42e6-8add-e026d816b95d",
   "metadata": {},
   "source": [
    "### Lists Methods"
   ]
  },
  {
   "cell_type": "markdown",
   "id": "0e98625f-133d-4468-bc1a-6d188c940bc5",
   "metadata": {},
   "source": [
    "#### 1.len\n",
    "it will return the lenght of the list\n"
   ]
  },
  {
   "cell_type": "markdown",
   "id": "04f2ea8f-8355-4d1d-9363-68ffb1032b3e",
   "metadata": {},
   "source": [
    "Note: len() is a function not a method"
   ]
  },
  {
   "cell_type": "code",
   "execution_count": 5,
   "id": "1161a1e9-267e-4568-82bc-c2e0fc84efb2",
   "metadata": {},
   "outputs": [
    {
     "name": "stdout",
     "output_type": "stream",
     "text": [
      "length of fruits: 3\n"
     ]
    }
   ],
   "source": [
    "fruits=[\"mango\",\"apple\",\"banana\"]\n",
    "print(\"length of fruits:\",len(fruits))"
   ]
  },
  {
   "cell_type": "code",
   "execution_count": 1,
   "id": "c5adc802-b1dd-40bb-9bfe-e2c2c689366a",
   "metadata": {},
   "outputs": [
    {
     "data": {
      "text/plain": [
       "5"
      ]
     },
     "execution_count": 1,
     "metadata": {},
     "output_type": "execute_result"
    }
   ],
   "source": [
    "nums=[1,12,123,1234,12345]\n",
    "len(nums)"
   ]
  },
  {
   "cell_type": "code",
   "execution_count": 3,
   "id": "a3bb4149-b891-4148-92d3-a527734e89be",
   "metadata": {},
   "outputs": [
    {
     "data": {
      "text/plain": [
       "5"
      ]
     },
     "execution_count": 3,
     "metadata": {},
     "output_type": "execute_result"
    }
   ],
   "source": [
    "strings= \"hello\"\n",
    "len(strings)"
   ]
  },
  {
   "cell_type": "code",
   "execution_count": 4,
   "id": "7bbe2490-41d9-4229-a6e8-f4320be80d70",
   "metadata": {},
   "outputs": [
    {
     "data": {
      "text/plain": [
       "4"
      ]
     },
     "execution_count": 4,
     "metadata": {},
     "output_type": "execute_result"
    }
   ],
   "source": [
    "list=[1,2,\"nishi\",2.14]\n",
    "len(list)"
   ]
  },
  {
   "cell_type": "markdown",
   "id": "cd0bd735-e718-4ef4-97b8-845393973b46",
   "metadata": {},
   "source": [
    "#### 2. append()\n",
    "it will add the item in the end of the list"
   ]
  },
  {
   "cell_type": "code",
   "execution_count": 7,
   "id": "be67af58-954e-4d6e-9413-b5e0d9f5290c",
   "metadata": {},
   "outputs": [
    {
     "name": "stdout",
     "output_type": "stream",
     "text": [
      "after append: [10, 20, 30]\n"
     ]
    }
   ],
   "source": [
    "nums=[10,20]\n",
    "nums.append(30)\n",
    "print(\"after append:\",nums)"
   ]
  },
  {
   "cell_type": "code",
   "execution_count": 8,
   "id": "42f84fed-00d0-4b50-acb2-ecb69935d651",
   "metadata": {},
   "outputs": [
    {
     "name": "stdout",
     "output_type": "stream",
     "text": [
      "[1, 2, 3, 'nishi']\n"
     ]
    }
   ],
   "source": [
    "list=[1,2,3]\n",
    "list.append('nishi')\n",
    "print(list)"
   ]
  },
  {
   "cell_type": "code",
   "execution_count": 13,
   "id": "ee4135c2-9895-4ba2-b8a4-43665bd7ff09",
   "metadata": {},
   "outputs": [
    {
     "name": "stdout",
     "output_type": "stream",
     "text": [
      "[1, 'nish', 12.4, [23, 'sneh', 122.33]]\n"
     ]
    }
   ],
   "source": [
    "list=[1,'nish',12.4]\n",
    "list.append([23,'sneh',122.33])\n",
    "print(list)"
   ]
  },
  {
   "cell_type": "code",
   "execution_count": 1,
   "id": "8f14bb2a-2900-45a7-9d9a-6249dd81daf4",
   "metadata": {},
   "outputs": [
    {
     "name": "stdout",
     "output_type": "stream",
     "text": [
      "[1, 'nish', 12.4, 233]\n"
     ]
    }
   ],
   "source": [
    "list=[1,'nish',12.4]\n",
    "list.append(233)\n",
    "print(list)"
   ]
  },
  {
   "cell_type": "code",
   "execution_count": 4,
   "id": "14660822-ccd8-4290-bebf-d502b62fd1a3",
   "metadata": {},
   "outputs": [
    {
     "name": "stdout",
     "output_type": "stream",
     "text": [
      "[1, 'nish', 12.4, 23, 34, 123, 23.4, [1, 2, 3]]\n"
     ]
    }
   ],
   "source": [
    "list=[1,'nish',12.4]\n",
    "list.append(23)\n",
    "list.append(34)\n",
    "list.append(123)\n",
    "list.append(23.4)\n",
    "list.append([1,2,3])\n",
    "print(list)"
   ]
  },
  {
   "cell_type": "markdown",
   "id": "82eda40d-030f-4cd1-81ac-4e32640bb972",
   "metadata": {},
   "source": [
    "#### 3.extend()\n"
   ]
  },
  {
   "cell_type": "code",
   "execution_count": 8,
   "id": "b7c5a290-021b-4eb2-aa27-f22de2a4583a",
   "metadata": {},
   "outputs": [
    {
     "name": "stdout",
     "output_type": "stream",
     "text": [
      "after extend: [1, 2, 3, 3, 4, 5]\n"
     ]
    }
   ],
   "source": [
    "nums=[1,2,3]\n",
    "nums.extend([3,4,5])\n",
    "print(\"after extend:\",nums)"
   ]
  },
  {
   "cell_type": "code",
   "execution_count": 14,
   "id": "410de2db-687f-4c45-9098-56b9538183d3",
   "metadata": {},
   "outputs": [
    {
     "name": "stdout",
     "output_type": "stream",
     "text": [
      "after append: [1, 2, [3, 4, 5]]\n"
     ]
    }
   ],
   "source": [
    "nums=[1,2]\n",
    "nums.append([3,4,5])\n",
    "print(\"after append:\",nums)"
   ]
  },
  {
   "cell_type": "code",
   "execution_count": 9,
   "id": "dd4d2688-6233-4167-a794-d5d9c6d0db93",
   "metadata": {},
   "outputs": [
    {
     "name": "stdout",
     "output_type": "stream",
     "text": [
      "[1, 2, 23]\n"
     ]
    }
   ],
   "source": [
    "nums=[1,2]      #will add list only not a single values\n",
    "nums.extend([23])\n",
    "print(nums)"
   ]
  },
  {
   "cell_type": "code",
   "execution_count": 10,
   "id": "8e761beb-853e-4006-9779-9f446512cf81",
   "metadata": {},
   "outputs": [
    {
     "name": "stdout",
     "output_type": "stream",
     "text": [
      "[1, 2, 3, 'nishi', 23, 12.5]\n"
     ]
    }
   ],
   "source": [
    "list=[1,2,3]\n",
    "list.extend([\"nishi\",23,12.5])\n",
    "print(list)"
   ]
  },
  {
   "cell_type": "code",
   "execution_count": 11,
   "id": "dd4a89db-3e6e-4ddb-a36c-a1d0ca0ec277",
   "metadata": {},
   "outputs": [
    {
     "name": "stdout",
     "output_type": "stream",
     "text": [
      "[1, 2, 3, 'a', 'b', 'c']\n"
     ]
    }
   ],
   "source": [
    "my_list=[1,2,3]\n",
    "my_string=\"abc\"\n",
    "my_list.extend(my_string)\n",
    "print(my_list)"
   ]
  },
  {
   "cell_type": "code",
   "execution_count": 16,
   "id": "ab2a23d8-9d84-4213-bea0-814aa8c2f8e5",
   "metadata": {},
   "outputs": [
    {
     "name": "stdout",
     "output_type": "stream",
     "text": [
      "[1, 'nish', 11, 12, 3, 12]\n"
     ]
    }
   ],
   "source": [
    "list=[1,'nish',11,12,3]\n",
    "list.extend([12])\n",
    "print(list)"
   ]
  },
  {
   "cell_type": "code",
   "execution_count": 17,
   "id": "308775ab-562a-4a90-ab71-420f84d2ad9b",
   "metadata": {},
   "outputs": [
    {
     "name": "stdout",
     "output_type": "stream",
     "text": [
      "[1, 'nish', 11, 12, 3, 12, 11, 9, 8, 'nish', 12, 3]\n"
     ]
    }
   ],
   "source": [
    "list=[1,'nish',11,12,3]\n",
    "list.extend([12,11,9,8,'nish',12,3])\n",
    "print(list)"
   ]
  },
  {
   "cell_type": "markdown",
   "id": "fc209902-bc8a-45e9-ba6e-7103684b0ebb",
   "metadata": {},
   "source": [
    "#### 4.remove(value_to_be_removed)"
   ]
  },
  {
   "cell_type": "code",
   "execution_count": 31,
   "id": "636cdcbf-5800-46d9-a6d6-5f8aaa78770b",
   "metadata": {},
   "outputs": [
    {
     "name": "stdout",
     "output_type": "stream",
     "text": [
      "after remove: [1, 3, 4, 2]\n"
     ]
    }
   ],
   "source": [
    "nums=[1,2,3,4,2]\n",
    "nums.remove(2)\n",
    "print(\"after remove:\",nums)"
   ]
  },
  {
   "cell_type": "markdown",
   "id": "294d04a5-4d2d-4c1a-96c7-d2b568795523",
   "metadata": {},
   "source": [
    "#### 5.pop(index_of_the_value_to_be_removed)"
   ]
  },
  {
   "cell_type": "code",
   "execution_count": 13,
   "id": "08a956a9-fe69-45e3-a918-9d42cb9b770e",
   "metadata": {},
   "outputs": [
    {
     "name": "stdout",
     "output_type": "stream",
     "text": [
      "popped last: 40\n",
      "popped index 1: 20\n",
      "list now: [10, 30]\n"
     ]
    }
   ],
   "source": [
    "nums=[10,20,30,40]\n",
    "last= nums.pop()  #will remove the last element\n",
    "second=nums.pop(1)  #will remove element as given index \n",
    "print(\"popped last:\",last)\n",
    "print(\"popped index 1:\",second)\n",
    "print(\"list now:\",nums)"
   ]
  },
  {
   "cell_type": "code",
   "execution_count": 18,
   "id": "c33a1ce9-7f1d-4fbb-9dfc-1645bb267fd2",
   "metadata": {},
   "outputs": [
    {
     "name": "stdout",
     "output_type": "stream",
     "text": [
      "shiv\n"
     ]
    }
   ],
   "source": [
    "names=[\"nishi\",\"sneha\",\"richa\",\"shiv\"]\n",
    "last=names.pop()\n",
    "print(last)"
   ]
  },
  {
   "cell_type": "code",
   "execution_count": 20,
   "id": "d4fb90b6-0981-4de3-a6cc-9c8fe609a50d",
   "metadata": {},
   "outputs": [
    {
     "name": "stdout",
     "output_type": "stream",
     "text": [
      "12.5\n",
      "list now: [10, 'nishi', 'seven']\n"
     ]
    }
   ],
   "source": [
    "list1=[10,\"nishi\",12.5,\"seven\"]\n",
    "poped_item=list1.pop(2)\n",
    "print(poped_item)\n",
    "print(\"list now:\",list1)"
   ]
  },
  {
   "cell_type": "code",
   "execution_count": 27,
   "id": "1efa5fce-e3f4-4a7e-ac95-ded73ae855e7",
   "metadata": {},
   "outputs": [
    {
     "name": "stdout",
     "output_type": "stream",
     "text": [
      "[10, 20, 30]\n"
     ]
    }
   ],
   "source": [
    "list=[10,20,30,40,50]\n",
    "deleted_item1=list.pop()\n",
    "deleted_item=list.pop(3)\n",
    "print(list)"
   ]
  },
  {
   "cell_type": "code",
   "execution_count": 28,
   "id": "3c1e4b23-f234-43d7-8c2d-04b4a1af5a73",
   "metadata": {},
   "outputs": [
    {
     "name": "stdout",
     "output_type": "stream",
     "text": [
      "40\n",
      "50\n"
     ]
    }
   ],
   "source": [
    "print(deleted_item)\n",
    "print(deleted_item1)"
   ]
  },
  {
   "cell_type": "markdown",
   "id": "74147a8d-572b-4d34-80a6-3546c3008e28",
   "metadata": {},
   "source": [
    "#### 6.clear"
   ]
  },
  {
   "cell_type": "code",
   "execution_count": 21,
   "id": "7783a576-1bd7-4fa9-a86f-70cd4bf8a978",
   "metadata": {},
   "outputs": [
    {
     "name": "stdout",
     "output_type": "stream",
     "text": [
      "after clear: []\n"
     ]
    }
   ],
   "source": [
    "nums= [1,2,3]\n",
    "nums.clear()\n",
    "print(\"after clear:\",nums)"
   ]
  },
  {
   "cell_type": "markdown",
   "id": "13d5a0fa-5089-49cd-93cc-8d8ed27afc15",
   "metadata": {},
   "source": [
    "#### 7.index()"
   ]
  },
  {
   "cell_type": "code",
   "execution_count": 32,
   "id": "38aa7181-bda3-4cb1-ac85-c5e49e8f8a09",
   "metadata": {},
   "outputs": [
    {
     "name": "stdout",
     "output_type": "stream",
     "text": [
      "Index of 'b': 1\n"
     ]
    }
   ],
   "source": [
    "letters = ['a','b','c','b']\n",
    "print(\"Index of 'b':\", letters.index('b'))"
   ]
  },
  {
   "cell_type": "code",
   "execution_count": 42,
   "id": "ece353eb-a86a-4866-bc16-777a520cb757",
   "metadata": {},
   "outputs": [
    {
     "name": "stdout",
     "output_type": "stream",
     "text": [
      "5\n",
      "6\n",
      "1\n"
     ]
    }
   ],
   "source": [
    "list=[1,2,'nish',2,'sneh',12,4]\n",
    "print(list.index(12))\n",
    "print(list.index(4))\n",
    "print(list.index(2))"
   ]
  },
  {
   "cell_type": "markdown",
   "id": "f174650e-de91-40d4-ae37-45782f2b4f6f",
   "metadata": {},
   "source": [
    "### 8.count()\n",
    "how many times a specified element appears in the list"
   ]
  },
  {
   "cell_type": "code",
   "execution_count": 44,
   "id": "c4135b92-8aa6-40e9-8f1d-3d747d71990a",
   "metadata": {},
   "outputs": [
    {
     "name": "stdout",
     "output_type": "stream",
     "text": [
      "Count of 'b': 3\n"
     ]
    }
   ],
   "source": [
    "letters = ['a','b','b','c','b']\n",
    "print(\"Count of 'b':\", letters.count('b'))"
   ]
  },
  {
   "cell_type": "code",
   "execution_count": 53,
   "id": "20fc6fab-7723-42bc-b260-707d03fe2dbc",
   "metadata": {},
   "outputs": [
    {
     "data": {
      "text/plain": [
       "1"
      ]
     },
     "execution_count": 53,
     "metadata": {},
     "output_type": "execute_result"
    }
   ],
   "source": [
    "list=[1,2,1,1.5,1,12,'nish']\n",
    "list.count(12)\n",
    "list.count(1)\n",
    "list.count('nish')\n"
   ]
  },
  {
   "cell_type": "markdown",
   "id": "7ac40b9b-96a3-415f-a8a7-c8bf6af99b6e",
   "metadata": {},
   "source": [
    "#### 9.sort()   \n",
    "will arrange in ascending order\n",
    "#### 10.sort.reverse()\n",
    "will arrange in decending order"
   ]
  },
  {
   "cell_type": "code",
   "execution_count": 55,
   "id": "6db2882b-27c2-4d76-887c-edf0584c7f2a",
   "metadata": {},
   "outputs": [
    {
     "name": "stdout",
     "output_type": "stream",
     "text": [
      "Sorted: [2, 2, 5, 9]\n"
     ]
    }
   ],
   "source": [
    "nums = [5, 2, 9, 2]\n",
    "nums.sort()\n",
    "print(\"Sorted:\", nums)"
   ]
  },
  {
   "cell_type": "code",
   "execution_count": 63,
   "id": "a89eedb3-ff2e-450f-8441-02a39b303b7b",
   "metadata": {},
   "outputs": [
    {
     "name": "stdout",
     "output_type": "stream",
     "text": [
      "Sorted: [9, 5, 2, 2]\n"
     ]
    }
   ],
   "source": [
    "nums = [5, 2, 9, 2]\n",
    "nums.sort(reverse=True)\n",
    "print(\"Sorted:\", nums)"
   ]
  },
  {
   "cell_type": "code",
   "execution_count": 59,
   "id": "86af8dd0-7ce8-425c-922b-4764ce07693e",
   "metadata": {},
   "outputs": [
    {
     "name": "stdout",
     "output_type": "stream",
     "text": [
      "[1.5, 2, 3]\n"
     ]
    }
   ],
   "source": [
    "mix=[3,2,1.5]\n",
    "mix.sort()\n",
    "print(mix)"
   ]
  },
  {
   "cell_type": "code",
   "execution_count": 2,
   "id": "5576b59b-ec36-4cde-91ca-f3dd68b3aca6",
   "metadata": {},
   "outputs": [
    {
     "name": "stdout",
     "output_type": "stream",
     "text": [
      "[4, 3, 2, 1.5]\n"
     ]
    }
   ],
   "source": [
    "mix=[3,2,1.5,4]\n",
    "mix.sort(reverse=True)\n",
    "print(mix)"
   ]
  },
  {
   "cell_type": "code",
   "execution_count": 61,
   "id": "cae2af62-dcfb-4139-a5eb-3790b9dbda2c",
   "metadata": {},
   "outputs": [
    {
     "name": "stdout",
     "output_type": "stream",
     "text": [
      "['zebra', 'orange', 'aeroplane']\n"
     ]
    }
   ],
   "source": [
    "mix=['aeroplane','zebra','orange']\n",
    "mix.sort(reverse=True)\n",
    "print(mix)\n"
   ]
  },
  {
   "cell_type": "code",
   "execution_count": 62,
   "id": "ba4d8a9b-23e9-4917-8b7d-4dea5b98cac9",
   "metadata": {},
   "outputs": [
    {
     "name": "stdout",
     "output_type": "stream",
     "text": [
      "['aeroplane', 'orange', 'zebra']\n"
     ]
    }
   ],
   "source": [
    "mix=['aeroplane','zebra','orange']\n",
    "mix.sort()\n",
    "print(mix)"
   ]
  },
  {
   "cell_type": "markdown",
   "id": "9f477d27-816e-4a6b-83f6-38ff6c91fdc1",
   "metadata": {},
   "source": [
    "#### 11.reverse"
   ]
  },
  {
   "cell_type": "code",
   "execution_count": 65,
   "id": "8fa138fb-877d-42cf-9740-e0060d1b593d",
   "metadata": {},
   "outputs": [
    {
     "name": "stdout",
     "output_type": "stream",
     "text": [
      "After reverse: [89, 56, 78]\n"
     ]
    }
   ],
   "source": [
    "nums = [78, 56, 89]\n",
    "nums.reverse()\n",
    "print(\"After reverse:\", nums)"
   ]
  },
  {
   "cell_type": "code",
   "execution_count": 66,
   "id": "ca9522f8-26cb-4e73-89b1-2336263ff2b9",
   "metadata": {},
   "outputs": [
    {
     "name": "stdout",
     "output_type": "stream",
     "text": [
      "[12, 'manan', 'megha', 'nishi']\n"
     ]
    }
   ],
   "source": [
    "letters=['nishi','megha','manan',12]\n",
    "letters.reverse()\n",
    "print(letters)"
   ]
  },
  {
   "cell_type": "markdown",
   "id": "95ed400a-a441-4009-8d77-37fb5b802aa1",
   "metadata": {},
   "source": [
    "#### 12. slicing"
   ]
  },
  {
   "cell_type": "code",
   "execution_count": 2,
   "id": "79b5c8ed-89f2-4c33-b50a-47aa75259c5d",
   "metadata": {},
   "outputs": [
    {
     "name": "stdout",
     "output_type": "stream",
     "text": [
      "nums[1:4] = [20, 30, 40]\n",
      "nums[:3] = [10, 20, 30]\n",
      "nums[::2] = [10, 30, 50]\n",
      "nums[::-1] = [50, 40, 30, 20, 10]\n"
     ]
    }
   ],
   "source": [
    "nums = [10, 20, 30, 40, 50]\n",
    "print(\"nums[1:4] =\", nums[1:4]) # elements from index 1 up to (but not including) index 4\n",
    "print(\"nums[:3] =\", nums[:3])  #Slicing from the beginning to a specific index\n",
    "print(\"nums[::2] =\", nums[::2]) ## Get every second element from the list.starting from the beginning\n",
    "print(\"nums[::-1] =\", nums[::-1]) # Reversing a list using slicing"
   ]
  },
  {
   "cell_type": "markdown",
   "id": "9d1856c9-1f2c-47f2-bd7a-e9fb937b49f6",
   "metadata": {},
   "source": [
    "#### 13.Concatenation & Repetition"
   ]
  },
  {
   "cell_type": "code",
   "execution_count": 68,
   "id": "3bf49a33-76c6-4027-8142-e2f65f2e3aeb",
   "metadata": {},
   "outputs": [
    {
     "name": "stdout",
     "output_type": "stream",
     "text": [
      "[1, 2, 3, 4]\n",
      "[1, 2, 1, 2, 1, 2]\n"
     ]
    }
   ],
   "source": [
    "print([1,2] + [3,4])\n",
    "print([1,2] * 3)\n"
   ]
  },
  {
   "cell_type": "code",
   "execution_count": 70,
   "id": "692ff597-a8b8-4895-9b5d-7dd89b05f001",
   "metadata": {},
   "outputs": [
    {
     "name": "stdout",
     "output_type": "stream",
     "text": [
      "['nishi', 2, 3, 1.5, 'tyagi']\n"
     ]
    }
   ],
   "source": [
    "print(['nishi',2] + [3,1.5,'tyagi'])"
   ]
  },
  {
   "cell_type": "code",
   "execution_count": 73,
   "id": "1b72f04c-b6df-4b92-992d-0a69ba045060",
   "metadata": {},
   "outputs": [
    {
     "name": "stdout",
     "output_type": "stream",
     "text": [
      "['a', 1, 'nishi', 12.23, 'a', 1, 'nishi', 12.23, 'a', 1, 'nishi', 12.23, 'a', 1, 'nishi', 12.23, 'a', 1, 'nishi', 12.23, 'a', 1, 'nishi', 12.23, 'a', 1, 'nishi', 12.23, 'a', 1, 'nishi', 12.23, 'a', 1, 'nishi', 12.23, 'a', 1, 'nishi', 12.23, 'a', 1, 'nishi', 12.23, 'a', 1, 'nishi', 12.23]\n"
     ]
    }
   ],
   "source": [
    "print(['a',1,'nishi',12.23]*12)"
   ]
  },
  {
   "cell_type": "markdown",
   "id": "f774ed85-edf1-4405-8f53-57a5aa952e85",
   "metadata": {},
   "source": [
    "# TUPLES"
   ]
  },
  {
   "cell_type": "markdown",
   "id": "730e7fc8-0eca-41c5-900f-2ab4a85fc19f",
   "metadata": {},
   "source": [
    "**Definition:** A tuple is an ordered, immutable collection.\n",
    "\n",
    "- Allows duplicates\n",
    "\n",
    "- Good for fixed record\n"
   ]
  },
  {
   "cell_type": "code",
   "execution_count": null,
   "id": "cd372e81-a5aa-4405-b90d-6691a7727b3a",
   "metadata": {},
   "outputs": [],
   "source": []
  },
  {
   "cell_type": "code",
   "execution_count": null,
   "id": "5f8f36e6-b799-4e3b-b35a-b5fbe33839ba",
   "metadata": {},
   "outputs": [],
   "source": []
  },
  {
   "cell_type": "markdown",
   "id": "d50dd114-55c5-42cf-b4bc-8314b0cd20be",
   "metadata": {},
   "source": [
    "#### creating tuples"
   ]
  },
  {
   "cell_type": "code",
   "execution_count": 4,
   "id": "34f5eb2c-c27d-4b91-8763-88544fd9453f",
   "metadata": {},
   "outputs": [
    {
     "name": "stdout",
     "output_type": "stream",
     "text": [
      "Tuple: (10, 20, 30)\n",
      "Single element tuple: (42,)\n"
     ]
    }
   ],
   "source": [
    "t = (10, 20, 30)\n",
    "single = (42,)\n",
    "print(\"Tuple:\", t)\n",
    "print(\"Single element tuple:\", single)"
   ]
  },
  {
   "cell_type": "code",
   "execution_count": 5,
   "id": "6ea25165-f4ed-4569-b3e5-148d7e806e86",
   "metadata": {},
   "outputs": [
    {
     "name": "stdout",
     "output_type": "stream",
     "text": [
      "42\n",
      "<class 'int'>\n",
      "<class 'tuple'>\n"
     ]
    }
   ],
   "source": [
    "t1= (42)   #this is an integer not a tuple\n",
    "print(t1)\n",
    "print(type(t1))\n",
    "print(type(single))"
   ]
  },
  {
   "cell_type": "code",
   "execution_count": 6,
   "id": "9c55faec-c73e-47a9-88f5-c83f3b0c5b5a",
   "metadata": {},
   "outputs": [
    {
     "name": "stdout",
     "output_type": "stream",
     "text": [
      "(10, 20, 30)\n",
      "<class 'tuple'>\n"
     ]
    }
   ],
   "source": [
    "t2= 10,20,30\n",
    "print(t2)\n",
    "print(type(t2))"
   ]
  },
  {
   "cell_type": "markdown",
   "id": "4d4268e0-03cd-4478-8e3f-2ebe44284ab9",
   "metadata": {},
   "source": [
    "#### Tuple Methods"
   ]
  },
  {
   "cell_type": "markdown",
   "id": "e85a19e6-01d5-47ea-9d49-f786d95cf8e5",
   "metadata": {},
   "source": [
    "#### 1.len()\n"
   ]
  },
  {
   "cell_type": "code",
   "execution_count": 76,
   "id": "3125c8d0-828d-4c8e-98fe-91b31a8505c4",
   "metadata": {},
   "outputs": [
    {
     "name": "stdout",
     "output_type": "stream",
     "text": [
      "Length: 3\n"
     ]
    }
   ],
   "source": [
    "t = (10,20,30)\n",
    "print(\"Length:\", len(t))"
   ]
  },
  {
   "cell_type": "markdown",
   "id": "1016ada9-0a4e-43f7-8bcf-dfb78a62513e",
   "metadata": {},
   "source": [
    "#### 2.tuple.count()"
   ]
  },
  {
   "cell_type": "code",
   "execution_count": 78,
   "id": "209936ce-4913-4d4f-849f-2a671e34883f",
   "metadata": {},
   "outputs": [
    {
     "name": "stdout",
     "output_type": "stream",
     "text": [
      "Count of 1: 3\n"
     ]
    }
   ],
   "source": [
    "t = (1,2,1,3,1)\n",
    "print(\"Count of 1:\", t.count(1))"
   ]
  },
  {
   "cell_type": "markdown",
   "id": "c17ddb69-f1f1-4f68-95fe-80e3ead5b42d",
   "metadata": {},
   "source": [
    "### 3. tuple.index()\n"
   ]
  },
  {
   "cell_type": "code",
   "execution_count": 79,
   "id": "61bce637-2370-41f6-ba4a-efd8b952ed2d",
   "metadata": {},
   "outputs": [
    {
     "name": "stdout",
     "output_type": "stream",
     "text": [
      "Index of 20: 1\n"
     ]
    }
   ],
   "source": [
    "t = (10,20,30,20)\n",
    "print(\"Index of 20:\", t.index(20))\n"
   ]
  },
  {
   "cell_type": "markdown",
   "id": "5c201808-34ba-4cce-9161-dc3d507d7c42",
   "metadata": {},
   "source": [
    "#### 4.Indexing & Slicing"
   ]
  },
  {
   "cell_type": "code",
   "execution_count": 80,
   "id": "a961f49b-d5da-4f61-8535-c5877138ba01",
   "metadata": {},
   "outputs": [
    {
     "name": "stdout",
     "output_type": "stream",
     "text": [
      "t[0] = a\n",
      "t[-1] = d\n",
      "t[1:3] = ('b', 'c')\n"
     ]
    }
   ],
   "source": [
    "t = ('a','b','c','d')\n",
    "print(\"t[0] =\", t[0])\n",
    "print(\"t[-1] =\", t[-1])\n",
    "print(\"t[1:3] =\", t[1:3])"
   ]
  },
  {
   "cell_type": "markdown",
   "id": "c8992632-1a12-4e16-bade-56273cab9564",
   "metadata": {},
   "source": [
    "#### 5.Concatenation & Repetition"
   ]
  },
  {
   "cell_type": "code",
   "execution_count": 81,
   "id": "7fd90f62-3847-4778-b75d-ac827ea236ac",
   "metadata": {},
   "outputs": [
    {
     "name": "stdout",
     "output_type": "stream",
     "text": [
      "t1+t2: (1, 2, 3, 4)\n",
      "t1*3: (1, 2, 1, 2, 1, 2)\n"
     ]
    }
   ],
   "source": [
    "t1 = (1,2)\n",
    "t2 = (3,4)\n",
    "print(\"t1+t2:\", t1+t2)\n",
    "print(\"t1*3:\", t1*3)"
   ]
  },
  {
   "cell_type": "markdown",
   "id": "9404dc84-0ea5-4144-a0a7-bc08f569da46",
   "metadata": {},
   "source": [
    "#### 6. Membership"
   ]
  },
  {
   "cell_type": "code",
   "execution_count": 1,
   "id": "35bdd1a2-8d43-4390-90b4-65f2c31a8329",
   "metadata": {},
   "outputs": [
    {
     "name": "stdout",
     "output_type": "stream",
     "text": [
      "True\n",
      "False\n"
     ]
    }
   ],
   "source": [
    "t = (1,2,3)\n",
    "print(2 in t)\n",
    "print(5 in t)\n"
   ]
  },
  {
   "cell_type": "code",
   "execution_count": 86,
   "id": "f6d9835a-e7b0-40c8-8c75-00629f0208e1",
   "metadata": {},
   "outputs": [
    {
     "name": "stdout",
     "output_type": "stream",
     "text": [
      "True\n"
     ]
    }
   ],
   "source": [
    "print(7 not in t)"
   ]
  },
  {
   "cell_type": "markdown",
   "id": "288af331-43af-46c3-ac80-f2846c58a513",
   "metadata": {},
   "source": [
    "## SETS"
   ]
  },
  {
   "cell_type": "markdown",
   "id": "e851e907-ae35-476b-850f-f5c70fb2ab69",
   "metadata": {},
   "source": [
    "## Definition : A set is an unordered collection of unique elements.\n",
    "- No duplicates\n",
    "- No indexing/slicing\n",
    "- Great for membership tests and set operations"
   ]
  },
  {
   "cell_type": "markdown",
   "id": "218a7b56-815d-4752-8f6e-5c7f77a54f0a",
   "metadata": {},
   "source": [
    "#### Create & Deduplicate"
   ]
  },
  {
   "cell_type": "code",
   "execution_count": 1,
   "id": "155f114b-a4e5-4802-8a9d-3076ccc2840e",
   "metadata": {},
   "outputs": [
    {
     "name": "stdout",
     "output_type": "stream",
     "text": [
      "s: {1, 2, 3}\n",
      "dedup: {1, 2, 3}\n"
     ]
    }
   ],
   "source": [
    "s = {1,2,3}\n",
    "dedup = set([1,2,2,3,3])\n",
    "print(\"s:\", s)\n",
    "print(\"dedup:\", dedup)"
   ]
  },
  {
   "cell_type": "markdown",
   "id": "ac077c7d-a807-4252-b079-e903be4ea190",
   "metadata": {},
   "source": [
    "###  Set Methods"
   ]
  },
  {
   "cell_type": "markdown",
   "id": "afd0a995-bdd4-4260-a59c-2c7274f6359f",
   "metadata": {},
   "source": [
    "#### len()"
   ]
  },
  {
   "cell_type": "code",
   "execution_count": 2,
   "id": "e92046c1-b852-43ff-b90e-ea79832479b6",
   "metadata": {},
   "outputs": [
    {
     "name": "stdout",
     "output_type": "stream",
     "text": [
      "Size: 3\n"
     ]
    }
   ],
   "source": [
    "s = {1,1,2,3}\n",
    "print(\"Size:\", len(s))"
   ]
  },
  {
   "cell_type": "markdown",
   "id": "2173c1ea-ab7d-4956-bd43-fd7d355c79a0",
   "metadata": {},
   "source": [
    "#### add()"
   ]
  },
  {
   "cell_type": "code",
   "execution_count": 3,
   "id": "e4d04b5b-2edc-4651-87d8-c2370ef07124",
   "metadata": {},
   "outputs": [
    {
     "name": "stdout",
     "output_type": "stream",
     "text": [
      "After add: {1, 2, 3}\n"
     ]
    }
   ],
   "source": [
    "s = {1,2}\n",
    "s.add(3)\n",
    "print(\"After add:\", s)"
   ]
  },
  {
   "cell_type": "markdown",
   "id": "33ccedd7-dfaa-4c86-832d-d9ec162368f9",
   "metadata": {},
   "source": [
    " ### update()"
   ]
  },
  {
   "cell_type": "code",
   "execution_count": 4,
   "id": "24a6d108-0561-437b-ad9d-264a990d772f",
   "metadata": {},
   "outputs": [
    {
     "name": "stdout",
     "output_type": "stream",
     "text": [
      "After update: {1, 2, 3, 4, 5}\n"
     ]
    }
   ],
   "source": [
    "s = {1}\n",
    "s.update([2,3], {4,5})\n",
    "print(\"After update:\", s)\n"
   ]
  },
  {
   "cell_type": "code",
   "execution_count": 8,
   "id": "249357cb-76e4-415d-8ca2-13dd7f45f732",
   "metadata": {},
   "outputs": [
    {
     "name": "stdout",
     "output_type": "stream",
     "text": [
      "{1, 2, 3, 4, 7, 89}\n"
     ]
    }
   ],
   "source": [
    "s1={1,2,3,4}\n",
    "s1.update({1,2,3,7,89})\n",
    "print(s1)"
   ]
  },
  {
   "cell_type": "markdown",
   "id": "1f312043-5e5c-48c5-bb8a-d9a6f2e1ad0d",
   "metadata": {},
   "source": [
    "### remove()"
   ]
  },
  {
   "cell_type": "code",
   "execution_count": 13,
   "id": "481b03e4-e556-4553-9e96-6c11343c1e1b",
   "metadata": {},
   "outputs": [
    {
     "name": "stdout",
     "output_type": "stream",
     "text": [
      "After remove: {1, 3}\n"
     ]
    }
   ],
   "source": [
    "s = {1,2,3}\n",
    "s.remove(2)\n",
    "print(\"After remove:\", s)"
   ]
  },
  {
   "cell_type": "markdown",
   "id": "83b6c033-9212-40f7-be92-8b4bbac93f7e",
   "metadata": {},
   "source": [
    "### discard()"
   ]
  },
  {
   "cell_type": "code",
   "execution_count": 11,
   "id": "ca89659a-1bdf-45f6-ac83-51bb56391724",
   "metadata": {},
   "outputs": [
    {
     "name": "stdout",
     "output_type": "stream",
     "text": [
      "After discard: {1}\n"
     ]
    }
   ],
   "source": [
    "s = {1,2}\n",
    "s.discard(2)\n",
    "s.discard(99)\n",
    "print(\"After discard:\", s)"
   ]
  },
  {
   "cell_type": "markdown",
   "id": "457830f6-9cbf-4bce-a3f2-6ca0aec91021",
   "metadata": {},
   "source": [
    "### pop()"
   ]
  },
  {
   "cell_type": "code",
   "execution_count": 15,
   "id": "5a542b80-d6ec-4e7c-8979-559caebb9625",
   "metadata": {},
   "outputs": [
    {
     "name": "stdout",
     "output_type": "stream",
     "text": [
      "Removed: 10\n",
      "Remaining: {20, 30}\n"
     ]
    }
   ],
   "source": [
    "s = {10,20,30}\n",
    "removed = s.pop()\n",
    "print(\"Removed:\", removed)\n",
    "print(\"Remaining:\", s)"
   ]
  },
  {
   "cell_type": "code",
   "execution_count": 16,
   "id": "2f0256cc-6a9e-4593-b65f-ebc45b101080",
   "metadata": {},
   "outputs": [
    {
     "name": "stdout",
     "output_type": "stream",
     "text": [
      "Removed: 10\n",
      "Remaining: {20, 30}\n"
     ]
    }
   ],
   "source": [
    "s = {10,20,30}\n",
    "removed = s.pop()\n",
    "print(\"Removed:\", removed)\n",
    "print(\"Remaining:\", s)"
   ]
  },
  {
   "cell_type": "code",
   "execution_count": 17,
   "id": "c8c6dca3-e136-4b99-ac9a-2134fe98072a",
   "metadata": {},
   "outputs": [
    {
     "name": "stdout",
     "output_type": "stream",
     "text": [
      "Removed: 50\n",
      "Remaining: {20, 30}\n"
     ]
    }
   ],
   "source": [
    "s = {50,20,30}\n",
    "removed = s.pop()\n",
    "print(\"Removed:\", removed)\n",
    "print(\"Remaining:\", s)"
   ]
  },
  {
   "cell_type": "code",
   "execution_count": 21,
   "id": "613fadc8-f646-4a32-be0d-51dc16044ca2",
   "metadata": {},
   "outputs": [
    {
     "name": "stdout",
     "output_type": "stream",
     "text": [
      "Removed: litchi\n",
      "Remaining: {'apple', 'cherry'}\n"
     ]
    }
   ],
   "source": [
    "set2 = {\"apple\",\"litchi\",\"cherry\"}\n",
    "removed = set2.pop()\n",
    "print(\"Removed:\", removed)\n",
    "print(\"Remaining:\", set2)"
   ]
  },
  {
   "cell_type": "markdown",
   "id": "bc122ed3-20e2-4d75-819a-68d0d4b326e3",
   "metadata": {},
   "source": [
    "### clear()"
   ]
  },
  {
   "cell_type": "code",
   "execution_count": 22,
   "id": "0352d8a2-dcf8-499b-82ef-4f81f567323c",
   "metadata": {},
   "outputs": [
    {
     "name": "stdout",
     "output_type": "stream",
     "text": [
      "After clear: set()\n"
     ]
    }
   ],
   "source": [
    "s = {1,2,3}\n",
    "s.clear()\n",
    "print(\"After clear:\", s)"
   ]
  },
  {
   "cell_type": "markdown",
   "id": "214de681-d94f-499f-8707-6cded5b629a5",
   "metadata": {},
   "source": [
    "### union()"
   ]
  },
  {
   "cell_type": "code",
   "execution_count": 23,
   "id": "b41f93aa-dc55-416d-888a-80f78c4f43f4",
   "metadata": {},
   "outputs": [
    {
     "name": "stdout",
     "output_type": "stream",
     "text": [
      "A.union(B): {1, 2, 3, 4, 5}\n"
     ]
    }
   ],
   "source": [
    "A, B = {1,2,3}, {3,4,5}\n",
    "print(\"A.union(B):\", A.union(B))"
   ]
  },
  {
   "cell_type": "markdown",
   "id": "87ac52f9-7c2d-4932-a52f-5ed7ad873683",
   "metadata": {},
   "source": [
    "### intersection()"
   ]
  },
  {
   "cell_type": "code",
   "execution_count": 24,
   "id": "f65f4f23-db7d-4b9e-b77b-d4b785e1c2c3",
   "metadata": {},
   "outputs": [
    {
     "name": "stdout",
     "output_type": "stream",
     "text": [
      "A.intersection(B): {2, 3}\n"
     ]
    }
   ],
   "source": [
    "A, B = {1,2,3}, {2,3,4}\n",
    "print(\"A.intersection(B):\", A.intersection(B))\n"
   ]
  },
  {
   "cell_type": "markdown",
   "id": "70ea0464-3fcf-4061-b3dc-5dae2b4c8d93",
   "metadata": {},
   "source": [
    "### difference()"
   ]
  },
  {
   "cell_type": "code",
   "execution_count": 26,
   "id": "5c40e466-6aa1-46e7-84dd-181987d7bcf5",
   "metadata": {},
   "outputs": [
    {
     "name": "stdout",
     "output_type": "stream",
     "text": [
      "A.difference(B): {4}\n"
     ]
    }
   ],
   "source": [
    "A, B = {1,2,3}, {2,3,4}\n",
    "print(\"A.difference(B):\", B.difference(A))"
   ]
  },
  {
   "cell_type": "markdown",
   "id": "42abbf2f-5f1b-4b70-9dec-238cc3c00a0c",
   "metadata": {},
   "source": [
    "###  symmetric_difference()"
   ]
  },
  {
   "cell_type": "code",
   "execution_count": 30,
   "id": "0a6cee73-c1b1-42cc-91ba-0087dc9ffcb2",
   "metadata": {},
   "outputs": [
    {
     "name": "stdout",
     "output_type": "stream",
     "text": [
      "A.symmetric_difference(B): {1, 4}\n"
     ]
    }
   ],
   "source": [
    "A, B = {1,2,3}, {2,3,4}\n",
    "print(\"A.symmetric_difference(B):\", A.symmetric_difference(B))"
   ]
  },
  {
   "cell_type": "code",
   "execution_count": 29,
   "id": "20fdb4e0-8a51-4ab8-8604-ee92016306bd",
   "metadata": {},
   "outputs": [
    {
     "name": "stdout",
     "output_type": "stream",
     "text": [
      "ASHER.symmetric_difference(BHOLA): {64, 1, 4, 7, 8, 45}\n"
     ]
    }
   ],
   "source": [
    "ASHER, BHOLA = {1,2,3,45,64,64}, {2,3,4,7,8}\n",
    "print(\"ASHER.symmetric_difference(BHOLA):\", ASHER.symmetric_difference(BHOLA))"
   ]
  },
  {
   "cell_type": "code",
   "execution_count": 34,
   "id": "31e51c79-2261-4c05-a14a-dcc51cfb7eae",
   "metadata": {},
   "outputs": [
    {
     "name": "stdout",
     "output_type": "stream",
     "text": [
      "A.symmetric_difference(B): {2.5, 2, 'HI', 4}\n"
     ]
    }
   ],
   "source": [
    "A, B = {'HI',2.5,3}, {2,3,4}\n",
    "print(\"A.symmetric_difference(B):\", A.symmetric_difference(B))"
   ]
  },
  {
   "cell_type": "markdown",
   "id": "061691e9-1ffe-49b6-845f-047ee1fe27d6",
   "metadata": {},
   "source": [
    "###  issubset, issuperset, isdisjoint"
   ]
  },
  {
   "cell_type": "code",
   "execution_count": 40,
   "id": "4cae7632-fa94-4a18-be72-39c1622de7d6",
   "metadata": {},
   "outputs": [
    {
     "name": "stdout",
     "output_type": "stream",
     "text": [
      "A.issubset(B): True\n",
      "B.issuperset(A): False\n",
      "A.isdisjoint(C): True\n"
     ]
    }
   ],
   "source": [
    "A = {1,2}\n",
    "B = {1,2,3}\n",
    "C = {7,8}\n",
    "print(\"A.issubset(B):\", A.issubset(B))\n",
    "print(\"B.issuperset(A):\", B.issuperset(C))\n",
    "print(\"A.isdisjoint(C):\", A.isdisjoint(C))"
   ]
  },
  {
   "cell_type": "markdown",
   "id": "b3316df6-2306-4bec-88b1-ab1709f855a8",
   "metadata": {},
   "source": [
    "#### . Dictionaries"
   ]
  },
  {
   "cell_type": "markdown",
   "id": "f4ff9192-71cf-4ba4-be8d-1e40886f18d9",
   "metadata": {},
   "source": [
    "Definition: A dictionary maps unique, immutable keys to values.\n",
    "Mutable\n",
    "Fast lookups\n",
    "Preserves insertion order"
   ]
  },
  {
   "cell_type": "markdown",
   "id": "e85761d3-f7f2-4997-bb9d-43307b8db4cb",
   "metadata": {},
   "source": [
    "### Creating Dictionaries"
   ]
  },
  {
   "cell_type": "code",
   "execution_count": 41,
   "id": "d5d9c6d2-f44d-4898-8fa0-a079a8851f98",
   "metadata": {},
   "outputs": [
    {
     "name": "stdout",
     "output_type": "stream",
     "text": [
      "person: {'name': 'Pankaj', 'role': 'data scientist'}\n",
      "pairs: {'x': 1, 'y': 2}\n"
     ]
    }
   ],
   "source": [
    "person = {\"name\":\"Pankaj\", \"role\":\"data scientist\"}\n",
    "pairs = dict([(\"x\",1),(\"y\",2)])\n",
    "print(\"person:\", person)\n",
    "print(\"pairs:\", pairs)\n"
   ]
  },
  {
   "cell_type": "markdown",
   "id": "e01f5246-a921-410d-9115-803ed208f9d0",
   "metadata": {},
   "source": [
    "### Dictionary Methods"
   ]
  },
  {
   "cell_type": "markdown",
   "id": "7f88b450-7d0d-459a-9859-962d811c7c13",
   "metadata": {},
   "source": [
    " ## len()"
   ]
  },
  {
   "cell_type": "code",
   "execution_count": 42,
   "id": "cf3b7fb4-fdda-4802-b2eb-c70103aebb50",
   "metadata": {},
   "outputs": [
    {
     "name": "stdout",
     "output_type": "stream",
     "text": [
      "Length: 2\n"
     ]
    }
   ],
   "source": [
    "d = {\"a\":1, \"b\":2}\n",
    "print(\"Length:\", len(d))"
   ]
  },
  {
   "cell_type": "markdown",
   "id": "c349349d-1b72-4ebb-9c0d-03c2f9098bc3",
   "metadata": {},
   "source": [
    "###  Access: [] vs get()"
   ]
  },
  {
   "cell_type": "code",
   "execution_count": 43,
   "id": "ffdc1d02-4d05-4ffb-966a-3795a7735853",
   "metadata": {},
   "outputs": [
    {
     "name": "stdout",
     "output_type": "stream",
     "text": [
      "name: Mayank\n",
      "salary with get: None\n"
     ]
    }
   ],
   "source": [
    "d = {\"name\":\"Mayank\", \"age\":28}\n",
    "print(\"name:\", d[\"name\"])\n",
    "print(\"salary with get:\", d.get(\"salary\"))"
   ]
  },
  {
   "cell_type": "markdown",
   "id": "75fbb0cc-e1d4-4a65-90e8-e5fd35619b53",
   "metadata": {},
   "source": [
    "### Insert/Update"
   ]
  },
  {
   "cell_type": "code",
   "execution_count": 44,
   "id": "9a99c199-46d7-4f3e-bf09-d367f6ddce85",
   "metadata": {},
   "outputs": [
    {
     "name": "stdout",
     "output_type": "stream",
     "text": [
      "After assignments: {'lang': 'Python', 'year': 1991}\n"
     ]
    }
   ],
   "source": [
    "d = {}\n",
    "d[\"lang\"] = \"Python\"\n",
    "d[\"year\"] = 1991\n",
    "print(\"After assignments:\", d)"
   ]
  },
  {
   "cell_type": "markdown",
   "id": "c011d974-626a-4b7a-9df6-8e8319f8f5be",
   "metadata": {},
   "source": [
    "### update()"
   ]
  },
  {
   "cell_type": "code",
   "execution_count": 45,
   "id": "ff4e8c1f-aa2d-42db-940f-be0ec77f62ea",
   "metadata": {},
   "outputs": [
    {
     "name": "stdout",
     "output_type": "stream",
     "text": [
      "After update: {'a': 1, 'b': 20, 'c': 3}\n"
     ]
    }
   ],
   "source": [
    "d = {\"a\":1, \"b\":2}\n",
    "d.update({\"b\":20, \"c\":3})\n",
    "print(\"After update:\", d)\n"
   ]
  },
  {
   "cell_type": "markdown",
   "id": "81d70682-64fd-4147-9414-3d7ecf550135",
   "metadata": {},
   "source": [
    "### pop()\n"
   ]
  },
  {
   "cell_type": "code",
   "execution_count": 46,
   "id": "caf0f9e1-3471-4302-9101-bf297f25443d",
   "metadata": {},
   "outputs": [
    {
     "name": "stdout",
     "output_type": "stream",
     "text": [
      "Popped a: 1 | d now: {'b': 2}\n"
     ]
    }
   ],
   "source": [
    "d = {\"a\":1, \"b\":2}\n",
    "val = d.pop(\"a\")\n",
    "print(\"Popped a:\", val, \"| d now:\", d)"
   ]
  },
  {
   "cell_type": "markdown",
   "id": "fab57af5-e0cf-46ec-97b2-690553a1f7e1",
   "metadata": {},
   "source": [
    "### popitem()"
   ]
  },
  {
   "cell_type": "code",
   "execution_count": 47,
   "id": "b83ab24b-b53b-4ba1-b6ed-53734109b3dc",
   "metadata": {},
   "outputs": [
    {
     "name": "stdout",
     "output_type": "stream",
     "text": [
      "Popped item: ('z', 3) | d now: {'x': 1, 'y': 2}\n"
     ]
    }
   ],
   "source": [
    "d = {\"x\":1, \"y\":2, \"z\":3}\n",
    "item = d.popitem()\n",
    "print(\"Popped item:\", item, \"| d now:\", d)"
   ]
  },
  {
   "cell_type": "markdown",
   "id": "2601c08b-e2fe-42c3-ba71-65b835b782f9",
   "metadata": {},
   "source": [
    "###  clear()"
   ]
  },
  {
   "cell_type": "code",
   "execution_count": 48,
   "id": "40dfb7d6-10bc-4892-98f2-ea535b57c424",
   "metadata": {},
   "outputs": [
    {
     "name": "stdout",
     "output_type": "stream",
     "text": [
      "After clear: {}\n"
     ]
    }
   ],
   "source": [
    "d = {\"a\":1}\n",
    "d.clear()\n",
    "print(\"After clear:\", d)"
   ]
  },
  {
   "cell_type": "markdown",
   "id": "2ea76483-82a9-48d9-8384-22c5b02b569b",
   "metadata": {},
   "source": [
    "### keys(), values(), items()"
   ]
  },
  {
   "cell_type": "code",
   "execution_count": 49,
   "id": "702cfab8-99f5-462e-aebb-eeb6d28eb185",
   "metadata": {},
   "outputs": [
    {
     "name": "stdout",
     "output_type": "stream",
     "text": [
      "keys: ['name', 'role']\n",
      "values: ['Nishi', 'Data Scientist']\n",
      "items: [('name', 'Nishi'), ('role', 'Data Scientist')]\n"
     ]
    }
   ],
   "source": [
    "d = {\"name\":\"Nishi\", \"role\":\"Data Scientist\"}\n",
    "print(\"keys:\", list(d.keys()))\n",
    "print(\"values:\", list(d.values()))\n",
    "print(\"items:\", list(d.items()))\n"
   ]
  },
  {
   "cell_type": "code",
   "execution_count": null,
   "id": "40a7ca29-43cf-4732-aaf9-95090ae32dba",
   "metadata": {},
   "outputs": [],
   "source": []
  }
 ],
 "metadata": {
  "kernelspec": {
   "display_name": "Python 3 (ipykernel)",
   "language": "python",
   "name": "python3"
  },
  "language_info": {
   "codemirror_mode": {
    "name": "ipython",
    "version": 3
   },
   "file_extension": ".py",
   "mimetype": "text/x-python",
   "name": "python",
   "nbconvert_exporter": "python",
   "pygments_lexer": "ipython3",
   "version": "3.13.5"
  }
 },
 "nbformat": 4,
 "nbformat_minor": 5
}
