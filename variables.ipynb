{
 "cells": [
  {
   "cell_type": "markdown",
   "id": "02f25548-5679-4804-94e7-9ae08a33b426",
   "metadata": {},
   "source": [
    "# variable?\n",
    "a variable is a container that stores data in the memory of your computer\n",
    "\n",
    "you can store any data type in a variable\n",
    "\n",
    "syntax\n",
    "variable_name=data_to_be_stored\n",
    "\n"
   ]
  },
  {
   "cell_type": "markdown",
   "id": "b86872d8-5c88-455f-bcec-a43e80865e74",
   "metadata": {},
   "source": [
    "<font size=\"5\"> what is variable?<br>\n",
    "<font size=\"3\">a variable is a container that stores data in the memory of your computer.<br>\n",
    "<font size=\"3\">syntax -<br>\n",
    "<b>variable_name= data_to_be_stored"
   ]
  },
  {
   "cell_type": "code",
   "execution_count": 1,
   "id": "a3263585-288d-4cce-84b5-c620bae705ab",
   "metadata": {},
   "outputs": [
    {
     "name": "stdout",
     "output_type": "stream",
     "text": [
      "neeraj is in pyhton class\n",
      "ayush is in ml batch\n",
      "nishi is in python batch\n",
      "suraj is in ml batch\n",
      "himanshu is in python batch\n",
      "suhail is in ml batch\n",
      "akhilesh is in python batch\n",
      "ishi is in ml batch\n"
     ]
    }
   ],
   "source": [
    "print(\"neeraj is in pyhton class\")\n",
    "print(\"ayush is in ml batch\")\n",
    "print(\"nishi is in python batch\")\n",
    "print(\"suraj is in ml batch\")\n",
    "print(\"himanshu is in python batch\")\n",
    "print(\"suhail is in ml batch\")\n",
    "print(\"akhilesh is in python batch\")\n",
    "print(\"ishi is in ml batch\")"
   ]
  },
  {
   "cell_type": "code",
   "execution_count": 2,
   "id": "de783f79-468b-4150-a27a-f293a1cd5cf2",
   "metadata": {},
   "outputs": [
    {
     "name": "stdout",
     "output_type": "stream",
     "text": [
      "neeraj ,himanshu ,akhilesh and nishi are in python batch\n",
      "ayush, suhail, ishi and suraj are in ml batch\n"
     ]
    }
   ],
   "source": [
    "print(\"neeraj ,himanshu ,akhilesh and nishi are in python batch\")\n",
    "print(\"ayush, suhail, ishi and suraj are in ml batch\")\n"
   ]
  },
  {
   "cell_type": "code",
   "execution_count": 5,
   "id": "9d6165af-2862-4de7-b3f8-26cbb92f140a",
   "metadata": {},
   "outputs": [],
   "source": [
    "std1=\"neeraj\"\n",
    "std2=\"ayush\"\n",
    "std3=\"nishi\"\n",
    "std4=\"suraj\"\n",
    "std5=\"himanshu\"\n",
    "std6=\" suhail\"\n",
    "std7=\"akhilesh\"\n",
    "std8=\"ishi\"\n",
    "\n",
    "batch1=\"python batch\"\n",
    "batch2=\"ml batch\""
   ]
  },
  {
   "cell_type": "code",
   "execution_count": 6,
   "id": "70538618-e8bb-430d-9ccd-f23a7224a490",
   "metadata": {},
   "outputs": [
    {
     "name": "stdout",
     "output_type": "stream",
     "text": [
      "neeraj is in python batch\n",
      "ayush is in ml batch\n",
      "nishi is in python batch\n",
      "suraj is in ml batch\n"
     ]
    }
   ],
   "source": [
    "print(std1,\"is in\",batch1)\n",
    "print(std2,\"is in\",batch2)\n",
    "print(std3,\"is in\",batch1)\n",
    "print(std4,\"is in\",batch2)\n"
   ]
  },
  {
   "cell_type": "markdown",
   "id": "ed079361-7ad8-4b01-aa2a-7c4d01eb49d8",
   "metadata": {},
   "source": [
    "## float datatype"
   ]
  },
  {
   "cell_type": "code",
   "execution_count": 18,
   "id": "15eab162-1df7-4556-95c8-d5d4fc372fbf",
   "metadata": {},
   "outputs": [
    {
     "name": "stdout",
     "output_type": "stream",
     "text": [
      "height is 175.5 cm \n",
      "weight is 75.23 kg\n"
     ]
    }
   ],
   "source": [
    "height= 175.5\n",
    "weight= 75.23\n",
    "print(\"height is\",height,\"cm\",\"\\nweight is\",weight,\"kg\")"
   ]
  },
  {
   "cell_type": "code",
   "execution_count": 39,
   "id": "ef1f6dae-ed59-4c65-8b01-22ed0ecd3856",
   "metadata": {},
   "outputs": [
    {
     "name": "stdout",
     "output_type": "stream",
     "text": [
      "height is 175.5 \n",
      "weight is 75.23\n"
     ]
    }
   ],
   "source": [
    "height= 175.5 \n",
    "weight= 75.23 \n",
    "\n",
    "print(\"height is\",height,\"\\nweight is\",weight)"
   ]
  },
  {
   "cell_type": "markdown",
   "id": "1370e011-a1c7-4d53-b572-6143b79ba701",
   "metadata": {},
   "source": [
    "In the following cell syntax error is coming because a valid datatype is not being stored in the variables height and weight."
   ]
  },
  {
   "cell_type": "code",
   "execution_count": 48,
   "id": "f7c3a801-f7fb-452e-ab97-c94b21ee1785",
   "metadata": {},
   "outputs": [
    {
     "name": "stdout",
     "output_type": "stream",
     "text": [
      "height is 175.5 cm \n",
      "weight is 75.23 kg\n"
     ]
    }
   ],
   "source": [
    "height= \"175.5 cm\"\n",
    "weight= \"75.23 kg\"\n",
    "\n",
    "print(\"height is\",height,\"\\nweight is\",weight)"
   ]
  },
  {
   "cell_type": "code",
   "execution_count": 47,
   "id": "704259d0-0cad-4834-a6ea-bfc7120ac6d4",
   "metadata": {},
   "outputs": [
    {
     "ename": "TypeError",
     "evalue": "unsupported operand type(s) for /: 'str' and 'int'",
     "output_type": "error",
     "traceback": [
      "\u001b[31m---------------------------------------------------------------------------\u001b[39m",
      "\u001b[31mTypeError\u001b[39m                                 Traceback (most recent call last)",
      "\u001b[36mCell\u001b[39m\u001b[36m \u001b[39m\u001b[32mIn[47]\u001b[39m\u001b[32m, line 1\u001b[39m\n\u001b[32m----> \u001b[39m\u001b[32m1\u001b[39m bmi= (\u001b[43mheight\u001b[49m\u001b[43m/\u001b[49m\u001b[32;43m100\u001b[39;49m)/(weight**\u001b[32m2\u001b[39m)\n\u001b[32m      2\u001b[39m \u001b[38;5;28mprint\u001b[39m(\u001b[33m\"\u001b[39m\u001b[33mBMI is\u001b[39m\u001b[33m\"\u001b[39m,bmi)\n",
      "\u001b[31mTypeError\u001b[39m: unsupported operand type(s) for /: 'str' and 'int'"
     ]
    }
   ],
   "source": [
    "bmi= (height/100)/(weight**2)\n",
    "print(\"BMI is\",bmi)\n"
   ]
  },
  {
   "cell_type": "code",
   "execution_count": 43,
   "id": "5faee7e2-1d5d-45ef-ac76-41a7acbdcd37",
   "metadata": {},
   "outputs": [
    {
     "name": "stdout",
     "output_type": "stream",
     "text": [
      "175.5\n",
      "75.23\n"
     ]
    }
   ],
   "source": [
    "print(height)\n",
    "print(weight)"
   ]
  },
  {
   "cell_type": "code",
   "execution_count": 49,
   "id": "530a043c-17b8-46fe-a5c6-790285bdedc2",
   "metadata": {},
   "outputs": [
    {
     "ename": "TypeError",
     "evalue": "unsupported operand type(s) for /: 'str' and 'int'",
     "output_type": "error",
     "traceback": [
      "\u001b[31m---------------------------------------------------------------------------\u001b[39m",
      "\u001b[31mTypeError\u001b[39m                                 Traceback (most recent call last)",
      "\u001b[36mCell\u001b[39m\u001b[36m \u001b[39m\u001b[32mIn[49]\u001b[39m\u001b[32m, line 1\u001b[39m\n\u001b[32m----> \u001b[39m\u001b[32m1\u001b[39m \u001b[33;43m\"\u001b[39;49m\u001b[33;43m175.5\u001b[39;49m\u001b[33;43m\"\u001b[39;49m\u001b[43m/\u001b[49m\u001b[32;43m100\u001b[39;49m\n",
      "\u001b[31mTypeError\u001b[39m: unsupported operand type(s) for /: 'str' and 'int'"
     ]
    }
   ],
   "source": [
    "\"175.5\"/100   #invalid"
   ]
  },
  {
   "cell_type": "code",
   "execution_count": 50,
   "id": "4d6653d4-ff83-4dd1-84df-a8df4d5b8d10",
   "metadata": {},
   "outputs": [
    {
     "data": {
      "text/plain": [
       "1.755"
      ]
     },
     "execution_count": 50,
     "metadata": {},
     "output_type": "execute_result"
    }
   ],
   "source": [
    "175.5/100"
   ]
  },
  {
   "cell_type": "code",
   "execution_count": 51,
   "id": "4f8a2810-459d-42e8-bd8e-66de32819873",
   "metadata": {},
   "outputs": [
    {
     "name": "stdout",
     "output_type": "stream",
     "text": [
      "<class 'str'>\n"
     ]
    }
   ],
   "source": [
    "print(type(height)) #type is used to check the datatype"
   ]
  },
  {
   "cell_type": "code",
   "execution_count": 4,
   "id": "0d374ba4-7057-4031-963e-8c7ef44d2ccf",
   "metadata": {},
   "outputs": [
    {
     "name": "stdout",
     "output_type": "stream",
     "text": [
      "height is 175 \n",
      "weight is 50\n"
     ]
    }
   ],
   "source": [
    "height= 175\n",
    "weight= 50\n",
    "\n",
    "print(\"height is\",height,\"\\nweight is\",weight)"
   ]
  },
  {
   "cell_type": "code",
   "execution_count": 5,
   "id": "9bea6475-9170-42ba-a594-e73bb6fd5019",
   "metadata": {},
   "outputs": [
    {
     "name": "stdout",
     "output_type": "stream",
     "text": [
      "BMI is 0.0007\n"
     ]
    }
   ],
   "source": [
    "bmi= (height/100)/(weight**2)\n",
    "print(\"BMI is\",bmi)"
   ]
  },
  {
   "cell_type": "code",
   "execution_count": 1,
   "id": "7a8d01f9-bd20-427e-ad86-71bac17ae6ea",
   "metadata": {},
   "outputs": [
    {
     "name": "stdout",
     "output_type": "stream",
     "text": [
      "<class 'int'>\n"
     ]
    }
   ],
   "source": [
    "height=175\n",
    "print(type(height))"
   ]
  },
  {
   "cell_type": "code",
   "execution_count": 2,
   "id": "2be6d14f-ebc8-4a23-9d3b-058adffe4b35",
   "metadata": {},
   "outputs": [
    {
     "name": "stdout",
     "output_type": "stream",
     "text": [
      "<class 'float'>\n"
     ]
    }
   ],
   "source": [
    "height=float(175)\n",
    "print(type(height))"
   ]
  },
  {
   "cell_type": "code",
   "execution_count": 3,
   "id": "3323488e-5f83-401f-b934-c8001c5096e6",
   "metadata": {},
   "outputs": [
    {
     "name": "stdout",
     "output_type": "stream",
     "text": [
      "175.0\n"
     ]
    }
   ],
   "source": [
    "print(height)"
   ]
  },
  {
   "cell_type": "code",
   "execution_count": 4,
   "id": "0290bfd2-d4e3-4b34-b2e8-2c4e53715e3d",
   "metadata": {},
   "outputs": [
    {
     "name": "stdout",
     "output_type": "stream",
     "text": [
      "<class 'float'>\n"
     ]
    }
   ],
   "source": [
    "height=175.0\n",
    "print(type(height))"
   ]
  },
  {
   "cell_type": "code",
   "execution_count": 5,
   "id": "367004b7-83cd-48a9-a1b1-b489952d34a3",
   "metadata": {},
   "outputs": [
    {
     "name": "stdout",
     "output_type": "stream",
     "text": [
      "175.0\n"
     ]
    }
   ],
   "source": [
    "print(height)"
   ]
  },
  {
   "cell_type": "markdown",
   "id": "78de103d-f46d-43ad-96f2-6f3fdeb92efd",
   "metadata": {},
   "source": [
    "## typecasting"
   ]
  },
  {
   "cell_type": "code",
   "execution_count": 7,
   "id": "fd9431c1-c7a3-43e8-93b4-1e056d423db5",
   "metadata": {},
   "outputs": [
    {
     "name": "stdout",
     "output_type": "stream",
     "text": [
      "<class 'int'>\n"
     ]
    }
   ],
   "source": [
    "height=189\n",
    "print(type(height))"
   ]
  },
  {
   "cell_type": "code",
   "execution_count": 8,
   "id": "24a3059a-500b-4aa6-b7a6-26ec1c5fd5a9",
   "metadata": {},
   "outputs": [
    {
     "name": "stdout",
     "output_type": "stream",
     "text": [
      "<class 'float'>\n",
      "189.0\n"
     ]
    }
   ],
   "source": [
    "#int-> float\n",
    "height= float(height)\n",
    "print(type(height))\n",
    "print(height)"
   ]
  },
  {
   "cell_type": "code",
   "execution_count": 9,
   "id": "c619f7b4-eae1-4543-bda8-a87d1439cde5",
   "metadata": {},
   "outputs": [
    {
     "name": "stdout",
     "output_type": "stream",
     "text": [
      "<class 'int'>\n"
     ]
    }
   ],
   "source": [
    "height=189\n",
    "print(type(height))"
   ]
  },
  {
   "cell_type": "code",
   "execution_count": 11,
   "id": "beb2a670-8c0e-4e8c-b36b-d149f7409bc0",
   "metadata": {},
   "outputs": [
    {
     "name": "stdout",
     "output_type": "stream",
     "text": [
      "<class 'str'>\n",
      "189\n"
     ]
    }
   ],
   "source": [
    "height= str(height)\n",
    "print(type(height))\n",
    "print(height)"
   ]
  },
  {
   "cell_type": "code",
   "execution_count": 14,
   "id": "c79795e8-752b-4a79-a326-092180cc8925",
   "metadata": {},
   "outputs": [
    {
     "name": "stdout",
     "output_type": "stream",
     "text": [
      "<class 'str'>\n",
      "height\n"
     ]
    }
   ],
   "source": [
    "height=\"height\"\n",
    "print(type(height))\n",
    "print(height)"
   ]
  },
  {
   "cell_type": "code",
   "execution_count": 16,
   "id": "753b0a19-2e74-4510-9614-e0e6a5e45ec3",
   "metadata": {},
   "outputs": [
    {
     "name": "stdout",
     "output_type": "stream",
     "text": [
      "hello\n"
     ]
    }
   ],
   "source": [
    "greeting= \"hello\"\n",
    "print(greeting)"
   ]
  },
  {
   "cell_type": "code",
   "execution_count": 17,
   "id": "19b7cb3c-b51b-472c-8e9a-bf9877751cd7",
   "metadata": {},
   "outputs": [
    {
     "ename": "ValueError",
     "evalue": "invalid literal for int() with base 10: 'hello'",
     "output_type": "error",
     "traceback": [
      "\u001b[31m---------------------------------------------------------------------------\u001b[39m",
      "\u001b[31mValueError\u001b[39m                                Traceback (most recent call last)",
      "\u001b[36mCell\u001b[39m\u001b[36m \u001b[39m\u001b[32mIn[17]\u001b[39m\u001b[32m, line 1\u001b[39m\n\u001b[32m----> \u001b[39m\u001b[32m1\u001b[39m greeting= \u001b[38;5;28;43mint\u001b[39;49m\u001b[43m(\u001b[49m\u001b[43mgreeting\u001b[49m\u001b[43m)\u001b[49m\n\u001b[32m      2\u001b[39m \u001b[38;5;28mprint\u001b[39m(greeting)\n",
      "\u001b[31mValueError\u001b[39m: invalid literal for int() with base 10: 'hello'"
     ]
    }
   ],
   "source": [
    "greeting= int(greeting)\n",
    "print(greeting)"
   ]
  },
  {
   "cell_type": "code",
   "execution_count": 18,
   "id": "590c0a3a-7461-41ec-9490-a494f5e12eb1",
   "metadata": {},
   "outputs": [
    {
     "name": "stdout",
     "output_type": "stream",
     "text": [
      "<class 'int'>\n",
      "123\n"
     ]
    }
   ],
   "source": [
    "greeting =\"123\"\n",
    "greeting= int(greeting)\n",
    "print(type(greeting))\n",
    "print(greeting)"
   ]
  },
  {
   "cell_type": "code",
   "execution_count": 23,
   "id": "bd40fd9a-d022-4c3b-94b1-718603bb4c90",
   "metadata": {},
   "outputs": [
    {
     "ename": "SyntaxError",
     "evalue": "invalid decimal literal (2271419998.py, line 1)",
     "output_type": "error",
     "traceback": [
      "  \u001b[36mCell\u001b[39m\u001b[36m \u001b[39m\u001b[32mIn[23]\u001b[39m\u001b[32m, line 1\u001b[39m\n\u001b[31m    \u001b[39m\u001b[31m1std= \"suhel\"\u001b[39m\n    ^\n\u001b[31mSyntaxError\u001b[39m\u001b[31m:\u001b[39m invalid decimal literal\n"
     ]
    }
   ],
   "source": [
    "1std= \"suhel\""
   ]
  },
  {
   "cell_type": "code",
   "execution_count": 24,
   "id": "648ab6e2-1120-42f9-a647-f9e826bffb3b",
   "metadata": {},
   "outputs": [
    {
     "ename": "SyntaxError",
     "evalue": "cannot assign to expression here. Maybe you meant '==' instead of '='? (3883279921.py, line 1)",
     "output_type": "error",
     "traceback": [
      "  \u001b[36mCell\u001b[39m\u001b[36m \u001b[39m\u001b[32mIn[24]\u001b[39m\u001b[32m, line 1\u001b[39m\n\u001b[31m    \u001b[39m\u001b[31mstd@1=\"suhel\"\u001b[39m\n    ^\n\u001b[31mSyntaxError\u001b[39m\u001b[31m:\u001b[39m cannot assign to expression here. Maybe you meant '==' instead of '='?\n"
     ]
    }
   ],
   "source": [
    "std@1=\"suhel\""
   ]
  },
  {
   "cell_type": "code",
   "execution_count": 25,
   "id": "5ff6f1ce-ad44-44f0-9ef2-38d06f594804",
   "metadata": {},
   "outputs": [],
   "source": [
    "std_1= \"suhel\""
   ]
  },
  {
   "cell_type": "code",
   "execution_count": 26,
   "id": "bb5d25b1-e2b2-4e21-bb5e-3e946676fd75",
   "metadata": {},
   "outputs": [],
   "source": [
    "STD2=\"pankaj\""
   ]
  },
  {
   "cell_type": "code",
   "execution_count": 27,
   "id": "87e324a1-557e-4cd5-b2dd-a8b257801fbd",
   "metadata": {},
   "outputs": [
    {
     "ename": "SyntaxError",
     "evalue": "invalid syntax (3475946115.py, line 1)",
     "output_type": "error",
     "traceback": [
      "  \u001b[36mCell\u001b[39m\u001b[36m \u001b[39m\u001b[32mIn[27]\u001b[39m\u001b[32m, line 1\u001b[39m\n\u001b[31m    \u001b[39m\u001b[31mstd?3=\"neeraj\"\u001b[39m\n       ^\n\u001b[31mSyntaxError\u001b[39m\u001b[31m:\u001b[39m invalid syntax\n"
     ]
    }
   ],
   "source": [
    "std?3=\"neeraj\""
   ]
  },
  {
   "cell_type": "markdown",
   "id": "1ddfec63-efa9-48c3-aa9a-79ff64c24ec9",
   "metadata": {},
   "source": [
    "## RULES FOR NAMES OF VARIABLES\n",
    "\n",
    " - <font size=3> a variable name must start with an alphabet or an underscore.\n",
    " - <font size=3>a variable name cannot start with a number or any special character(@,#,$,%)\n",
    " - <font size=3>a variable name can only contain alphabets,numbers,and underscore.\n",
    " - <font size=3>the use of special character is prohibited.\n",
    " - <font size=3>variable names are case sensitive in python.\n",
    " - <font size=3>python keyword cannot be used as variable names.\n"
   ]
  },
  {
   "cell_type": "code",
   "execution_count": 28,
   "id": "251db8fe-4d68-4e9c-aaa9-fd8b056a0fe3",
   "metadata": {},
   "outputs": [
    {
     "name": "stdout",
     "output_type": "stream",
     "text": [
      "\n",
      "Here is a list of the Python keywords.  Enter any keyword to get more help.\n",
      "\n",
      "False               class               from                or\n",
      "None                continue            global              pass\n",
      "True                def                 if                  raise\n",
      "and                 del                 import              return\n",
      "as                  elif                in                  try\n",
      "assert              else                is                  while\n",
      "async               except              lambda              with\n",
      "await               finally             nonlocal            yield\n",
      "break               for                 not                 \n",
      "\n"
     ]
    }
   ],
   "source": [
    "help(\"keywords\")"
   ]
  },
  {
   "cell_type": "code",
   "execution_count": 29,
   "id": "f2474da3-582c-413c-83a9-898d2eca3f39",
   "metadata": {},
   "outputs": [
    {
     "ename": "SyntaxError",
     "evalue": "cannot assign to False (3435775298.py, line 1)",
     "output_type": "error",
     "traceback": [
      "  \u001b[36mCell\u001b[39m\u001b[36m \u001b[39m\u001b[32mIn[29]\u001b[39m\u001b[32m, line 1\u001b[39m\n\u001b[31m    \u001b[39m\u001b[31mFalse=23\u001b[39m\n    ^\n\u001b[31mSyntaxError\u001b[39m\u001b[31m:\u001b[39m cannot assign to False\n"
     ]
    }
   ],
   "source": [
    "False=23\n"
   ]
  },
  {
   "cell_type": "code",
   "execution_count": 30,
   "id": "28b4cad9-d2a8-4beb-8796-bb3b1e2fc356",
   "metadata": {},
   "outputs": [
    {
     "ename": "SyntaxError",
     "evalue": "invalid syntax (3666322054.py, line 1)",
     "output_type": "error",
     "traceback": [
      "  \u001b[36mCell\u001b[39m\u001b[36m \u001b[39m\u001b[32mIn[30]\u001b[39m\u001b[32m, line 1\u001b[39m\n\u001b[31m    \u001b[39m\u001b[31mdef=34\u001b[39m\n       ^\n\u001b[31mSyntaxError\u001b[39m\u001b[31m:\u001b[39m invalid syntax\n"
     ]
    }
   ],
   "source": [
    "def=34"
   ]
  },
  {
   "cell_type": "code",
   "execution_count": 31,
   "id": "03b08639-ff1d-407a-b8ae-7161bde88a79",
   "metadata": {},
   "outputs": [
    {
     "ename": "SyntaxError",
     "evalue": "invalid syntax (2967558149.py, line 1)",
     "output_type": "error",
     "traceback": [
      "  \u001b[36mCell\u001b[39m\u001b[36m \u001b[39m\u001b[32mIn[31]\u001b[39m\u001b[32m, line 1\u001b[39m\n\u001b[31m    \u001b[39m\u001b[31mclass= \"hi\"\u001b[39m\n         ^\n\u001b[31mSyntaxError\u001b[39m\u001b[31m:\u001b[39m invalid syntax\n"
     ]
    }
   ],
   "source": [
    "class= \"hi\""
   ]
  },
  {
   "cell_type": "code",
   "execution_count": 1,
   "id": "ee7f5e3b-7648-423e-97b6-a7a48515900a",
   "metadata": {},
   "outputs": [
    {
     "ename": "NameError",
     "evalue": "name 'Subject' is not defined",
     "output_type": "error",
     "traceback": [
      "\u001b[31m---------------------------------------------------------------------------\u001b[39m",
      "\u001b[31mNameError\u001b[39m                                 Traceback (most recent call last)",
      "\u001b[36mCell\u001b[39m\u001b[36m \u001b[39m\u001b[32mIn[1]\u001b[39m\u001b[32m, line 2\u001b[39m\n\u001b[32m      1\u001b[39m subject=\u001b[33m\"\u001b[39m\u001b[33mmaths\u001b[39m\u001b[33m\"\u001b[39m\n\u001b[32m----> \u001b[39m\u001b[32m2\u001b[39m \u001b[38;5;28mprint\u001b[39m(\u001b[43mSubject\u001b[49m)\n",
      "\u001b[31mNameError\u001b[39m: name 'Subject' is not defined"
     ]
    }
   ],
   "source": [
    "subject=\"maths\"\n",
    "print(Subject)"
   ]
  },
  {
   "cell_type": "code",
   "execution_count": 2,
   "id": "69c586da-48bf-48da-99af-574066050bb5",
   "metadata": {},
   "outputs": [
    {
     "ename": "NameError",
     "evalue": "name 'SUBJECT' is not defined",
     "output_type": "error",
     "traceback": [
      "\u001b[31m---------------------------------------------------------------------------\u001b[39m",
      "\u001b[31mNameError\u001b[39m                                 Traceback (most recent call last)",
      "\u001b[36mCell\u001b[39m\u001b[36m \u001b[39m\u001b[32mIn[2]\u001b[39m\u001b[32m, line 1\u001b[39m\n\u001b[32m----> \u001b[39m\u001b[32m1\u001b[39m \u001b[38;5;28mprint\u001b[39m(\u001b[43mSUBJECT\u001b[49m)\n",
      "\u001b[31mNameError\u001b[39m: name 'SUBJECT' is not defined"
     ]
    }
   ],
   "source": [
    "print(SUBJECT)"
   ]
  },
  {
   "cell_type": "code",
   "execution_count": 3,
   "id": "60ec8beb-6ec5-4103-bdf9-441716f02a40",
   "metadata": {},
   "outputs": [
    {
     "name": "stdout",
     "output_type": "stream",
     "text": [
      "maths\n"
     ]
    }
   ],
   "source": [
    "print(subject)\n"
   ]
  },
  {
   "cell_type": "markdown",
   "id": "e0a6012f-2a77-4b21-b9eb-9ba3021b0ca8",
   "metadata": {},
   "source": [
    "# important topics related to variables\n"
   ]
  },
  {
   "cell_type": "markdown",
   "id": "a6098052-7177-4016-a7f3-e6567395a086",
   "metadata": {},
   "source": [
    "### 1. storing an expression in a variable"
   ]
  },
  {
   "cell_type": "code",
   "execution_count": 24,
   "id": "5a748508-27e2-40c7-be0e-d04f26bbc866",
   "metadata": {},
   "outputs": [
    {
     "name": "stdout",
     "output_type": "stream",
     "text": [
      "cat\n"
     ]
    }
   ],
   "source": [
    "animal_1= \"c\"+\"a\"+\"t\"            #\"c\"+\"a\"+\"t\" is an expression\n",
    "print(animal_1)"
   ]
  },
  {
   "cell_type": "code",
   "execution_count": 25,
   "id": "4cbd8dd1-851a-43e8-9fc5-538fb7f0f732",
   "metadata": {},
   "outputs": [
    {
     "name": "stdout",
     "output_type": "stream",
     "text": [
      "dog\n"
     ]
    }
   ],
   "source": [
    "animal_2= \"dog\"\n",
    "print(animal_2)\n"
   ]
  },
  {
   "cell_type": "code",
   "execution_count": 26,
   "id": "d81bb8c6-068f-4321-95a0-2ce8a01b898e",
   "metadata": {},
   "outputs": [
    {
     "name": "stdout",
     "output_type": "stream",
     "text": [
      "catdog\n"
     ]
    }
   ],
   "source": [
    "combined_dog= animal_1+animal_2  #animal_1+animal_2 is an expression\n",
    "print(combined_dog)"
   ]
  },
  {
   "cell_type": "code",
   "execution_count": 9,
   "id": "1ebf87b0-5cdc-45fa-a94b-ab312490cd14",
   "metadata": {},
   "outputs": [
    {
     "name": "stdout",
     "output_type": "stream",
     "text": [
      "46\n"
     ]
    }
   ],
   "source": [
    "new_variable= 12+34              #12+13 is an expression\n",
    "print(new_variable)\n",
    "\n"
   ]
  },
  {
   "cell_type": "code",
   "execution_count": 15,
   "id": "37202d74-d8e4-42b5-81e3-7d9a591bae3d",
   "metadata": {},
   "outputs": [
    {
     "name": "stdout",
     "output_type": "stream",
     "text": [
      "1\n"
     ]
    }
   ],
   "source": [
    "x= new_variable-45\n",
    "print(x)"
   ]
  },
  {
   "cell_type": "code",
   "execution_count": 19,
   "id": "57593d6b-b370-4065-aea4-96d8790a4c35",
   "metadata": {},
   "outputs": [
    {
     "name": "stdout",
     "output_type": "stream",
     "text": [
      "1.0222222222222221\n"
     ]
    }
   ],
   "source": [
    "x= new_variable/45\n",
    "print(x)"
   ]
  },
  {
   "cell_type": "code",
   "execution_count": 18,
   "id": "49534299-f3a1-4aa0-9fa8-5e79b2824e4f",
   "metadata": {},
   "outputs": [
    {
     "name": "stdout",
     "output_type": "stream",
     "text": [
      "25.41127165822231\n"
     ]
    }
   ],
   "source": [
    "height =175.2\n",
    "weight= 78\n",
    "bmi= weight/((height/100)**2)\n",
    "print(bmi)"
   ]
  },
  {
   "cell_type": "code",
   "execution_count": null,
   "id": "8d8da86d-c509-485b-b537-d96b5f54c7c3",
   "metadata": {},
   "outputs": [],
   "source": []
  },
  {
   "cell_type": "markdown",
   "id": "056fdc3b-9fdd-4a45-ab00-e6f0e3cee161",
   "metadata": {},
   "source": [
    "### 2.storing one variable to another"
   ]
  },
  {
   "cell_type": "code",
   "execution_count": 23,
   "id": "7d281a3a-11eb-475f-a8e8-9d855bd51db2",
   "metadata": {},
   "outputs": [
    {
     "name": "stdout",
     "output_type": "stream",
     "text": [
      "56\n"
     ]
    }
   ],
   "source": [
    "x= 56\n",
    "y= x\n",
    "print(y)"
   ]
  },
  {
   "cell_type": "code",
   "execution_count": 21,
   "id": "841a78bc-cddb-45d9-ae5e-504df04bffc4",
   "metadata": {},
   "outputs": [
    {
     "name": "stdout",
     "output_type": "stream",
     "text": [
      "56\n"
     ]
    }
   ],
   "source": [
    "print(x)"
   ]
  },
  {
   "cell_type": "code",
   "execution_count": 27,
   "id": "639b0ba0-0e10-44bd-966b-e72d95927a78",
   "metadata": {},
   "outputs": [
    {
     "name": "stdout",
     "output_type": "stream",
     "text": [
      "12\n",
      "12\n",
      "12\n"
     ]
    }
   ],
   "source": [
    "var_x= 12\n",
    "var_z = var_y = var_x \n",
    "\n",
    "print(var_x)\n",
    "print(var_y)\n",
    "print(var_z)\n"
   ]
  },
  {
   "cell_type": "markdown",
   "id": "ed7ea6d4-d31c-4e8e-9851-8ab479080b66",
   "metadata": {},
   "source": [
    "## 3.multiple variable creation"
   ]
  },
  {
   "cell_type": "code",
   "execution_count": 28,
   "id": "e7b07e47-3488-456f-970c-4c97f2b22ef3",
   "metadata": {},
   "outputs": [
    {
     "name": "stdout",
     "output_type": "stream",
     "text": [
      "ishi\n",
      "sneha\n",
      "sejal\n"
     ]
    }
   ],
   "source": [
    "stu_1 = \"ishi\"\n",
    "stu_2= \"sneha\"\n",
    "stu_3= \"sejal\"\n",
    "print(stu_1)\n",
    "print(stu_2)\n",
    "print(stu_3)"
   ]
  },
  {
   "cell_type": "code",
   "execution_count": 31,
   "id": "945de6b0-7e87-45e4-a7e0-61cd18520dc9",
   "metadata": {},
   "outputs": [
    {
     "name": "stdout",
     "output_type": "stream",
     "text": [
      "ishi\n",
      "sneha\n",
      "sejal\n"
     ]
    }
   ],
   "source": [
    "print(stu_1)\n",
    "print(stu_2)\n",
    "print(stu_3)\n"
   ]
  },
  {
   "cell_type": "code",
   "execution_count": 33,
   "id": "519ff48e-f294-43c7-995d-c330759a2382",
   "metadata": {},
   "outputs": [
    {
     "name": "stdout",
     "output_type": "stream",
     "text": [
      "ashish\n",
      "24\n",
      "rudrapur\n"
     ]
    }
   ],
   "source": [
    "emp1_name,emp1_age,emp1_address = \"ashish\",\"24\",\"rudrapur\"\n",
    "print(emp1_name)\n",
    "print(emp1_age)\n",
    "print(emp1_address)\n"
   ]
  },
  {
   "cell_type": "code",
   "execution_count": 2,
   "id": "9eed7724-a4c7-4f05-93b7-7fae1a051ded",
   "metadata": {},
   "outputs": [
    {
     "name": "stdout",
     "output_type": "stream",
     "text": [
      "25\n"
     ]
    }
   ],
   "source": [
    "updated_age=25\n",
    "emp1_age= updated_age\n",
    "print(updated_age)"
   ]
  },
  {
   "cell_type": "code",
   "execution_count": 3,
   "id": "e58c8d70-fbc6-4528-8188-01fc1520c494",
   "metadata": {},
   "outputs": [
    {
     "name": "stdout",
     "output_type": "stream",
     "text": [
      "25\n"
     ]
    }
   ],
   "source": [
    "print(emp1_age)"
   ]
  },
  {
   "cell_type": "code",
   "execution_count": 4,
   "id": "9447a6a4-b4c7-4a34-b8a0-e15274370ce0",
   "metadata": {},
   "outputs": [
    {
     "name": "stdout",
     "output_type": "stream",
     "text": [
      "stu_1stu_2stu_3\n"
     ]
    }
   ],
   "source": [
    "print(\"stu_1\"+\"stu_2\"+\"stu_3\")"
   ]
  },
  {
   "cell_type": "code",
   "execution_count": 1,
   "id": "598ce32f-c11e-435b-bca0-f36245778a12",
   "metadata": {},
   "outputs": [
    {
     "name": "stdout",
     "output_type": "stream",
     "text": [
      "rohit 25 165.5\n"
     ]
    }
   ],
   "source": [
    "name,age,height= \"rohit\",25,165.5\n",
    "print(name,age,height)"
   ]
  },
  {
   "cell_type": "code",
   "execution_count": 28,
   "id": "85b96a4b-fcad-43bd-a982-05241932966c",
   "metadata": {},
   "outputs": [
    {
     "name": "stdout",
     "output_type": "stream",
     "text": [
      "ashish\n",
      "vaibhav\n",
      "vedansh\n"
     ]
    }
   ],
   "source": [
    "empl1_name,empl2_name,empl3_name = \"ashish\",\"vaibhav\",\"vedansh\"\n",
    "print(empl1_name)\n",
    "print(empl2_name)\n",
    "print(empl3_name)\n"
   ]
  },
  {
   "cell_type": "code",
   "execution_count": 30,
   "id": "eebf26ad-a006-4915-97db-39595997582c",
   "metadata": {},
   "outputs": [
    {
     "name": "stdout",
     "output_type": "stream",
     "text": [
      "ashishvaibhavvedansh\n"
     ]
    }
   ],
   "source": [
    "xyz= empl1_name+empl2_name+empl3_name\n",
    "print(xyz)"
   ]
  },
  {
   "cell_type": "code",
   "execution_count": 35,
   "id": "2db1c9e5-bba7-4de7-9ca9-9e22849339cf",
   "metadata": {},
   "outputs": [
    {
     "name": "stdout",
     "output_type": "stream",
     "text": [
      "anu123\n",
      "vaibhav@123\n",
      "vedansh/4\n",
      "36\n"
     ]
    }
   ],
   "source": [
    "empl4_name,empl5_name,empl6_name,xlk = \"anu123\",\"vaibhav@123\",\"vedansh/4\",24+12\n",
    "print(empl4_name)\n",
    "print(empl5_name)\n",
    "print(empl6_name)\n",
    "print(xlk)"
   ]
  },
  {
   "cell_type": "code",
   "execution_count": 77,
   "id": "b63b9a30-3efa-4293-be59-0b4f8ea39b8b",
   "metadata": {},
   "outputs": [
    {
     "name": "stdout",
     "output_type": "stream",
     "text": [
      "abhinav \t23 \t19,divya apartment,batra colony rudrapur\n",
      "kashish \t34 \tkaushalaya enclave,rudrapur\n",
      "tammana \t45 \tgali no.1,adarsh nagar,sonipat\n"
     ]
    }
   ],
   "source": [
    "_1customer_name,_2customer_name,_3customer_name=\"abhinav\",\"kashish\",\"tammana\"\n",
    "_1customer_age,_2customer_age,_3customer_age=\"\\t23\",\"\\t34\",\"\\t45\"\n",
    "_1customer_address,_2customer_address,_3customer_address=\"\\t19,divya apartment,batra colony rudrapur\",\"\\tkaushalaya enclave,rudrapur\",\"\\tgali no.1,adarsh nagar,sonipat\"\n",
    "print(_1customer_name, _1customer_age, _1customer_address)\n",
    "print(_2customer_name, _2customer_age, _2customer_address)\n",
    "print(_3customer_name, _3customer_age, _3customer_address)\n",
    "\n"
   ]
  },
  {
   "cell_type": "code",
   "execution_count": 1,
   "id": "31f516f4-d2ea-4b97-a04b-d2d094808b5c",
   "metadata": {},
   "outputs": [
    {
     "name": "stdout",
     "output_type": "stream",
     "text": [
      "hello\n"
     ]
    }
   ],
   "source": [
    "\n",
    "print(\"hello\")"
   ]
  },
  {
   "cell_type": "code",
   "execution_count": 2,
   "id": "581cc715-8d50-4b83-a214-de3c61f0e223",
   "metadata": {},
   "outputs": [],
   "source": [
    "print=(\"std_1\"+\"std_2\"+\"std_3\")"
   ]
  },
  {
   "cell_type": "code",
   "execution_count": 3,
   "id": "f37d9ac6-ddc1-44f0-8f4c-07106d75185e",
   "metadata": {},
   "outputs": [
    {
     "ename": "TypeError",
     "evalue": "'str' object is not callable",
     "output_type": "error",
     "traceback": [
      "\u001b[31m---------------------------------------------------------------------------\u001b[39m",
      "\u001b[31mTypeError\u001b[39m                                 Traceback (most recent call last)",
      "\u001b[36mCell\u001b[39m\u001b[36m \u001b[39m\u001b[32mIn[3]\u001b[39m\u001b[32m, line 1\u001b[39m\n\u001b[32m----> \u001b[39m\u001b[32m1\u001b[39m \u001b[38;5;28;43mprint\u001b[39;49m\u001b[43m(\u001b[49m\u001b[33;43m\"\u001b[39;49m\u001b[33;43mhii\u001b[39;49m\u001b[33;43m\"\u001b[39;49m\u001b[43m)\u001b[49m\n",
      "\u001b[31mTypeError\u001b[39m: 'str' object is not callable"
     ]
    }
   ],
   "source": [
    "print(\"hii\")"
   ]
  },
  {
   "cell_type": "markdown",
   "id": "872468d6-96af-4af2-a2f1-79eb8648f00e",
   "metadata": {},
   "source": [
    "-we cannot create any variable with functon name or any keyword.but\n",
    "beacause if we created a variable with function name then that fun will not work anymore"
   ]
  },
  {
   "cell_type": "markdown",
   "id": "82f733a2-d034-44a1-bc06-344cb767cc57",
   "metadata": {},
   "source": [
    "### 4.reassigning a variable"
   ]
  },
  {
   "cell_type": "code",
   "execution_count": 1,
   "id": "338ce334-7641-4e44-8c9c-58b9a8e6357f",
   "metadata": {},
   "outputs": [
    {
     "name": "stdout",
     "output_type": "stream",
     "text": [
      "20\n"
     ]
    }
   ],
   "source": [
    "user1_age =20\n",
    "print(user1_age)"
   ]
  },
  {
   "cell_type": "code",
   "execution_count": 2,
   "id": "fdfb7975-a10d-45d1-8982-6477d13a54df",
   "metadata": {},
   "outputs": [
    {
     "name": "stdout",
     "output_type": "stream",
     "text": [
      "45\n"
     ]
    }
   ],
   "source": [
    "user1_age=45\n",
    "print(user1_age)"
   ]
  },
  {
   "cell_type": "code",
   "execution_count": 3,
   "id": "db1befb5-f28f-4311-a273-74320567fa6f",
   "metadata": {},
   "outputs": [
    {
     "name": "stdout",
     "output_type": "stream",
     "text": [
      "forty five\n"
     ]
    }
   ],
   "source": [
    "user1_age= \"forty five\"\n",
    "print(user1_age)"
   ]
  },
  {
   "cell_type": "code",
   "execution_count": 4,
   "id": "bc773d06-fea6-445c-a139-49afbbe8bb76",
   "metadata": {},
   "outputs": [
    {
     "name": "stdout",
     "output_type": "stream",
     "text": [
      "20\n"
     ]
    }
   ],
   "source": [
    "user1_age =20\n",
    "print(user1_age)"
   ]
  },
  {
   "cell_type": "markdown",
   "id": "f5de8dd9-a61e-4261-9efd-454a92bae522",
   "metadata": {},
   "source": [
    "### 5.constant variables"
   ]
  },
  {
   "cell_type": "markdown",
   "id": "c5fb3602-2b25-4130-9242-2694af46fb4a",
   "metadata": {},
   "source": [
    "To define a variable whose value we do not want to change in the whole program,we write the name of variable in capital letters.this is a common practice but not enforced by python."
   ]
  },
  {
   "cell_type": "code",
   "execution_count": 5,
   "id": "10377bfc-ef73-4541-9817-b0d665641edf",
   "metadata": {},
   "outputs": [
    {
     "name": "stdout",
     "output_type": "stream",
     "text": [
      "3.14\n"
     ]
    }
   ],
   "source": [
    "PI=3.14 #constant\n",
    "print(PI)"
   ]
  },
  {
   "cell_type": "markdown",
   "id": "ad05f0ad-2f0e-43f5-9ffb-8c3dac5216e8",
   "metadata": {},
   "source": [
    "it is still possible to change the value of this constant variable."
   ]
  },
  {
   "cell_type": "code",
   "execution_count": 6,
   "id": "3247cd14-8b67-4b14-a4b4-d01f26645a55",
   "metadata": {},
   "outputs": [
    {
     "name": "stdout",
     "output_type": "stream",
     "text": [
      "1.28\n"
     ]
    }
   ],
   "source": [
    "PI=1.28\n",
    "print(PI)"
   ]
  },
  {
   "cell_type": "markdown",
   "id": "79896d4d-8655-4148-8783-265d12596dba",
   "metadata": {},
   "source": [
    "### 6.deleting variable"
   ]
  },
  {
   "cell_type": "code",
   "execution_count": 1,
   "id": "1ed2b4a5-790d-4153-85d8-22721548e4b9",
   "metadata": {},
   "outputs": [
    {
     "name": "stdout",
     "output_type": "stream",
     "text": [
      "10\n"
     ]
    }
   ],
   "source": [
    "x= 10\n",
    "print(x)"
   ]
  },
  {
   "cell_type": "code",
   "execution_count": 2,
   "id": "2e6a57b6-afb2-44e5-bcf3-cdb17d1b870e",
   "metadata": {},
   "outputs": [],
   "source": [
    "del x"
   ]
  },
  {
   "cell_type": "code",
   "execution_count": 3,
   "id": "c12d5e0b-1d7e-42b0-abe7-7f88b1b6856a",
   "metadata": {},
   "outputs": [
    {
     "ename": "NameError",
     "evalue": "name 'x' is not defined",
     "output_type": "error",
     "traceback": [
      "\u001b[31m---------------------------------------------------------------------------\u001b[39m",
      "\u001b[31mNameError\u001b[39m                                 Traceback (most recent call last)",
      "\u001b[36mCell\u001b[39m\u001b[36m \u001b[39m\u001b[32mIn[3]\u001b[39m\u001b[32m, line 1\u001b[39m\n\u001b[32m----> \u001b[39m\u001b[32m1\u001b[39m \u001b[38;5;28mprint\u001b[39m(\u001b[43mx\u001b[49m)\n",
      "\u001b[31mNameError\u001b[39m: name 'x' is not defined"
     ]
    }
   ],
   "source": [
    "print(x)"
   ]
  },
  {
   "cell_type": "code",
   "execution_count": 4,
   "id": "94643288-ccb4-4d83-9f47-c3cac4021b47",
   "metadata": {},
   "outputs": [
    {
     "name": "stdout",
     "output_type": "stream",
     "text": [
      "10\n",
      "amit\n",
      "23.99\n"
     ]
    }
   ],
   "source": [
    "x= 10\n",
    "y=\"amit\"\n",
    "z= 23.99\n",
    "print(x)\n",
    "print(y)\n",
    "print(z)"
   ]
  },
  {
   "cell_type": "code",
   "execution_count": 5,
   "id": "f85e9a77-5b6c-48d6-b406-7401b9307fd5",
   "metadata": {},
   "outputs": [],
   "source": [
    "del x,z"
   ]
  },
  {
   "cell_type": "code",
   "execution_count": 6,
   "id": "4b520ff4-ded2-4761-a39a-18beb3a154e8",
   "metadata": {},
   "outputs": [
    {
     "ename": "NameError",
     "evalue": "name 'x' is not defined",
     "output_type": "error",
     "traceback": [
      "\u001b[31m---------------------------------------------------------------------------\u001b[39m",
      "\u001b[31mNameError\u001b[39m                                 Traceback (most recent call last)",
      "\u001b[36mCell\u001b[39m\u001b[36m \u001b[39m\u001b[32mIn[6]\u001b[39m\u001b[32m, line 1\u001b[39m\n\u001b[32m----> \u001b[39m\u001b[32m1\u001b[39m \u001b[38;5;28mprint\u001b[39m(\u001b[43mx\u001b[49m)\n",
      "\u001b[31mNameError\u001b[39m: name 'x' is not defined"
     ]
    }
   ],
   "source": [
    "print(x)"
   ]
  },
  {
   "cell_type": "code",
   "execution_count": 7,
   "id": "52a20b03-6ec3-4b26-a5f7-bac10421dd46",
   "metadata": {},
   "outputs": [
    {
     "ename": "NameError",
     "evalue": "name 'z' is not defined",
     "output_type": "error",
     "traceback": [
      "\u001b[31m---------------------------------------------------------------------------\u001b[39m",
      "\u001b[31mNameError\u001b[39m                                 Traceback (most recent call last)",
      "\u001b[36mCell\u001b[39m\u001b[36m \u001b[39m\u001b[32mIn[7]\u001b[39m\u001b[32m, line 1\u001b[39m\n\u001b[32m----> \u001b[39m\u001b[32m1\u001b[39m \u001b[38;5;28mprint\u001b[39m(\u001b[43mz\u001b[49m)\n",
      "\u001b[31mNameError\u001b[39m: name 'z' is not defined"
     ]
    }
   ],
   "source": [
    "print(z)"
   ]
  },
  {
   "cell_type": "code",
   "execution_count": 8,
   "id": "7ce8bb42-1406-47e7-8653-eaafae8c0e6e",
   "metadata": {},
   "outputs": [
    {
     "name": "stdout",
     "output_type": "stream",
     "text": [
      "amit\n"
     ]
    }
   ],
   "source": [
    "print(y)"
   ]
  },
  {
   "cell_type": "code",
   "execution_count": 9,
   "id": "c0ff4906-30cd-43d9-ba55-0c0f33a0d78e",
   "metadata": {},
   "outputs": [
    {
     "name": "stdout",
     "output_type": "stream",
     "text": [
      "30\n"
     ]
    }
   ],
   "source": [
    "x=10\n",
    "y=20\n",
    "z=x+y\n",
    "print(z)"
   ]
  },
  {
   "cell_type": "code",
   "execution_count": 10,
   "id": "b171ae99-6a40-408b-92a8-ed9ca3ca3601",
   "metadata": {},
   "outputs": [],
   "source": [
    "del x"
   ]
  },
  {
   "cell_type": "code",
   "execution_count": 11,
   "id": "1396d347-f6ca-4bcd-a1ab-f3b66ce7bebe",
   "metadata": {},
   "outputs": [
    {
     "ename": "NameError",
     "evalue": "name 'x' is not defined",
     "output_type": "error",
     "traceback": [
      "\u001b[31m---------------------------------------------------------------------------\u001b[39m",
      "\u001b[31mNameError\u001b[39m                                 Traceback (most recent call last)",
      "\u001b[36mCell\u001b[39m\u001b[36m \u001b[39m\u001b[32mIn[11]\u001b[39m\u001b[32m, line 1\u001b[39m\n\u001b[32m----> \u001b[39m\u001b[32m1\u001b[39m \u001b[38;5;28mprint\u001b[39m(\u001b[43mx\u001b[49m)\n",
      "\u001b[31mNameError\u001b[39m: name 'x' is not defined"
     ]
    }
   ],
   "source": [
    "print(x)"
   ]
  },
  {
   "cell_type": "code",
   "execution_count": 15,
   "id": "86b15bdd-a694-473d-b960-6f67e490bb9a",
   "metadata": {},
   "outputs": [
    {
     "name": "stdout",
     "output_type": "stream",
     "text": [
      "30\n"
     ]
    }
   ],
   "source": [
    "print(z) #z is independence of x and y . its existence is not dependent  on the existence of  x and y once z has been created."
   ]
  },
  {
   "cell_type": "markdown",
   "id": "9fe4206e-8f55-4533-acf1-1f7dbd9f0fa2",
   "metadata": {},
   "source": [
    "### exercise"
   ]
  },
  {
   "cell_type": "code",
   "execution_count": 22,
   "id": "28dce7a7-b3ac-4121-a218-65e61bd24e1e",
   "metadata": {},
   "outputs": [
    {
     "name": "stdout",
     "output_type": "stream",
     "text": [
      "23\n",
      "94\n"
     ]
    }
   ],
   "source": [
    "# write a program to swap the values of two variables var_1 and var_2\n",
    "var_1= 23\n",
    "var_2= 94 \n",
    "print(var_1)\n",
    "print(var_2)"
   ]
  },
  {
   "cell_type": "code",
   "execution_count": 19,
   "id": "7fced8ba-ba65-4413-9391-77d5bfe5f83b",
   "metadata": {},
   "outputs": [],
   "source": [
    "#var_1=94\n",
    "#var_2=23\n",
    "#print(var_1)\n",
    "#print(var_2)"
   ]
  },
  {
   "cell_type": "code",
   "execution_count": 33,
   "id": "0ab5ec25-253f-4e70-aa4e-552b124ee0f9",
   "metadata": {},
   "outputs": [
    {
     "name": "stdout",
     "output_type": "stream",
     "text": [
      "94\n"
     ]
    }
   ],
   "source": [
    "var_3 = var_1\n",
    "var_1 = var_2\n",
    "var_2 = var_3\n",
    "print(var_1)\n",
    "\n"
   ]
  },
  {
   "cell_type": "code",
   "execution_count": 30,
   "id": "7a0c15e7-34cf-4977-bb70-45994de0a337",
   "metadata": {},
   "outputs": [
    {
     "name": "stdout",
     "output_type": "stream",
     "text": [
      "23\n"
     ]
    }
   ],
   "source": [
    "print(var_2)"
   ]
  },
  {
   "cell_type": "code",
   "execution_count": 31,
   "id": "f5567e50-3294-4bd1-bb5d-6d6eb5a2e270",
   "metadata": {},
   "outputs": [
    {
     "name": "stdout",
     "output_type": "stream",
     "text": [
      "94\n",
      "23\n"
     ]
    }
   ],
   "source": [
    "print(var_1)\n",
    "print(var_2)"
   ]
  },
  {
   "cell_type": "code",
   "execution_count": 1,
   "id": "76aedf02-5e18-44b9-a5d5-f244e1c97442",
   "metadata": {},
   "outputs": [
    {
     "name": "stdout",
     "output_type": "stream",
     "text": [
      "23\n",
      "93\n"
     ]
    }
   ],
   "source": [
    "var_5=23\n",
    "var_6=93\n",
    "print(var_5)\n",
    "print(var_6)"
   ]
  },
  {
   "cell_type": "code",
   "execution_count": 2,
   "id": "a4647b82-1d0e-4c5e-bb43-eb7017a2493e",
   "metadata": {},
   "outputs": [
    {
     "name": "stdout",
     "output_type": "stream",
     "text": [
      "93\n",
      "23\n"
     ]
    }
   ],
   "source": [
    "var_5,var_6=var_6,var_5\n",
    "print(var_5)\n",
    "print(var_6)"
   ]
  },
  {
   "cell_type": "code",
   "execution_count": 12,
   "id": "2c53c3ef-9dda-42eb-8b0e-f6ccd43f6142",
   "metadata": {},
   "outputs": [],
   "source": [
    "is_raining= \"true\""
   ]
  },
  {
   "cell_type": "code",
   "execution_count": 6,
   "id": "af9f3103-743e-4c98-bec2-0348f913e140",
   "metadata": {},
   "outputs": [],
   "source": [
    "weather_temp= 25"
   ]
  },
  {
   "cell_type": "code",
   "execution_count": 7,
   "id": "467474c7-2e88-4019-a9ef-c3cad82afe63",
   "metadata": {},
   "outputs": [],
   "source": [
    "city_name=\"delhi\""
   ]
  },
  {
   "cell_type": "code",
   "execution_count": 14,
   "id": "173bed08-7f43-4beb-8295-8291f3418196",
   "metadata": {},
   "outputs": [],
   "source": [
    "x= True"
   ]
  },
  {
   "cell_type": "code",
   "execution_count": 15,
   "id": "92ad9d7b-61b7-48c1-b6a2-0b094d5db0f0",
   "metadata": {},
   "outputs": [
    {
     "ename": "SyntaxError",
     "evalue": "cannot assign to True (2249180451.py, line 1)",
     "output_type": "error",
     "traceback": [
      "  \u001b[36mCell\u001b[39m\u001b[36m \u001b[39m\u001b[32mIn[15]\u001b[39m\u001b[32m, line 1\u001b[39m\n\u001b[31m    \u001b[39m\u001b[31mTrue=\"hello world\"\u001b[39m\n    ^\n\u001b[31mSyntaxError\u001b[39m\u001b[31m:\u001b[39m cannot assign to True\n"
     ]
    }
   ],
   "source": [
    "True=\"hello world\""
   ]
  },
  {
   "cell_type": "code",
   "execution_count": 18,
   "id": "c32a6b1f-edaa-4ca9-831f-21186cda94e3",
   "metadata": {},
   "outputs": [],
   "source": [
    "is_raining= True"
   ]
  },
  {
   "cell_type": "code",
   "execution_count": 20,
   "id": "4653e54e-0fcd-46e8-bd15-ba8da6cf710b",
   "metadata": {},
   "outputs": [],
   "source": [
    "True_x= \"hello world\""
   ]
  },
  {
   "cell_type": "code",
   "execution_count": null,
   "id": "5f48a802-a283-4486-99d8-5c8af8501f05",
   "metadata": {},
   "outputs": [],
   "source": []
  },
  {
   "cell_type": "code",
   "execution_count": 21,
   "id": "4b1944d8-afbf-41b9-90e4-47d734863dae",
   "metadata": {},
   "outputs": [],
   "source": [
    "for_12= 123"
   ]
  },
  {
   "cell_type": "code",
   "execution_count": 23,
   "id": "1fce8045-3154-4871-a651-6153e72356cc",
   "metadata": {},
   "outputs": [
    {
     "name": "stdout",
     "output_type": "stream",
     "text": [
      "12\n"
     ]
    }
   ],
   "source": [
    "_ = 12\n",
    "print(_)"
   ]
  },
  {
   "cell_type": "code",
   "execution_count": 24,
   "id": "d158ac9d-8c87-4c55-828e-396dcdbe19bc",
   "metadata": {},
   "outputs": [
    {
     "name": "stdout",
     "output_type": "stream",
     "text": [
      "20 30\n"
     ]
    }
   ],
   "source": [
    "x= 10\n",
    "y= 20\n",
    "x= y\n",
    "y= 30\n",
    "print(x,y)"
   ]
  },
  {
   "cell_type": "code",
   "execution_count": 6,
   "id": "b16c9a7d-ded3-4c22-ac23-e93a91e72cb5",
   "metadata": {},
   "outputs": [
    {
     "name": "stdout",
     "output_type": "stream",
     "text": [
      "10 20\n"
     ]
    }
   ],
   "source": [
    "x= 10\n",
    "y= 20\n",
    "print(x,y)"
   ]
  },
  {
   "cell_type": "code",
   "execution_count": 9,
   "id": "2f945c0a-910d-46a4-80ff-f02ef1916472",
   "metadata": {},
   "outputs": [
    {
     "name": "stdout",
     "output_type": "stream",
     "text": [
      "30 30\n"
     ]
    }
   ],
   "source": [
    "x= y\n",
    "y= 30\n",
    "print(x,y)"
   ]
  },
  {
   "cell_type": "code",
   "execution_count": 15,
   "id": "5d56febd-f8fc-414b-9ba3-01be93e23ba5",
   "metadata": {},
   "outputs": [
    {
     "name": "stdout",
     "output_type": "stream",
     "text": [
      "100 200\n"
     ]
    }
   ],
   "source": [
    "x=100\n",
    "y=200\n",
    "print(x,y)"
   ]
  },
  {
   "cell_type": "code",
   "execution_count": 17,
   "id": "459c3539-cf61-45bb-bd84-73214cf5fc44",
   "metadata": {},
   "outputs": [
    {
     "name": "stdout",
     "output_type": "stream",
     "text": [
      "6.25 12.5\n"
     ]
    }
   ],
   "source": [
    "y=x/2\n",
    "x=y/2\n",
    "print(x,y)"
   ]
  },
  {
   "cell_type": "code",
   "execution_count": null,
   "id": "1fa4a23e-1d97-4301-b447-24866b3defa2",
   "metadata": {},
   "outputs": [],
   "source": []
  },
  {
   "cell_type": "code",
   "execution_count": null,
   "id": "fff0cab0-6ec7-4d36-a3c5-108ac6e488bf",
   "metadata": {},
   "outputs": [],
   "source": []
  }
 ],
 "metadata": {
  "kernelspec": {
   "display_name": "Python 3 (ipykernel)",
   "language": "python",
   "name": "python3"
  },
  "language_info": {
   "codemirror_mode": {
    "name": "ipython",
    "version": 3
   },
   "file_extension": ".py",
   "mimetype": "text/x-python",
   "name": "python",
   "nbconvert_exporter": "python",
   "pygments_lexer": "ipython3",
   "version": "3.13.5"
  }
 },
 "nbformat": 4,
 "nbformat_minor": 5
}
