{
 "cells": [
  {
   "cell_type": "markdown",
   "id": "5886143c-afc2-413d-a0c2-1b9de2c1af04",
   "metadata": {},
   "source": [
    "### what are conditional statements?"
   ]
  },
  {
   "cell_type": "markdown",
   "id": "635c93eb-80c3-425a-8801-4abd8df51bbf",
   "metadata": {},
   "source": [
    "conditional statements in python are used to execute certain blocks of code based on specific condiotions these statements help control the flow of a program,making it behave differnetly in different situations."
   ]
  },
  {
   "cell_type": "markdown",
   "id": "238a3ac5-2efd-43f2-8191-a33bc8aaa335",
   "metadata": {},
   "source": [
    "## 1.IF STATEMENT: THE FIRST GATEKEEPER"
   ]
  },
  {
   "cell_type": "markdown",
   "id": "080334d2-2b4d-449e-88c6-598560e9f441",
   "metadata": {},
   "source": [
    "CONCEPT: execute a block of code only if a specific condition is true."
   ]
  },
  {
   "cell_type": "markdown",
   "id": "21292ec9-72e9-4506-b3d0-382f334315e4",
   "metadata": {},
   "source": [
    "# Syntax\n",
    "if condition: \n",
    "    # execute this block if condition is True"
   ]
  },
  {
   "cell_type": "code",
   "execution_count": 6,
   "id": "9620328f-e269-4a94-bce8-94a2a8383d5e",
   "metadata": {},
   "outputs": [
    {
     "name": "stdout",
     "output_type": "stream",
     "text": [
      "It's really hot today!\n"
     ]
    }
   ],
   "source": [
    "# Temperature Warning\n",
    "temperature = 35 \n",
    "if temperature > 30:\n",
    "    print(\"It's really hot today!\") \n",
    "\n"
   ]
  },
  {
   "cell_type": "code",
   "execution_count": 3,
   "id": "7ce6f856-6892-4f66-a5e1-0646cd967735",
   "metadata": {},
   "outputs": [
    {
     "name": "stdout",
     "output_type": "stream",
     "text": [
      "positive number\n"
     ]
    }
   ],
   "source": [
    "#checking a positive number\n",
    "number=10\n",
    "if number> 0:\n",
    "    print(\"positive number\")"
   ]
  },
  {
   "cell_type": "code",
   "execution_count": 7,
   "id": "874f628a-e7e6-4023-a61c-e9c7710d0fc7",
   "metadata": {},
   "outputs": [
    {
     "name": "stdout",
     "output_type": "stream",
     "text": [
      "that's a long name\n"
     ]
    }
   ],
   "source": [
    "#string length check\n",
    "name=\"python\"\n",
    "if len(name)> 5:\n",
    "    print(\"that's a long name\")"
   ]
  },
  {
   "cell_type": "code",
   "execution_count": 9,
   "id": "d1e3e173-74d5-4818-a9e4-d4b660e555ba",
   "metadata": {},
   "outputs": [
    {
     "name": "stdout",
     "output_type": "stream",
     "text": [
      "You are eligible to vote.\n"
     ]
    }
   ],
   "source": [
    "# Verifying a minimum age\n",
    "age = 22\n",
    "if age >= 18:\n",
    "   print(\"You are eligible to vote.\")"
   ]
  },
  {
   "cell_type": "code",
   "execution_count": 6,
   "id": "f34dc796-fbb4-44c3-9d35-8c21874546b1",
   "metadata": {},
   "outputs": [
    {
     "name": "stdout",
     "output_type": "stream",
     "text": [
      "password length is okay\n"
     ]
    }
   ],
   "source": [
    "#password strenght check based on its length\n",
    "password= \"hii@1234\"\n",
    "if len(password)>=8:\n",
    "    print(\"password length is okay\")"
   ]
  },
  {
   "cell_type": "code",
   "execution_count": 16,
   "id": "c0c3a3cf-6ced-4364-9d25-6dd89102d86b",
   "metadata": {},
   "outputs": [
    {
     "name": "stdin",
     "output_type": "stream",
     "text": [
      "enter age 12\n"
     ]
    },
    {
     "name": "stdout",
     "output_type": "stream",
     "text": [
      "not eligible for vote\n"
     ]
    }
   ],
   "source": [
    "age= int(input(\"enter age\"))\n",
    "if age>=18:\n",
    "   print(\"eligible for driving licence\")\n",
    "else:\n",
    "    print(\"not eligible for vote\")\n"
   ]
  },
  {
   "cell_type": "code",
   "execution_count": 19,
   "id": "6e62c205-57df-4a37-92af-97252e6e52e5",
   "metadata": {},
   "outputs": [
    {
     "name": "stdin",
     "output_type": "stream",
     "text": [
      "enter 12\n"
     ]
    },
    {
     "name": "stdout",
     "output_type": "stream",
     "text": [
      "Item is in stock.\n"
     ]
    }
   ],
   "source": [
    "# Check stock availability\n",
    "stock = int(input(\"enter\"))\n",
    "if stock > 0:\n",
    "  print(\"Item is in stock.\")\n",
    "\n"
   ]
  },
  {
   "cell_type": "markdown",
   "id": "9ecd1193-0b36-4169-a2be-1c143f7c603c",
   "metadata": {},
   "source": [
    "# exercise"
   ]
  },
  {
   "cell_type": "markdown",
   "id": "aa1b7e57-4728-418e-8ab3-4aa7fe63abbc",
   "metadata": {},
   "source": [
    "1. Eligible for a Driving License: Ask the user for their age. If the age is 18 or more, print\n",
    "“Eligible for a driving license”. Hint: age = int(input(“Enter age”))"
   ]
  },
  {
   "cell_type": "code",
   "execution_count": 22,
   "id": "fcd1f30a-42d1-4391-8f55-8138aec66313",
   "metadata": {},
   "outputs": [
    {
     "name": "stdin",
     "output_type": "stream",
     "text": [
      "enter age 23\n"
     ]
    },
    {
     "name": "stdout",
     "output_type": "stream",
     "text": [
      "eligible for driving license\n"
     ]
    }
   ],
   "source": [
    "age=int(input(\"enter age\"))\n",
    "if age>=18:\n",
    "  print(\"eligible for driving license\")"
   ]
  },
  {
   "cell_type": "markdown",
   "id": "2374f16f-2882-4406-93b5-f2d170e555e8",
   "metadata": {},
   "source": [
    "2. Multiple of 5: Prompt the user for an integer. If it is divisible by 5, print “Multiple of 5”."
   ]
  },
  {
   "cell_type": "code",
   "execution_count": 33,
   "id": "b57930c2-1506-4b08-bb5a-4a927543d910",
   "metadata": {},
   "outputs": [
    {
     "name": "stdin",
     "output_type": "stream",
     "text": [
      "enter multiple of 5: 12\n"
     ]
    },
    {
     "name": "stdout",
     "output_type": "stream",
     "text": [
      "multiple of 5\n"
     ]
    }
   ],
   "source": [
    "number=int(input(\"enter multiple of 5:\"))\n",
    "if number%5==0:\n",
    "  print(\"multiple of 5\")\n"
   ]
  },
  {
   "cell_type": "markdown",
   "id": "0e2d8262-ff74-4168-b986-336e85b05297",
   "metadata": {},
   "source": [
    "3. Character is a Vowel: Take a single character input. If it is one of a, e, i, o, u (in lowercase),\n",
    "print “Vowel”."
   ]
  },
  {
   "cell_type": "code",
   "execution_count": 41,
   "id": "dfdfb2e6-4f04-4852-9e8a-8c6f5f5f290e",
   "metadata": {},
   "outputs": [
    {
     "name": "stdin",
     "output_type": "stream",
     "text": [
      "enter single character input u\n"
     ]
    },
    {
     "name": "stdout",
     "output_type": "stream",
     "text": [
      "vowels\n"
     ]
    }
   ],
   "source": [
    "vowel=str(input(\"enter single character input\"))\n",
    "if vowel.lower() in{'a','e','i','o','u'}:\n",
    "    print(\"vowels\")"
   ]
  },
  {
   "cell_type": "markdown",
   "id": "065a1f79-012c-4bac-a48a-b4536141f4a4",
   "metadata": {},
   "source": [
    "4. Long Word Alert: Ask for a word from the user. If the word has more than 8 characters,\n",
    "print “That’s a long word!”.\n",
    "\n",
    "\n"
   ]
  },
  {
   "cell_type": "markdown",
   "id": "9078b260-6414-4c72-9ffd-108e28e935ec",
   "metadata": {},
   "source": [
    "word= (input(\"enter character\"))\n",
    "if len(word)>8:\n",
    "    print(\"thats a long word\")\n",
    "    "
   ]
  },
  {
   "cell_type": "markdown",
   "id": "a42a5313-5eb9-461c-adcc-73af629dc16a",
   "metadata": {},
   "source": [
    "5. Weekend Detector: Take the day name from the user (e.g., “Monday”, “Saturday”). If it is\n",
    "“Saturday” or “Sunday”, print “Weekend”.\n"
   ]
  },
  {
   "cell_type": "code",
   "execution_count": 51,
   "id": "7b801b79-0995-471f-a214-fd7938099311",
   "metadata": {},
   "outputs": [
    {
     "name": "stdin",
     "output_type": "stream",
     "text": [
      "enter day saturday\n"
     ]
    },
    {
     "name": "stdout",
     "output_type": "stream",
     "text": [
      "weekend\n"
     ]
    }
   ],
   "source": [
    "day=input(\"enter day\")\n",
    "if day in {\"saturday\",\"sunday\"}:\n",
    "  print(\"weekend\")"
   ]
  },
  {
   "cell_type": "markdown",
   "id": "ef538beb-84c9-47b4-9662-49eeb3cbdbbf",
   "metadata": {},
   "source": [
    "6. Exam Eligibility: Ask for attendance percentage and average assignment score. If attendance\n",
    "is at least 75% and score is at least 50, print “Eligible for exam”.\n"
   ]
  },
  {
   "cell_type": "code",
   "execution_count": 65,
   "id": "2066eedd-ba8a-473d-b395-fb11dd5c2ba1",
   "metadata": {},
   "outputs": [
    {
     "name": "stdin",
     "output_type": "stream",
     "text": [
      "enter attendance 87\n",
      "enter score 67\n"
     ]
    },
    {
     "name": "stdout",
     "output_type": "stream",
     "text": [
      "eligible for exam\n"
     ]
    }
   ],
   "source": [
    "\n",
    "attendance=int(input(\"enter attendance\"))\n",
    "score=int(input(\"enter score\"))\n",
    "if attendance >=75 and score>=50:\n",
    "    print(\"eligible for exam\")"
   ]
  },
  {
   "cell_type": "markdown",
   "id": "11855a36-46fc-49a8-8d7a-bc2246e9017b",
   "metadata": {},
   "source": [
    "7. Discount Eligibility: Ask for total bill amount and if they are a member (yes/no). If the bill\n",
    "is above ff1000 or they are a member, print “Discount applied”\n"
   ]
  },
  {
   "cell_type": "code",
   "execution_count": 75,
   "id": "d9f5c77e-4449-4269-bb25-f64abb2b9089",
   "metadata": {},
   "outputs": [
    {
     "name": "stdin",
     "output_type": "stream",
     "text": [
      "total bill amount 1100\n",
      "enter member yes\n"
     ]
    },
    {
     "name": "stdout",
     "output_type": "stream",
     "text": [
      "discount applied\n"
     ]
    }
   ],
   "source": [
    "bill=int(input(\"total bill amount\"))\n",
    "member=input(\"enter member\")\n",
    "if bill>1000 and member==\"yes\":\n",
    "  print(\"discount applied\")\n",
    "  \n"
   ]
  },
  {
   "cell_type": "markdown",
   "id": "1aeb1149-060d-4c01-9de7-4ada35d01a82",
   "metadata": {},
   "source": [
    "8. Password Security Combo: Ask for a password. If the length is at least 8 and it contains “@”\n",
    "or “#”, print “Password seems secure”."
   ]
  },
  {
   "cell_type": "code",
   "execution_count": null,
   "id": "e5774fcb-4d0a-43c3-bdfe-c40941119694",
   "metadata": {},
   "outputs": [],
   "source": [
    "password=input(\"enter password\")\n",
    "\n",
    "if len(password)>=8 and (\"@\"in password or \"#\" in password):\n",
    "    print(\"password seems secure\")\n"
   ]
  },
  {
   "cell_type": "markdown",
   "id": "90f7d829-1b76-41e1-aed6-13c9d6c02d4f",
   "metadata": {},
   "source": [
    "9. Not Containing a Word: Ask for a sentence. If it does not contain the word “boring”, print\n",
    "“Looks interesting”."
   ]
  },
  {
   "cell_type": "code",
   "execution_count": 4,
   "id": "7c4ad803-ab0f-422c-9c0d-a68e243b1301",
   "metadata": {},
   "outputs": [
    {
     "name": "stdin",
     "output_type": "stream",
     "text": [
      "enter a word boring\n"
     ]
    }
   ],
   "source": [
    "word=input(\"enter a word\")\n",
    "if word not in {\"boring\"}:\n",
    "    print(\"looks interesting\")\n",
    "    "
   ]
  },
  {
   "cell_type": "markdown",
   "id": "97396c6e-8b98-4272-91e1-1fd62959879c",
   "metadata": {},
   "source": [
    "10. In Range Check: Ask for a number. If it is greater than or equal to 10 and less than or equal\n",
    "to 20, print “Number is within the range 10–20”."
   ]
  },
  {
   "cell_type": "code",
   "execution_count": 7,
   "id": "afbb343c-3afb-4118-8177-833c3d2a2640",
   "metadata": {},
   "outputs": [
    {
     "name": "stdin",
     "output_type": "stream",
     "text": [
      "enter a number 12\n"
     ]
    },
    {
     "name": "stdout",
     "output_type": "stream",
     "text": [
      "number is within the range 10-20\n"
     ]
    }
   ],
   "source": [
    "number=int(input(\"enter a number\"))\n",
    "if number>=10 and number<=20:\n",
    "    \n",
    "    print(\"number is within the range 10-20\")"
   ]
  },
  {
   "cell_type": "markdown",
   "id": "b1e37968-14a6-4ee9-bee3-902159059e1c",
   "metadata": {},
   "source": [
    "# 2. The else Clause: The Alternate Path"
   ]
  },
  {
   "cell_type": "markdown",
   "id": "b5a95b1e-baa7-422d-9bc9-6c8b4ba58609",
   "metadata": {},
   "source": [
    "Concept: Define what happens when the if condition is not met."
   ]
  },
  {
   "cell_type": "code",
   "execution_count": null,
   "id": "99cd2c81-7464-4176-89e1-f1bc459ccafe",
   "metadata": {},
   "outputs": [],
   "source": [
    "# Syntax\n",
    "if condition:\n",
    "# executed if condition is True\n",
    "else:\n",
    "# executed if condition is False"
   ]
  },
  {
   "cell_type": "code",
   "execution_count": 9,
   "id": "cabb5a20-911e-4a50-9760-b03fb1684979",
   "metadata": {},
   "outputs": [
    {
     "name": "stdout",
     "output_type": "stream",
     "text": [
      "Keep trying\n"
     ]
    }
   ],
   "source": [
    "# Example\n",
    "score = 45\n",
    "if score >= 50:\n",
    " print(\"You passed\")\n",
    "else:\n",
    " print(\"Keep trying\") "
   ]
  },
  {
   "cell_type": "code",
   "execution_count": 11,
   "id": "4748f443-c9e2-4f19-bbb1-bae27dc4a59d",
   "metadata": {},
   "outputs": [
    {
     "name": "stdout",
     "output_type": "stream",
     "text": [
      "Odd number\n"
     ]
    }
   ],
   "source": [
    "#1. Even or Odd\n",
    "num = 7\n",
    "if num % 2 == 0:\n",
    " print(\"Even number\")\n",
    "else:\n",
    " print(\"Odd number\")"
   ]
  },
  {
   "cell_type": "code",
   "execution_count": 15,
   "id": "3a740f2a-e0f8-46eb-9790-01a05e76704b",
   "metadata": {},
   "outputs": [
    {
     "name": "stdin",
     "output_type": "stream",
     "text": [
      "enter age 12\n"
     ]
    },
    {
     "name": "stdout",
     "output_type": "stream",
     "text": [
      "Minor\n"
     ]
    }
   ],
   "source": [
    " # 2. Adult or Minor\n",
    "age=int(input(\"enter age\"))\n",
    "if age >= 18:\n",
    " print(\"Adult\")\n",
    "else:\n",
    " print(\"Minor\")\n"
   ]
  },
  {
   "cell_type": "code",
   "execution_count": 16,
   "id": "f51d55e4-0299-4f45-bfdc-08155db2277d",
   "metadata": {},
   "outputs": [
    {
     "name": "stdout",
     "output_type": "stream",
     "text": [
      "Pass\n"
     ]
    }
   ],
   "source": [
    "# 3. Pass or Fail\n",
    "marks = 42\n",
    "if marks >= 40:\n",
    " print(\"Pass\")\n",
    "else:\n",
    " print(\"Fail\")"
   ]
  },
  {
   "cell_type": "code",
   "execution_count": 19,
   "id": "39382250-1ccc-489f-ab24-0690da84d4ef",
   "metadata": {},
   "outputs": [
    {
     "name": "stdout",
     "output_type": "stream",
     "text": [
      "Negative\n"
     ]
    }
   ],
   "source": [
    " # 4. Positive or Negative\n",
    "number = -5\n",
    "if number >= 0:\n",
    " print(\"Positive\")\n",
    "else:\n",
    " print(\"Negative\")\n"
   ]
  },
  {
   "cell_type": "code",
   "execution_count": 20,
   "id": "584d923c-c761-4216-9c4c-184f36e284ba",
   "metadata": {},
   "outputs": [
    {
     "name": "stdout",
     "output_type": "stream",
     "text": [
      "Free delivery\n"
     ]
    }
   ],
   "source": [
    "# 5. Free delivery or Paid delivery\n",
    "order_amount = 900\n",
    "if order_amount >= 500:\n",
    " print(\"Free delivery\")\n",
    "else:\n",
    " print(\"Delivery charge applies\")"
   ]
  },
  {
   "cell_type": "code",
   "execution_count": 5,
   "id": "2b2b029b-a51e-4a15-bccc-fb9adcb28b10",
   "metadata": {},
   "outputs": [
    {
     "ename": "NameError",
     "evalue": "name 'is_holiday' is not defined",
     "output_type": "error",
     "traceback": [
      "\u001b[31m---------------------------------------------------------------------------\u001b[39m",
      "\u001b[31mNameError\u001b[39m                                 Traceback (most recent call last)",
      "\u001b[36mCell\u001b[39m\u001b[36m \u001b[39m\u001b[32mIn[5]\u001b[39m\u001b[32m, line 3\u001b[39m\n\u001b[32m      1\u001b[39m \u001b[38;5;66;03m# 6. Weekend or Holiday\u001b[39;00m\n\u001b[32m      2\u001b[39m day = \u001b[33m\"\u001b[39m\u001b[33mFriday\u001b[39m\u001b[33m\"\u001b[39m\n\u001b[32m----> \u001b[39m\u001b[32m3\u001b[39m \u001b[38;5;28;01mif\u001b[39;00m day.lower() \u001b[38;5;129;01min\u001b[39;00m {\u001b[33m\"\u001b[39m\u001b[33msaturday\u001b[39m\u001b[33m\"\u001b[39m, \u001b[33m\"\u001b[39m\u001b[33msunday\u001b[39m\u001b[33m\"\u001b[39m} \u001b[38;5;129;01mor\u001b[39;00m \u001b[43mis_holiday\u001b[49m== \u001b[38;5;28;01mTrue\u001b[39;00m:\n\u001b[32m      4\u001b[39m     \u001b[38;5;28mprint\u001b[39m(\u001b[33m\"\u001b[39m\u001b[33mDay off!\u001b[39m\u001b[33m\"\u001b[39m)\n\u001b[32m      5\u001b[39m \u001b[38;5;28;01melse\u001b[39;00m:\n",
      "\u001b[31mNameError\u001b[39m: name 'is_holiday' is not defined"
     ]
    }
   ],
   "source": [
    "# 6. Weekend or Holiday\n",
    "day = \"Friday\"\n",
    "if day.lower() in {\"saturday\", \"sunday\"} or is_holiday:\n",
    "    print(\"Day off!\")\n",
    "else:\n",
    " print(\"Regular working day\")"
   ]
  },
  {
   "cell_type": "code",
   "execution_count": 23,
   "id": "b8c4c28b-c60e-4515-b411-8200fccf9262",
   "metadata": {},
   "outputs": [
    {
     "name": "stdout",
     "output_type": "stream",
     "text": [
      "Eligible for exam\n"
     ]
    }
   ],
   "source": [
    "# 7. Valid Exam Candidate\n",
    "attendance = 80\n",
    "avg_marks = 55\n",
    "if attendance >= 75 and avg_marks >= 50:\n",
    " print(\"Eligible for exam\")\n",
    "else:\n",
    " print(\"Not eligible for exam\")"
   ]
  },
  {
   "cell_type": "code",
   "execution_count": 25,
   "id": "f093d1e8-7015-47ca-900a-115a82f26769",
   "metadata": {},
   "outputs": [
    {
     "name": "stdout",
     "output_type": "stream",
     "text": [
      "Perfect day for a picnic\n"
     ]
    }
   ],
   "source": [
    "# 8. Weather Decision\n",
    "is_raining = False\n",
    "temperature = 22\n",
    "if not is_raining and (18 <= temperature <= 28):\n",
    " print(\"Perfect day for a picnic\")\n",
    "else:\n",
    " print(\"Better stay in\")"
   ]
  },
  {
   "cell_type": "code",
   "execution_count": 27,
   "id": "843107b7-677a-4fdc-ae5f-3fef322ad8a5",
   "metadata": {},
   "outputs": [
    {
     "name": "stdout",
     "output_type": "stream",
     "text": [
      "Serving your choice\n"
     ]
    }
   ],
   "source": [
    "# 9. Exclusive Choice (You can select either coffee or tea, not both/neither)\n",
    "wants_coffee = True\n",
    "wants_tea = False\n",
    "if wants_coffee != wants_tea:\n",
    " print(\"Serving your choice\")\n",
    "else:\n",
    " print(\"You must choose either coffee or tea, not both/neither\")"
   ]
  },
  {
   "cell_type": "code",
   "execution_count": 29,
   "id": "0c9470de-c534-43c2-9a18-00d87ab30764",
   "metadata": {},
   "outputs": [
    {
     "name": "stdout",
     "output_type": "stream",
     "text": [
      "Username accepted\n"
     ]
    }
   ],
   "source": [
    " # 10. Username Check (No Spaces)\n",
    "username = \"John_Doe\"\n",
    "if len(username) >= 5 and \" \" not in username:\n",
    " print(\"Username accepted\")\n",
    "else:\n",
    " print(\"Invalid username\")\n"
   ]
  },
  {
   "cell_type": "markdown",
   "id": "0149bd4b-7e16-414f-a890-be7833334983",
   "metadata": {},
   "source": [
    "# Exercise"
   ]
  },
  {
   "cell_type": "markdown",
   "id": "271c898d-c03a-4659-8618-7ea4a0e2a4b1",
   "metadata": {},
   "source": [
    "1. Number Sign Detector Take a number as input. If it’s greater than or equal to zero, print\n",
    "“Non-negative”. Otherwise, print “Negative”"
   ]
  },
  {
   "cell_type": "code",
   "execution_count": 32,
   "id": "d208df9b-57b2-4b40-90ef-e15595333294",
   "metadata": {},
   "outputs": [
    {
     "name": "stdin",
     "output_type": "stream",
     "text": [
      "enter a number -3\n"
     ]
    },
    {
     "name": "stdout",
     "output_type": "stream",
     "text": [
      "negative\n"
     ]
    }
   ],
   "source": [
    "number=int(input(\"enter a number\"))\n",
    "if number>=0:\n",
    "    print(\"non negative\")\n",
    "else:\n",
    "    print(\"negative\")"
   ]
  },
  {
   "cell_type": "markdown",
   "id": "de183e1d-e0f2-4663-8078-607d456084d8",
   "metadata": {},
   "source": [
    "2. Voting Age with Upper Limit Ask for the user’s age. If the age is between 18 and 120\n",
    "(inclusive), print “Eligible to vote”. Otherwise, print “Not eligible”.\n"
   ]
  },
  {
   "cell_type": "code",
   "execution_count": 48,
   "id": "d81a8e16-d657-4b19-aeaa-6087b8ca4186",
   "metadata": {},
   "outputs": [
    {
     "name": "stdin",
     "output_type": "stream",
     "text": [
      "enter age 23\n"
     ]
    },
    {
     "name": "stdout",
     "output_type": "stream",
     "text": [
      "eligible to vote\n"
     ]
    }
   ],
   "source": [
    "age=int(input(\"enter age\"))\n",
    "\n",
    "if 18<= age<= 120:\n",
    "    print(\"eligible to vote\")\n",
    "    \n",
    "else:\n",
    "    print(\"not eligible to vote\")"
   ]
  },
  {
   "cell_type": "markdown",
   "id": "d5bc5a9e-7a89-4a72-b375-01cc6a3119dc",
   "metadata": {},
   "source": [
    " 3. Exclusive Multiple of 4 or 6 Input a number. If it is divisible by exactly one of 4 or 6 (but not both), print “Special multiple”. Otherwise, print “Not special”.\n"
   ]
  },
  {
   "cell_type": "code",
   "execution_count": 55,
   "id": "b2d068ce-b445-4742-b96e-0f612afca137",
   "metadata": {},
   "outputs": [
    {
     "name": "stdin",
     "output_type": "stream",
     "text": [
      "enter 24\n"
     ]
    },
    {
     "name": "stdout",
     "output_type": "stream",
     "text": [
      "not special\n"
     ]
    }
   ],
   "source": [
    "number=int(input(\"enter\"))\n",
    "if (number%4==0 and number%6!=0)or (number%6==0 and number%4!=0):\n",
    "           print(\"special multiple\")\n",
    "    \n",
    "else:\n",
    "        print(\"not special\")"
   ]
  },
  {
   "cell_type": "markdown",
   "id": "4dbce6b2-c01a-4fdb-ad0f-e4d95a1cb94a",
   "metadata": {},
   "source": [
    "4. Username Validation Ask for a username. If it starts with a letter and is at least 5 characters\n",
    "long and contains no spaces, print “Valid username”. Otherwise, print “Invalid username”.\n",
    "\n",
    "    "
   ]
  },
  {
   "cell_type": "code",
   "execution_count": 62,
   "id": "80af0d86-5e34-467e-b8c4-ab525fb0d7fa",
   "metadata": {},
   "outputs": [
    {
     "name": "stdin",
     "output_type": "stream",
     "text": [
      "enter username nishi tyagi\n"
     ]
    },
    {
     "name": "stdout",
     "output_type": "stream",
     "text": [
      "invalid\n"
     ]
    }
   ],
   "source": [
    "username=input(\"enter username\")\n",
    "if len(username)>=5 and \" \" not in username:\n",
    "    print(\"valid username\")\n",
    "else:\n",
    "    print(\"invalid\")\n",
    "\n"
   ]
  },
  {
   "cell_type": "markdown",
   "id": "c403158f-b948-46ad-9dfa-68f86609c480",
   "metadata": {},
   "source": [
    "5. Water Temperature Classification Take water temperature as input in Celsius. If it’s 100 or\n",
    "more, print “Boiling”. Otherwise, print “Not boiling”."
   ]
  },
  {
   "cell_type": "code",
   "execution_count": 64,
   "id": "173263c0-8736-43d4-89db-9d9de2e8b6bf",
   "metadata": {},
   "outputs": [
    {
     "name": "stdin",
     "output_type": "stream",
     "text": [
      "enter temp 78\n"
     ]
    },
    {
     "name": "stdout",
     "output_type": "stream",
     "text": [
      "not boiling\n"
     ]
    }
   ],
   "source": [
    "temperature=int(input(\"enter temp\"))\n",
    "if temperature>=100:\n",
    "    print(\"boiling\")\n",
    "else:\n",
    "    print(\"not boiling\")\n"
   ]
  },
  {
   "cell_type": "markdown",
   "id": "f30d27ed-29c4-4e80-927c-e803fadb1654",
   "metadata": {},
   "source": [
    "6. Library Late Fee Check Ask for the number of days a book is late. If it’s 0, print “No fine”.\n",
    "Otherwise, print “Fine applicable”"
   ]
  },
  {
   "cell_type": "code",
   "execution_count": 73,
   "id": "72c9fbbf-5b97-43ac-857e-5b47fe704e3f",
   "metadata": {},
   "outputs": [
    {
     "name": "stdin",
     "output_type": "stream",
     "text": [
      "day 3\n"
     ]
    },
    {
     "name": "stdout",
     "output_type": "stream",
     "text": [
      "fine applicable\n"
     ]
    }
   ],
   "source": [
    "day=int(input(\"day\"))\n",
    "if day==0:\n",
    "    print(\"no fine\")\n",
    "else:\n",
    "    print(\"fine applicable\")"
   ]
  },
  {
   "cell_type": "markdown",
   "id": "b0d0eab5-bbbb-4296-b66d-7187e2010969",
   "metadata": {},
   "source": [
    "7. Gym Access Rules Ask for age and if the user has a gym membership (yes/no). If the person\n",
    "is at least 16 years old and is a member, print “Access granted”. Otherwise, print “Access\n",
    "denied”.\n",
    "\n"
   ]
  },
  {
   "cell_type": "code",
   "execution_count": 78,
   "id": "84699b78-b226-4871-a4ee-9acde3c619c8",
   "metadata": {},
   "outputs": [
    {
     "name": "stdin",
     "output_type": "stream",
     "text": [
      "enter age 25\n",
      "enter membership yes\n"
     ]
    },
    {
     "name": "stdout",
     "output_type": "stream",
     "text": [
      "access denied\n"
     ]
    }
   ],
   "source": [
    "user_age=int(input(\"enter age\"))\n",
    "is_member=(input(\"enter membership\"))\n",
    "if user_age<=16 and is_member==\"yes\": \n",
    "     print(\"access granted\")\n",
    "    \n",
    "else:\n",
    "    print(\"access denied\")"
   ]
  },
  {
   "cell_type": "markdown",
   "id": "17e1a1d6-40f1-43a4-9612-7299ff9b6c7a",
   "metadata": {},
   "source": [
    "8.Security Clearance Ask if the person has an ID card (yes/no) and if they passed the security\n",
    "check (yes/no). If both are “yes”, print “Entry allowed”. Otherwise, print “Entry denied”"
   ]
  },
  {
   "cell_type": "code",
   "execution_count": 83,
   "id": "1041ac1b-b2c2-458d-96fe-f637816a4f57",
   "metadata": {},
   "outputs": [
    {
     "name": "stdin",
     "output_type": "stream",
     "text": [
      "enter id card yes\n",
      "enter if you passed security check no\n"
     ]
    },
    {
     "name": "stdout",
     "output_type": "stream",
     "text": [
      "denied\n"
     ]
    }
   ],
   "source": [
    "id_card=(input(\"enter id card\"))\n",
    "security_check=(input(\"enter if you passed security check\"))\n",
    "if id_card==\"yes\" and security_check==\"yes\":\n",
    "        print(\"entry allowed\")\n",
    "else:\n",
    "        print(\"denied\")\n",
    "         \n",
    "\n"
   ]
  },
  {
   "cell_type": "markdown",
   "id": "604cc699-2c2a-4849-9461-a6cc697b7113",
   "metadata": {},
   "source": [
    "9. Password Contains Number Ask for a password. If it contains at least one digit and length\n",
    "is at least 8 or it contains both @ and #, print “Strong password”. Otherwise, print “Weak\n",
    "password”."
   ]
  },
  {
   "cell_type": "code",
   "execution_count": 30,
   "id": "a44a2d2e-4a8b-41ab-9732-2b2fcd4f57cb",
   "metadata": {},
   "outputs": [
    {
     "name": "stdin",
     "output_type": "stream",
     "text": [
      "enter a password nishityagi@#123\n"
     ]
    },
    {
     "name": "stdout",
     "output_type": "stream",
     "text": [
      "strong password\n"
     ]
    }
   ],
   "source": [
    "password=(input(\"enter a password\"))\n",
    "if len (password) >=8 and \"@\" and \"#\" in password:\n",
    "    print(\"strong password\")\n",
    "else:\n",
    "    print(\"weak password\")\n"
   ]
  },
  {
   "cell_type": "markdown",
   "id": "9246e3c7-6bce-4bfb-98ec-73ece10bc3ce",
   "metadata": {},
   "source": [
    "10. Store Open or Closed Ask for the hour of the day (0–23). If it’s between 9 and 21 (inclusive)\n",
    "and it’s not a Sunday, print “Store is open”. Otherwise, print “Store is closed”."
   ]
  },
  {
   "cell_type": "code",
   "execution_count": 12,
   "id": "6854debe-4573-432b-acd8-081e51a88429",
   "metadata": {},
   "outputs": [
    {
     "name": "stdin",
     "output_type": "stream",
     "text": [
      "hours: 24\n",
      "days: friday\n"
     ]
    },
    {
     "name": "stdout",
     "output_type": "stream",
     "text": [
      "store is closed\n"
     ]
    }
   ],
   "source": [
    "hours=int(input(\"hours:\"))\n",
    "day=input(\"days:\")\n",
    "if 9<hours<22 and day in{\"monday\",\"tuesday\",\"wednesday\",\"thursday\",\"friday\",\"saturday\"}:\n",
    "    print(\"store is open\")\n",
    "else:\n",
    "    print(\"store is closed\")\n",
    "    "
   ]
  },
  {
   "cell_type": "code",
   "execution_count": null,
   "id": "bab45992-0bc5-4da4-af20-d1d8453fcb4d",
   "metadata": {},
   "outputs": [],
   "source": []
  }
 ],
 "metadata": {
  "kernelspec": {
   "display_name": "Python 3 (ipykernel)",
   "language": "python",
   "name": "python3"
  },
  "language_info": {
   "codemirror_mode": {
    "name": "ipython",
    "version": 3
   },
   "file_extension": ".py",
   "mimetype": "text/x-python",
   "name": "python",
   "nbconvert_exporter": "python",
   "pygments_lexer": "ipython3",
   "version": "3.13.5"
  }
 },
 "nbformat": 4,
 "nbformat_minor": 5
}
