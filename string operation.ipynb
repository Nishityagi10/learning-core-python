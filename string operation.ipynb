{
 "cells": [
  {
   "cell_type": "markdown",
   "id": "271ed27f-60ab-43da-a911-5859266ed7f6",
   "metadata": {},
   "source": [
    "# INDEXING"
   ]
  },
  {
   "cell_type": "markdown",
   "id": "6b670b42-b5e9-4e4e-b777-f86bab7b4f39",
   "metadata": {},
   "source": [
    "indexing means accessing individual characters(elements) of string by its position within string"
   ]
  },
  {
   "cell_type": "markdown",
   "id": "814fad48-f453-41d0-92bb-0ca74cdf64b7",
   "metadata": {},
   "source": [
    "### syntax for indexing- variable_name[index]"
   ]
  },
  {
   "cell_type": "markdown",
   "id": "6bb7b38c-531b-4de0-a7a0-5118dd3b5d0f",
   "metadata": {},
   "source": [
    "NOTE: POSITIVE INDEXING STARTS WITH 0"
   ]
  },
  {
   "cell_type": "code",
   "execution_count": 1,
   "id": "dc5aad44-6f6a-4a6c-b2f4-75358e558d8a",
   "metadata": {},
   "outputs": [
    {
     "name": "stdout",
     "output_type": "stream",
     "text": [
      "p\n"
     ]
    }
   ],
   "source": [
    "example= \"python is easy\"\n",
    "print(example[0])"
   ]
  },
  {
   "cell_type": "code",
   "execution_count": 3,
   "id": "587eff6a-69a8-44c6-a7f4-c2f96dc7bca1",
   "metadata": {},
   "outputs": [
    {
     "name": "stdout",
     "output_type": "stream",
     "text": [
      " \n"
     ]
    }
   ],
   "source": [
    "print(example[6]) #space is printed"
   ]
  },
  {
   "cell_type": "code",
   "execution_count": 4,
   "id": "e46e52e5-0c68-41df-bcc1-25dbff60fe13",
   "metadata": {},
   "outputs": [
    {
     "name": "stdout",
     "output_type": "stream",
     "text": [
      "i\n"
     ]
    }
   ],
   "source": [
    "print(example[7])"
   ]
  },
  {
   "cell_type": "code",
   "execution_count": 7,
   "id": "bafccad3-6749-4f78-b26f-c95994671c7a",
   "metadata": {},
   "outputs": [
    {
     "name": "stdout",
     "output_type": "stream",
     "text": [
      "h\n"
     ]
    }
   ],
   "source": [
    "print(example[3])"
   ]
  },
  {
   "cell_type": "markdown",
   "id": "fd3508a7-16b1-46dc-ae39-50b6cc9d7c6a",
   "metadata": {},
   "source": [
    "example"
   ]
  },
  {
   "cell_type": "code",
   "execution_count": 8,
   "id": "20491f5b-3da6-41db-ba44-0d516a82396b",
   "metadata": {},
   "outputs": [
    {
     "name": "stdout",
     "output_type": "stream",
     "text": [
      "I\n"
     ]
    }
   ],
   "source": [
    "country= \"India\"\n",
    "print(country[0])"
   ]
  },
  {
   "cell_type": "code",
   "execution_count": 9,
   "id": "55bd3a11-7bae-481d-8f9b-13df42143adc",
   "metadata": {},
   "outputs": [
    {
     "name": "stdout",
     "output_type": "stream",
     "text": [
      "i\n"
     ]
    }
   ],
   "source": [
    "print(country[3])"
   ]
  },
  {
   "cell_type": "markdown",
   "id": "3f3861d1-9709-4bb3-aa53-acd24128e04b",
   "metadata": {},
   "source": [
    "NOTE: NEGATIVE INDEXING STARTS WITH -1 FROM THE RIGHT SIDE"
   ]
  },
  {
   "cell_type": "code",
   "execution_count": 10,
   "id": "b2d81169-707c-49e0-ade7-2b3e914b1126",
   "metadata": {},
   "outputs": [
    {
     "name": "stdout",
     "output_type": "stream",
     "text": [
      "o\n"
     ]
    }
   ],
   "source": [
    "example=\"discovery\"   #positive indexing\n",
    "print(example[4])"
   ]
  },
  {
   "cell_type": "code",
   "execution_count": 12,
   "id": "00d16395-c688-49ca-aa5b-9ac5c93777b0",
   "metadata": {},
   "outputs": [
    {
     "name": "stdout",
     "output_type": "stream",
     "text": [
      "o\n"
     ]
    }
   ],
   "source": [
    "print(example[-5])    #negative indexing"
   ]
  },
  {
   "cell_type": "markdown",
   "id": "4f23be8e-5183-4e78-a639-3ea4374b9573",
   "metadata": {},
   "source": [
    "## SLICING\n",
    "slicing means accessing a subset of string based on its indices(index)"
   ]
  },
  {
   "cell_type": "markdown",
   "id": "f5f40443-44a0-43da-a19c-49b7836202b9",
   "metadata": {},
   "source": [
    "#### positive slicing"
   ]
  },
  {
   "cell_type": "markdown",
   "id": "bfac7c62-7fb7-476d-87bc-bb47aa5ac535",
   "metadata": {},
   "source": [
    "#### string[start index: stop index]\n",
    "start index is inclusive and stop index is exclusive"
   ]
  },
  {
   "cell_type": "code",
   "execution_count": 4,
   "id": "4291ed74-804a-4689-931f-de1a788d2a8f",
   "metadata": {},
   "outputs": [
    {
     "name": "stdout",
     "output_type": "stream",
     "text": [
      "Pytho\n"
     ]
    }
   ],
   "source": [
    "#string[start index: stop index]\n",
    "example=\"Python is easy \"\n",
    "print(example[0:5])  #the stop index is exclusive "
   ]
  },
  {
   "cell_type": "code",
   "execution_count": 5,
   "id": "0e5e922a-af7e-4a88-861a-a4e5d3d5c606",
   "metadata": {},
   "outputs": [
    {
     "name": "stdout",
     "output_type": "stream",
     "text": [
      "Python\n"
     ]
    }
   ],
   "source": [
    "print(example[0:6])"
   ]
  },
  {
   "cell_type": "code",
   "execution_count": 6,
   "id": "bd851835-7381-4919-ab67-98a41390ddd9",
   "metadata": {},
   "outputs": [
    {
     "name": "stdout",
     "output_type": "stream",
     "text": [
      "n is e\n"
     ]
    }
   ],
   "source": [
    "print(example[5:11])"
   ]
  },
  {
   "cell_type": "code",
   "execution_count": 7,
   "id": "e82e5e5a-e24d-412f-beef-e91d43cbee2d",
   "metadata": {},
   "outputs": [
    {
     "name": "stdout",
     "output_type": "stream",
     "text": [
      "Python is easy \n"
     ]
    }
   ],
   "source": [
    "print(example[0:15])"
   ]
  },
  {
   "cell_type": "code",
   "execution_count": 8,
   "id": "1b1b2b12-eaa0-494c-ac05-f6e458855fea",
   "metadata": {},
   "outputs": [
    {
     "name": "stdout",
     "output_type": "stream",
     "text": [
      "on is easy \n"
     ]
    }
   ],
   "source": [
    "#leave the stop index blank\n",
    "print(example[4:])"
   ]
  },
  {
   "cell_type": "code",
   "execution_count": 9,
   "id": "6419ee5f-67b6-4a0e-ac0f-c9db90df6621",
   "metadata": {},
   "outputs": [
    {
     "name": "stdout",
     "output_type": "stream",
     "text": [
      "ython is easy \n"
     ]
    }
   ],
   "source": [
    "print(example[1:])"
   ]
  },
  {
   "cell_type": "code",
   "execution_count": 10,
   "id": "c2b6ed1d-8703-40b4-a348-2015ac3d0e9a",
   "metadata": {},
   "outputs": [
    {
     "name": "stdout",
     "output_type": "stream",
     "text": [
      "Python\n"
     ]
    }
   ],
   "source": [
    "#leave the start index blank\n",
    "print(example[:6])"
   ]
  },
  {
   "cell_type": "code",
   "execution_count": 11,
   "id": "f8abc734-d586-46a0-896e-74b0b081c661",
   "metadata": {},
   "outputs": [
    {
     "data": {
      "text/plain": [
       "'Python is easy '"
      ]
     },
     "execution_count": 11,
     "metadata": {},
     "output_type": "execute_result"
    }
   ],
   "source": [
    "#leave both the index blank\n",
    "example[:]"
   ]
  },
  {
   "cell_type": "markdown",
   "id": "f0f579a7-8f9e-4083-886f-1c11f2f78671",
   "metadata": {},
   "source": [
    "  #### NEGATIVE SLICING\n"
   ]
  },
  {
   "cell_type": "code",
   "execution_count": 12,
   "id": "9ee9fe50-2ea8-4f13-9722-96f05cc92a14",
   "metadata": {},
   "outputs": [
    {
     "data": {
      "text/plain": [
       "'Python'"
      ]
     },
     "execution_count": 12,
     "metadata": {},
     "output_type": "execute_result"
    }
   ],
   "source": [
    "example[-15:-9]"
   ]
  },
  {
   "cell_type": "code",
   "execution_count": 13,
   "id": "03007763-3196-4b23-9b78-7037c2918cb8",
   "metadata": {},
   "outputs": [
    {
     "data": {
      "text/plain": [
       "'is'"
      ]
     },
     "execution_count": 13,
     "metadata": {},
     "output_type": "execute_result"
    }
   ],
   "source": [
    "example[-8:-6]"
   ]
  },
  {
   "cell_type": "code",
   "execution_count": 14,
   "id": "2b41fe6b-6c35-4623-a1ea-2b3444d09a66",
   "metadata": {},
   "outputs": [
    {
     "data": {
      "text/plain": [
       "'Python is easy '"
      ]
     },
     "execution_count": 14,
     "metadata": {},
     "output_type": "execute_result"
    }
   ],
   "source": [
    "example[-15:]"
   ]
  },
  {
   "cell_type": "code",
   "execution_count": 15,
   "id": "df7a62ff-118b-491d-ab1c-4cb56e7c96a7",
   "metadata": {},
   "outputs": [
    {
     "data": {
      "text/plain": [
       "'on is easy '"
      ]
     },
     "execution_count": 15,
     "metadata": {},
     "output_type": "execute_result"
    }
   ],
   "source": [
    "example[-11:]"
   ]
  },
  {
   "cell_type": "code",
   "execution_count": 16,
   "id": "d5c25117-a0cc-4299-a22f-e3c73c988207",
   "metadata": {},
   "outputs": [
    {
     "data": {
      "text/plain": [
       "'Python'"
      ]
     },
     "execution_count": 16,
     "metadata": {},
     "output_type": "execute_result"
    }
   ],
   "source": [
    "example[:-9]"
   ]
  },
  {
   "cell_type": "code",
   "execution_count": 17,
   "id": "798238de-e426-4a7f-bf08-28d1a67416a7",
   "metadata": {},
   "outputs": [
    {
     "data": {
      "text/plain": [
       "'Python'"
      ]
     },
     "execution_count": 17,
     "metadata": {},
     "output_type": "execute_result"
    }
   ],
   "source": [
    "# Using both positive and negative index\n",
    "example[0:-9]"
   ]
  },
  {
   "cell_type": "markdown",
   "id": "7acd149e-dea7-47fa-8cc2-aa1115f71029",
   "metadata": {},
   "source": [
    "### STRIDE"
   ]
  },
  {
   "cell_type": "markdown",
   "id": "95cb243b-326a-422f-9063-75b7cb0d4cfb",
   "metadata": {},
   "source": [
    "#### POSITIVE STRIDE"
   ]
  },
  {
   "cell_type": "markdown",
   "id": "3730ddbc-4d21-4496-8b81-eb60dd22bbb3",
   "metadata": {},
   "source": [
    "String slicing can also accept a third parameter, the stride, which refers to how many steps you\n",
    "want to take."
   ]
  },
  {
   "cell_type": "markdown",
   "id": "f93affe3-aae9-4b32-8194-27553b53f74b",
   "metadata": {},
   "source": [
    "string[start index : stop index : stride/step value]"
   ]
  },
  {
   "cell_type": "code",
   "execution_count": 19,
   "id": "676ea406-c064-4fc3-84e2-37ab53b79d37",
   "metadata": {},
   "outputs": [
    {
     "data": {
      "text/plain": [
       "'PTO SES '"
      ]
     },
     "execution_count": 19,
     "metadata": {},
     "output_type": "execute_result"
    }
   ],
   "source": [
    "#### string[start index : stop index : stride/step value]\n",
    "example=\"PYTHON IS EASY \"\n",
    "example[0:15:2]"
   ]
  },
  {
   "cell_type": "code",
   "execution_count": 20,
   "id": "19e2e970-3493-414a-873f-8cdc85f3952e",
   "metadata": {},
   "outputs": [
    {
     "data": {
      "text/plain": [
       "'PTO'"
      ]
     },
     "execution_count": 20,
     "metadata": {},
     "output_type": "execute_result"
    }
   ],
   "source": [
    "example[0:6:2]"
   ]
  },
  {
   "cell_type": "code",
   "execution_count": 21,
   "id": "48ddeee6-9b2d-4f24-a3d8-05a90335766d",
   "metadata": {},
   "outputs": [
    {
     "data": {
      "text/plain": [
       "'PTO SES '"
      ]
     },
     "execution_count": 21,
     "metadata": {},
     "output_type": "execute_result"
    }
   ],
   "source": [
    "example[::2]"
   ]
  },
  {
   "cell_type": "markdown",
   "id": "b8377db3-8df1-4e54-9ab3-668a14617c90",
   "metadata": {},
   "source": [
    "#### NEGATIVE STRIDE\n"
   ]
  },
  {
   "cell_type": "code",
   "execution_count": 22,
   "id": "17aafea9-7fbb-4349-ab44-8213f6c6355a",
   "metadata": {},
   "outputs": [
    {
     "data": {
      "text/plain": [
       "' YSAE SI NOHTYP'"
      ]
     },
     "execution_count": 22,
     "metadata": {},
     "output_type": "execute_result"
    }
   ],
   "source": [
    "example = \"PYTHON IS EASY \"\n",
    "example[::-1]\n"
   ]
  },
  {
   "cell_type": "code",
   "execution_count": 23,
   "id": "e96a05c2-4eb0-409c-9559-dd1d676d5a79",
   "metadata": {},
   "outputs": [
    {
     "data": {
      "text/plain": [
       "' SES OTP'"
      ]
     },
     "execution_count": 23,
     "metadata": {},
     "output_type": "execute_result"
    }
   ],
   "source": [
    "example[::-2]"
   ]
  },
  {
   "cell_type": "code",
   "execution_count": 24,
   "id": "54190774-fce4-4998-9134-ddcb76b8fd05",
   "metadata": {},
   "outputs": [
    {
     "data": {
      "text/plain": [
       "'NOHTYP'"
      ]
     },
     "execution_count": 24,
     "metadata": {},
     "output_type": "execute_result"
    }
   ],
   "source": [
    "example[5::-1]"
   ]
  },
  {
   "cell_type": "code",
   "execution_count": 28,
   "id": "230ccf0c-2e82-420f-ad77-9f5c3d760eb5",
   "metadata": {},
   "outputs": [
    {
     "name": "stdout",
     "output_type": "stream",
     "text": [
      "\n"
     ]
    }
   ],
   "source": [
    "# Does not reverse the string slice\n",
    "print(example[0:5:-1])"
   ]
  },
  {
   "cell_type": "code",
   "execution_count": 27,
   "id": "e6124c80-cd4d-416c-a995-4132580c7977",
   "metadata": {},
   "outputs": [
    {
     "name": "stdout",
     "output_type": "stream",
     "text": [
      "NOHTY\n"
     ]
    }
   ],
   "source": [
    "print(example[5:0:-1])"
   ]
  },
  {
   "cell_type": "code",
   "execution_count": null,
   "id": "512d0e59-7903-4a06-a9e2-6304fe4096f1",
   "metadata": {},
   "outputs": [],
   "source": []
  }
 ],
 "metadata": {
  "kernelspec": {
   "display_name": "Python 3 (ipykernel)",
   "language": "python",
   "name": "python3"
  },
  "language_info": {
   "codemirror_mode": {
    "name": "ipython",
    "version": 3
   },
   "file_extension": ".py",
   "mimetype": "text/x-python",
   "name": "python",
   "nbconvert_exporter": "python",
   "pygments_lexer": "ipython3",
   "version": "3.13.5"
  }
 },
 "nbformat": 4,
 "nbformat_minor": 5
}
