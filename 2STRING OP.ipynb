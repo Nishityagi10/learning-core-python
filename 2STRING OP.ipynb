{
 "cells": [
  {
   "cell_type": "markdown",
   "id": "7e655381-2309-4f5e-a545-549d5173a4b1",
   "metadata": {},
   "source": [
    "#### Strings Methods and Functions\n",
    "#### Concatenation of Strings\n"
   ]
  },
  {
   "cell_type": "markdown",
   "id": "810d13bc-8360-420a-a903-dbbab28af692",
   "metadata": {},
   "source": [
    "### string.upper(): Converts the string into upper-case"
   ]
  },
  {
   "cell_type": "code",
   "execution_count": 1,
   "id": "3cd36258-26c5-416a-aeaf-666c9191f12c",
   "metadata": {},
   "outputs": [
    {
     "data": {
      "text/plain": [
       "'Discovery of India'"
      ]
     },
     "execution_count": 1,
     "metadata": {},
     "output_type": "execute_result"
    }
   ],
   "source": [
    "book_name = \"Discovery of India\"\n",
    "book_name"
   ]
  },
  {
   "cell_type": "code",
   "execution_count": 2,
   "id": "451cab02-8864-49c7-8813-5e7f8ad8ab36",
   "metadata": {},
   "outputs": [
    {
     "name": "stdout",
     "output_type": "stream",
     "text": [
      "DISCOVERY OF INDIA\n"
     ]
    }
   ],
   "source": [
    "print(book_name.upper())"
   ]
  },
  {
   "cell_type": "code",
   "execution_count": 3,
   "id": "e5aec316-12e3-41fb-b188-92cb3b75bc79",
   "metadata": {},
   "outputs": [
    {
     "name": "stdout",
     "output_type": "stream",
     "text": [
      "Discovery of India\n"
     ]
    }
   ],
   "source": [
    "print(book_name) # book_name remains unchanged"
   ]
  },
  {
   "cell_type": "code",
   "execution_count": 4,
   "id": "2d5628ae-9289-4b14-9492-e9920f0b1198",
   "metadata": {},
   "outputs": [
    {
     "name": "stdout",
     "output_type": "stream",
     "text": [
      "DISCOVERY OF INDIA\n",
      "Discovery of India\n"
     ]
    }
   ],
   "source": [
    "caps_book_name = book_name.upper() # Assigning the book_name is upper-case to␣ a new variable caps_book_name\n",
    "print(caps_book_name)\n",
    "print(book_name)\n"
   ]
  },
  {
   "cell_type": "code",
   "execution_count": 6,
   "id": "28557c28-abf9-43e4-ba5d-d04d0c7bfce4",
   "metadata": {},
   "outputs": [
    {
     "name": "stdout",
     "output_type": "stream",
     "text": [
      "DISCOVERY OF INDIA\n"
     ]
    }
   ],
   "source": [
    "book_name = book_name.upper() # Changing the variable book_name to upper-case by reassignment\n",
    "\n",
    "print(book_name)"
   ]
  },
  {
   "cell_type": "markdown",
   "id": "6733d8c9-7fa9-4a08-b4be-d035e2322b24",
   "metadata": {},
   "source": [
    "### string.lower(): Converts a string into lower case"
   ]
  },
  {
   "cell_type": "code",
   "execution_count": 7,
   "id": "53541e51-1aa1-464a-b7b7-6d2d17f31320",
   "metadata": {},
   "outputs": [
    {
     "data": {
      "text/plain": [
       "'Discovery of India'"
      ]
     },
     "execution_count": 7,
     "metadata": {},
     "output_type": "execute_result"
    }
   ],
   "source": [
    "book_name = \"Discovery of India\"\n",
    "book_name"
   ]
  },
  {
   "cell_type": "code",
   "execution_count": 8,
   "id": "e9763f1e-e94f-49d7-a0bc-81dc49f446d6",
   "metadata": {},
   "outputs": [
    {
     "name": "stdout",
     "output_type": "stream",
     "text": [
      "discovery of india\n"
     ]
    }
   ],
   "source": [
    "print(book_name.lower())"
   ]
  },
  {
   "cell_type": "code",
   "execution_count": 9,
   "id": "4adcf0f9-f2f4-4028-8825-8e8d5b4c27ca",
   "metadata": {},
   "outputs": [
    {
     "name": "stdout",
     "output_type": "stream",
     "text": [
      "Discovery of India\n"
     ]
    }
   ],
   "source": [
    " print(book_name) # book_name remains unchanged\n",
    "\n"
   ]
  },
  {
   "cell_type": "code",
   "execution_count": 10,
   "id": "a7bb3fc1-2401-497f-a17f-52233a454a28",
   "metadata": {},
   "outputs": [
    {
     "name": "stdout",
     "output_type": "stream",
     "text": [
      "discovery of india\n",
      "Discovery of India\n"
     ]
    }
   ],
   "source": [
    "low_book_name = book_name.lower() # Assigning the book_name is lower-case to a␣ new variable low_book_name\n",
    "print(low_book_name)\n",
    "print(book_name)\n"
   ]
  },
  {
   "cell_type": "code",
   "execution_count": null,
   "id": "1867cea9-d11d-47ca-bac3-f71cef0e8768",
   "metadata": {},
   "outputs": [],
   "source": [
    "# Changing the variable book_name to lower-case by reassignment\n",
    "book_name = book_name.upper()\n",
    "print(book_name)"
   ]
  },
  {
   "cell_type": "markdown",
   "id": "de09b1aa-6a92-4559-b940-bcb0a47cb387",
   "metadata": {},
   "source": [
    "### string.replace(value1, value2): Returns a string where value1 is replaced with value2\n"
   ]
  },
  {
   "cell_type": "code",
   "execution_count": 14,
   "id": "aa7660cb-4700-44ed-9cff-9853e67759a6",
   "metadata": {},
   "outputs": [
    {
     "data": {
      "text/plain": [
       "'The K@ll@ng Floor'"
      ]
     },
     "execution_count": 14,
     "metadata": {},
     "output_type": "execute_result"
    }
   ],
   "source": [
    "book_name = \"The Killing Floor\"\n",
    "book_name.replace(\"i\",\"@\")"
   ]
  },
  {
   "cell_type": "code",
   "execution_count": 15,
   "id": "19822f4b-3d6f-40e4-a22d-861aa30aabc3",
   "metadata": {},
   "outputs": [
    {
     "data": {
      "text/plain": [
       "'The Killing Fl@@r'"
      ]
     },
     "execution_count": 15,
     "metadata": {},
     "output_type": "execute_result"
    }
   ],
   "source": [
    "book_name.replace(\"o\",\"@\")\n"
   ]
  },
  {
   "cell_type": "code",
   "execution_count": 16,
   "id": "3f8e2866-d928-4b06-89b8-eba2ff265343",
   "metadata": {},
   "outputs": [
    {
     "data": {
      "text/plain": [
       "'java is easy . java is general purpose'"
      ]
     },
     "execution_count": 16,
     "metadata": {},
     "output_type": "execute_result"
    }
   ],
   "source": [
    "# replacing more than one character in a string\n",
    "lines = \"python is easy . python is general purpose\"\n",
    "lines.replace(\"python\",\"java\")"
   ]
  },
  {
   "cell_type": "code",
   "execution_count": 17,
   "id": "9f5631f6-4a1d-4ab2-b713-251cb138d3a6",
   "metadata": {},
   "outputs": [
    {
     "name": "stdout",
     "output_type": "stream",
     "text": [
      "python is easy . python is general purpose\n"
     ]
    }
   ],
   "source": [
    "print(lines) # lines remains unchanged"
   ]
  },
  {
   "cell_type": "code",
   "execution_count": 23,
   "id": "4b8abe1e-da81-4ca9-9752-71fe22dfc9a8",
   "metadata": {},
   "outputs": [
    {
     "name": "stdout",
     "output_type": "stream",
     "text": [
      "java is easy . java is general purpose\n"
     ]
    }
   ],
   "source": [
    "lines = lines.replace(\"python\",\"java\")\n",
    "print(liens)"
   ]
  },
  {
   "cell_type": "code",
   "execution_count": 24,
   "id": "f80ed78c-469b-4c51-b579-c03e3982218b",
   "metadata": {},
   "outputs": [
    {
     "name": "stdout",
     "output_type": "stream",
     "text": [
      "java is easy . java is general purpose\n"
     ]
    }
   ],
   "source": [
    "print(lines)"
   ]
  },
  {
   "cell_type": "markdown",
   "id": "ef791d83-8bee-43a3-8dbc-d3c4234eae85",
   "metadata": {},
   "source": [
    "### string.count(value): Returns the number of times a specified value occurs in a string"
   ]
  },
  {
   "cell_type": "code",
   "execution_count": 26,
   "id": "e50a536e-5333-4e6d-9fc2-a36d6a3f5153",
   "metadata": {},
   "outputs": [
    {
     "name": "stdout",
     "output_type": "stream",
     "text": [
      "2\n"
     ]
    }
   ],
   "source": [
    "# .count()\n",
    "district = \"Nainital\"\n",
    "print(district.count(\"i\")) # Counts the number of times 'i' occurs in the  string \"Nainital\"\n"
   ]
  },
  {
   "cell_type": "code",
   "execution_count": 27,
   "id": "a5e6ef5e-8daa-4f34-8f6f-87363b2ee96f",
   "metadata": {},
   "outputs": [
    {
     "data": {
      "text/plain": [
       "2"
      ]
     },
     "execution_count": 27,
     "metadata": {},
     "output_type": "execute_result"
    }
   ],
   "source": [
    "haldwani_info = \"Haldwani is called the Gateway to Kumaon. Haldwani is a global␣ AI & Robotics Hub. \"\n",
    "haldwani_info.count(\"Haldwani\")"
   ]
  },
  {
   "cell_type": "code",
   "execution_count": 28,
   "id": "f65b8bbf-a784-4b88-a732-731d1ac51a01",
   "metadata": {},
   "outputs": [
    {
     "data": {
      "text/plain": [
       "2"
      ]
     },
     "execution_count": 28,
     "metadata": {},
     "output_type": "execute_result"
    }
   ],
   "source": [
    "haldwani_info.count(\"is\")"
   ]
  },
  {
   "cell_type": "code",
   "execution_count": 29,
   "id": "5cc44626-9bcf-45cd-873e-9992d79e7ab0",
   "metadata": {},
   "outputs": [
    {
     "data": {
      "text/plain": [
       "10"
      ]
     },
     "execution_count": 29,
     "metadata": {},
     "output_type": "execute_result"
    }
   ],
   "source": [
    "haldwani_info.count(\"a\")"
   ]
  },
  {
   "cell_type": "code",
   "execution_count": 30,
   "id": "33070ef8-4a66-450b-9d6f-551bb5d5a729",
   "metadata": {},
   "outputs": [
    {
     "data": {
      "text/plain": [
       "0"
      ]
     },
     "execution_count": 30,
     "metadata": {},
     "output_type": "execute_result"
    }
   ],
   "source": [
    "haldwani_info.count(\"Uttarakhand\")\n"
   ]
  },
  {
   "cell_type": "markdown",
   "id": "dc73f3a5-a972-49db-9557-ab22d1450da2",
   "metadata": {},
   "source": [
    "###  string.endswith(value): Returns true if the string ends with the specified value"
   ]
  },
  {
   "cell_type": "code",
   "execution_count": 31,
   "id": "16128426-0258-40af-bc5d-0d8efd9ac5bf",
   "metadata": {},
   "outputs": [
    {
     "data": {
      "text/plain": [
       "True"
      ]
     },
     "execution_count": 31,
     "metadata": {},
     "output_type": "execute_result"
    }
   ],
   "source": [
    "# .endswith()\n",
    "x = \"Hello World\"\n",
    "x.endswith(\"World\")"
   ]
  },
  {
   "cell_type": "code",
   "execution_count": 32,
   "id": "7df246ed-56fa-4d77-84c4-20c2ffc332c6",
   "metadata": {},
   "outputs": [
    {
     "data": {
      "text/plain": [
       "True"
      ]
     },
     "execution_count": 32,
     "metadata": {},
     "output_type": "execute_result"
    }
   ],
   "source": [
    "x.endswith(\"d\")"
   ]
  },
  {
   "cell_type": "code",
   "execution_count": 33,
   "id": "2b2931dc-5ded-42c6-818b-affdcbd35df5",
   "metadata": {},
   "outputs": [
    {
     "data": {
      "text/plain": [
       "False"
      ]
     },
     "execution_count": 33,
     "metadata": {},
     "output_type": "execute_result"
    }
   ],
   "source": [
    "x.endswith(\"t\")"
   ]
  },
  {
   "cell_type": "code",
   "execution_count": 34,
   "id": "88e4da6a-7b88-4885-a957-b81834eebfea",
   "metadata": {},
   "outputs": [
    {
     "data": {
      "text/plain": [
       "False"
      ]
     },
     "execution_count": 34,
     "metadata": {},
     "output_type": "execute_result"
    }
   ],
   "source": [
    "x.endswith(\"world\")"
   ]
  },
  {
   "cell_type": "markdown",
   "id": "ee8ad664-eaf2-4420-a1c4-386b9fde11a1",
   "metadata": {},
   "source": [
    "### string.startswith(value) : Returns true if the string starts with the specified value\n"
   ]
  },
  {
   "cell_type": "markdown",
   "id": "43f91c51-35c4-4d26-b07a-104b6ff1921a",
   "metadata": {},
   "source": [
    " ### string.split(separator): Used to divide a string into a list of substrings based on a specified separator."
   ]
  },
  {
   "cell_type": "code",
   "execution_count": 37,
   "id": "862fc8f6-cc8d-42df-a523-224c27b26b53",
   "metadata": {},
   "outputs": [
    {
     "data": {
      "text/plain": [
       "['Hello', 'orld']"
      ]
     },
     "execution_count": 37,
     "metadata": {},
     "output_type": "execute_result"
    }
   ],
   "source": [
    "# .split()\n",
    "x = \"HelloWorld\"\n",
    "x.split(\"W\")"
   ]
  },
  {
   "cell_type": "code",
   "execution_count": 38,
   "id": "02f94470-7f9c-442a-b0be-d4d648a75ae4",
   "metadata": {},
   "outputs": [
    {
     "data": {
      "text/plain": [
       "['Hell', 'W', 'rld']"
      ]
     },
     "execution_count": 38,
     "metadata": {},
     "output_type": "execute_result"
    }
   ],
   "source": [
    "x.split(\"o\")"
   ]
  },
  {
   "cell_type": "code",
   "execution_count": 39,
   "id": "7ee70cf6-e0f9-466e-b2e9-34df1637376e",
   "metadata": {},
   "outputs": [
    {
     "data": {
      "text/plain": [
       "['HelloWo', 'd']"
      ]
     },
     "execution_count": 39,
     "metadata": {},
     "output_type": "execute_result"
    }
   ],
   "source": [
    "x.split(\"rl\")"
   ]
  },
  {
   "cell_type": "markdown",
   "id": "843fe9f5-bde8-4ae5-8537-2f249bb08859",
   "metadata": {},
   "source": [
    "#### string.find(character)\n",
    "##### Finds the index at which character occurs for the first time"
   ]
  },
  {
   "cell_type": "code",
   "execution_count": 40,
   "id": "6385ab6f-1fbd-4c45-adab-2de3fb7c3026",
   "metadata": {},
   "outputs": [
    {
     "data": {
      "text/plain": [
       "4"
      ]
     },
     "execution_count": 40,
     "metadata": {},
     "output_type": "execute_result"
    }
   ],
   "source": [
    " # .find() - Index at which 'o' occurs for the first time\n",
    "x = \"Hello world\"\n",
    "x.find(\"o\")"
   ]
  },
  {
   "cell_type": "code",
   "execution_count": 41,
   "id": "277aee79-eab9-4376-b84a-c3e25d40a8f3",
   "metadata": {},
   "outputs": [
    {
     "data": {
      "text/plain": [
       "6"
      ]
     },
     "execution_count": 41,
     "metadata": {},
     "output_type": "execute_result"
    }
   ],
   "source": [
    "x.find(\"wo\")"
   ]
  },
  {
   "cell_type": "code",
   "execution_count": 42,
   "id": "44b3a653-1951-4c7e-bc0c-5b664c151825",
   "metadata": {},
   "outputs": [
    {
     "data": {
      "text/plain": [
       "-1"
      ]
     },
     "execution_count": 42,
     "metadata": {},
     "output_type": "execute_result"
    }
   ],
   "source": [
    "# What if I try to find a character which is not present in the stirng??\n",
    "x.find(\"y\")"
   ]
  },
  {
   "cell_type": "code",
   "execution_count": 43,
   "id": "abb8f744-9464-402f-adf9-e831c93e5a00",
   "metadata": {},
   "outputs": [
    {
     "data": {
      "text/plain": [
       "-1"
      ]
     },
     "execution_count": 43,
     "metadata": {},
     "output_type": "execute_result"
    }
   ],
   "source": [
    "x.find(\"bye\")"
   ]
  },
  {
   "cell_type": "markdown",
   "id": "c0920445-292c-4b7c-91e0-ca6ac8efe6d7",
   "metadata": {},
   "source": [
    " #### len(string)\n",
    "##### Counts the number of characters in the string"
   ]
  },
  {
   "cell_type": "code",
   "execution_count": 47,
   "id": "511f3c2e-7f1e-4f1e-ad17-b4c5e017d39e",
   "metadata": {},
   "outputs": [
    {
     "name": "stdout",
     "output_type": "stream",
     "text": [
      "hello world\n"
     ]
    },
    {
     "data": {
      "text/plain": [
       "1"
      ]
     },
     "execution_count": 47,
     "metadata": {},
     "output_type": "execute_result"
    }
   ],
   "source": [
    " # len() - Counts the no of characters in the string\n",
    "x=\"hello world\"\n",
    "print(x)\n",
    "x= \"l\"\n",
    "len(x)\n"
   ]
  },
  {
   "cell_type": "code",
   "execution_count": 48,
   "id": "132b416f-17c7-43ec-a6f0-51661f4e3993",
   "metadata": {},
   "outputs": [
    {
     "data": {
      "text/plain": [
       "7"
      ]
     },
     "execution_count": 48,
     "metadata": {},
     "output_type": "execute_result"
    }
   ],
   "source": [
    "len(\" python\")"
   ]
  },
  {
   "cell_type": "code",
   "execution_count": 49,
   "id": "835a00e0-be9b-4480-8f0a-8725ad4b7612",
   "metadata": {},
   "outputs": [
    {
     "name": "stdout",
     "output_type": "stream",
     "text": [
      "('hii', 'priya')\n"
     ]
    }
   ],
   "source": [
    "x=\"hii\",\"priya\"\n",
    "print(x)"
   ]
  },
  {
   "cell_type": "code",
   "execution_count": 50,
   "id": "e384b320-cf19-45ab-ac3e-9f3a69175c5a",
   "metadata": {},
   "outputs": [
    {
     "name": "stdout",
     "output_type": "stream",
     "text": [
      "2\n"
     ]
    }
   ],
   "source": [
    "print(len(x))"
   ]
  },
  {
   "cell_type": "markdown",
   "id": "024b3fca-aa6a-4bd8-95bd-49c1d1258b65",
   "metadata": {},
   "source": [
    "###  Concatenation: Joining two or more strings to form a single string"
   ]
  },
  {
   "cell_type": "code",
   "execution_count": 51,
   "id": "48c455fd-3f7d-413b-a0b0-f71aa978f8e5",
   "metadata": {},
   "outputs": [
    {
     "data": {
      "text/plain": [
       "'helloworld'"
      ]
     },
     "execution_count": 51,
     "metadata": {},
     "output_type": "execute_result"
    }
   ],
   "source": [
    "\"hello\" + \"world\""
   ]
  },
  {
   "cell_type": "code",
   "execution_count": 52,
   "id": "af94a736-7446-428b-b684-04941d4db627",
   "metadata": {},
   "outputs": [
    {
     "data": {
      "text/plain": [
       "'Python is  easy'"
      ]
     },
     "execution_count": 52,
     "metadata": {},
     "output_type": "execute_result"
    }
   ],
   "source": [
    "\"Python\" + \" is \" + \" easy\""
   ]
  },
  {
   "cell_type": "code",
   "execution_count": 56,
   "id": "5611e029-c1dc-4ad3-8653-731b56754e13",
   "metadata": {},
   "outputs": [
    {
     "name": "stdout",
     "output_type": "stream",
     "text": [
      "Python is easy\n"
     ]
    }
   ],
   "source": [
    "a = \"Python\"\n",
    "b = \" is\"\n",
    "c = \" \"\n",
    "d= \"easy\"\n",
    "e = a+b+c+d\n",
    "print(e)"
   ]
  },
  {
   "cell_type": "code",
   "execution_count": null,
   "id": "8d784eae-0561-4295-8d7c-6fb1e61c66fc",
   "metadata": {},
   "outputs": [],
   "source": []
  }
 ],
 "metadata": {
  "kernelspec": {
   "display_name": "Python 3 (ipykernel)",
   "language": "python",
   "name": "python3"
  },
  "language_info": {
   "codemirror_mode": {
    "name": "ipython",
    "version": 3
   },
   "file_extension": ".py",
   "mimetype": "text/x-python",
   "name": "python",
   "nbconvert_exporter": "python",
   "pygments_lexer": "ipython3",
   "version": "3.13.5"
  }
 },
 "nbformat": 4,
 "nbformat_minor": 5
}
