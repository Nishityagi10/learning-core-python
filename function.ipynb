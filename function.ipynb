{
 "cells": [
  {
   "cell_type": "code",
   "execution_count": 1,
   "id": "8990d793-9db1-44d6-9cab-28d112933564",
   "metadata": {},
   "outputs": [],
   "source": [
    "def greet():\n",
    "    print(\"greetings from vijAi Robotics!\")"
   ]
  },
  {
   "cell_type": "code",
   "execution_count": 2,
   "id": "02240525-bd5a-4f96-8fa3-c41960da64a2",
   "metadata": {},
   "outputs": [
    {
     "name": "stdout",
     "output_type": "stream",
     "text": [
      "greetings from vijAi Robotics!\n"
     ]
    }
   ],
   "source": [
    "def greet():\n",
    "    print(\"greetings from vijAi Robotics!\")\n",
    "\n",
    "greet()"
   ]
  },
  {
   "cell_type": "code",
   "execution_count": 3,
   "id": "d6ce9561-2058-47c6-8dbf-107fc7607031",
   "metadata": {},
   "outputs": [
    {
     "name": "stdout",
     "output_type": "stream",
     "text": [
      "welcome priyanshu\n",
      "greetings from vijAi Robotics!\n",
      "welcome mayank\n",
      "greetings from vijAi Robotics!\n",
      "welcome shreya\n",
      "greetings from vijAi Robotics!\n"
     ]
    }
   ],
   "source": [
    "name1=\"priyanshu\"\n",
    "name2=\"mayank\"\n",
    "name3=\"shreya\"\n",
    "print(\"welcome\",name1)\n",
    "print(\"greetings from vijAi Robotics!\")\n",
    "print(\"welcome\",name2)\n",
    "print(\"greetings from vijAi Robotics!\")\n",
    "print(\"welcome\",name3)\n",
    "print(\"greetings from vijAi Robotics!\")"
   ]
  },
  {
   "cell_type": "code",
   "execution_count": 5,
   "id": "25c0bbea-a9cb-4ed5-8f27-18c1d70f2a16",
   "metadata": {},
   "outputs": [
    {
     "name": "stdout",
     "output_type": "stream",
     "text": [
      "welcome priyanshu\n",
      "greetings from vijAi Robotics!\n",
      "welcome mayank\n",
      "greetings from vijAi Robotics!\n",
      "welcome shreya\n",
      "greetings from vijAi Robotics!\n"
     ]
    }
   ],
   "source": [
    "print(\"welcome\",name1)\n",
    "greet()\n",
    "print(\"welcome\",name2)\n",
    "greet()\n",
    "print(\"welcome\",name3)\n",
    "greet()\n"
   ]
  },
  {
   "cell_type": "code",
   "execution_count": 6,
   "id": "17d1c043-1831-488e-94f1-c4cbb38b36f5",
   "metadata": {},
   "outputs": [
    {
     "name": "stdout",
     "output_type": "stream",
     "text": [
      "welcome nishi\n",
      "greetings from vijAi Robotics!\n"
     ]
    }
   ],
   "source": [
    "name4=\"nishi\"\n",
    "print(\"welcome\",name4)\n",
    "greet()"
   ]
  },
  {
   "cell_type": "code",
   "execution_count": 7,
   "id": "4fb7b5bb-6afa-4f85-9167-48d4687b58db",
   "metadata": {},
   "outputs": [
    {
     "name": "stdout",
     "output_type": "stream",
     "text": [
      "welcome priyanshu\n",
      "greetings from vijAi Robotics!\n",
      "welcome mayank\n",
      "greetings from vijAi Robotics!\n",
      "welcome shreya\n",
      "greetings from vijAi Robotics!\n"
     ]
    }
   ],
   "source": [
    "#def function_name(parameter1,para2...)\n",
    "# (indent)       ..code...                 //code of block\n",
    "#fun is a name of block of code or jb bhi use krna h to bs uske name ko call krna h\n",
    "\n",
    "def greet_student(name):\n",
    "    print(\"welcome\",name)\n",
    "    print(\"greetings from vijAi Robotics!\")\n",
    "\n",
    "name_1=\"priyanshu\"\n",
    "name_2=\"shreya\"\n",
    "name_3=\"mayank\"\n",
    "\n",
    "greet_student(name1)\n",
    "greet_student(name2)\n",
    "greet_student(name3)"
   ]
  },
  {
   "cell_type": "code",
   "execution_count": null,
   "id": "96be68d7-506d-4e52-8238-8277996c0103",
   "metadata": {},
   "outputs": [],
   "source": [
    "course_name=\"data science\""
   ]
  },
  {
   "cell_type": "code",
   "execution_count": 8,
   "id": "1bf87c9e-4cb1-48f5-bf74-73b7b92d573d",
   "metadata": {},
   "outputs": [
    {
     "ename": "TypeError",
     "evalue": "greet_student() missing 1 required positional argument: 'name'",
     "output_type": "error",
     "traceback": [
      "\u001b[31m---------------------------------------------------------------------------\u001b[39m",
      "\u001b[31mTypeError\u001b[39m                                 Traceback (most recent call last)",
      "\u001b[36mCell\u001b[39m\u001b[36m \u001b[39m\u001b[32mIn[8]\u001b[39m\u001b[32m, line 1\u001b[39m\n\u001b[32m----> \u001b[39m\u001b[32m1\u001b[39m \u001b[43mgreet_student\u001b[49m\u001b[43m(\u001b[49m\u001b[43m)\u001b[49m\n",
      "\u001b[31mTypeError\u001b[39m: greet_student() missing 1 required positional argument: 'name'"
     ]
    }
   ],
   "source": [
    "greet_student()"
   ]
  },
  {
   "cell_type": "code",
   "execution_count": 1,
   "id": "0db350c6-569a-4552-837d-c76cf4456072",
   "metadata": {},
   "outputs": [
    {
     "name": "stdout",
     "output_type": "stream",
     "text": [
      "tushar is enrolled\n",
      "himanshu is enrolled\n",
      "tushar_vij1\n",
      "himanshu_vij1\n"
     ]
    }
   ],
   "source": [
    "def enroll(name,id):\n",
    "    print(name,\"is enrolled\")\n",
    "    std_id = name+\"_\"+id\n",
    "    return std_id\n",
    "\n",
    "name_1= \"tushar\"\n",
    "id_1=\"vij1\"\n",
    "adm_id_1=enroll(name_1,id_1)\n",
    "name_2=\"himanshu\"\n",
    "id_2=\"vij2\"\n",
    "adm_id_2=enroll(name_2,id_1)\n",
    "print(adm_id_1)\n",
    "print(adm_id_2)"
   ]
  },
  {
   "cell_type": "code",
   "execution_count": 23,
   "id": "d4ab57a0-cb6a-452c-a1ea-88c1c2132222",
   "metadata": {},
   "outputs": [
    {
     "name": "stdout",
     "output_type": "stream",
     "text": [
      "tushar is enrolled\n"
     ]
    },
    {
     "data": {
      "text/plain": [
       "'tushar_vij1'"
      ]
     },
     "execution_count": 23,
     "metadata": {},
     "output_type": "execute_result"
    }
   ],
   "source": [
    "enroll(name_1,id_1)"
   ]
  },
  {
   "cell_type": "code",
   "execution_count": 25,
   "id": "99dfab55-f3c9-4c84-b4f4-a7c0458c4d84",
   "metadata": {},
   "outputs": [
    {
     "name": "stdout",
     "output_type": "stream",
     "text": [
      "tushar is enrolled\n",
      "tushar_vij1\n",
      "nishi is enrolled\n",
      "nishi_vij1\n"
     ]
    }
   ],
   "source": [
    "def enroll(name,id):\n",
    "    print(name,\"is enrolled\")\n",
    "    std_id = name+\"_\"+id\n",
    "    print( std_id)\n",
    "\n",
    "name_1= \"tushar\"\n",
    "id_1=\"vij1\"\n",
    "adm_id_1=enroll(name_1,id_1)\n",
    "\n",
    "name_2=\"nishi\"\n",
    "id_2=\"vij2\"\n",
    "adm_id_2=enroll(name_2,id_1)\n"
   ]
  },
  {
   "cell_type": "code",
   "execution_count": 26,
   "id": "9349d31f-6469-4c7c-a1da-1cd2acc62f48",
   "metadata": {},
   "outputs": [
    {
     "name": "stdout",
     "output_type": "stream",
     "text": [
      "tushar is enrolled\n",
      "tushar_vij1\n"
     ]
    }
   ],
   "source": [
    "enroll(name_1,id_1)"
   ]
  },
  {
   "cell_type": "code",
   "execution_count": 27,
   "id": "dd7ac939-d233-4b80-aa7c-ebc3451d5955",
   "metadata": {},
   "outputs": [
    {
     "name": "stdout",
     "output_type": "stream",
     "text": [
      "None\n",
      "None\n"
     ]
    }
   ],
   "source": [
    "print(adm_id_1)\n",
    "print(adm_id_2)\n"
   ]
  },
  {
   "cell_type": "code",
   "execution_count": 37,
   "id": "b3f7a0fa-4ac7-4330-b7db-2d58278d8518",
   "metadata": {},
   "outputs": [
    {
     "name": "stdout",
     "output_type": "stream",
     "text": [
      "tushar is enrolled\n",
      "nishi is enrolled\n",
      "aarti is enrolled\n"
     ]
    }
   ],
   "source": [
    "def enroll(name,id):\n",
    "    print(name,\"is enrolled\")\n",
    "    std_id = name+\"_\"+id\n",
    "    return std_id\n",
    "\n",
    "name_1= \"tushar\"\n",
    "id_1=\"vij1\"\n",
    "adm_id_1=enroll(name_1,id_1)\n",
    "\n",
    "name_2=\"nishi\"\n",
    "id_2=\"vij2\"\n",
    "adm_id_2=enroll(name_2,id_1)\n",
    "\n",
    "name_3=\"aarti\"\n",
    "id_3=\"vij3\"\n",
    "adm_id_3=enroll(name_3,id_3)\n"
   ]
  },
  {
   "cell_type": "code",
   "execution_count": 36,
   "id": "e0cb8027-b434-4a0a-9cb6-b66b94c9c826",
   "metadata": {},
   "outputs": [
    {
     "name": "stdout",
     "output_type": "stream",
     "text": [
      "1. tushar_vij1\n",
      "2. nishi_vij1\n",
      "3. aarti_vij3\n"
     ]
    }
   ],
   "source": [
    "print(\"1.\",adm_id_1)\n",
    "print(\"2.\",adm_id_2)\n",
    "print(\"3.\",adm_id_3)"
   ]
  },
  {
   "cell_type": "code",
   "execution_count": 5,
   "id": "f51f01e8-b3ee-4884-89e8-386954ba56c2",
   "metadata": {},
   "outputs": [
    {
     "ename": "NameError",
     "evalue": "name 'n1' is not defined",
     "output_type": "error",
     "traceback": [
      "\u001b[31m---------------------------------------------------------------------------\u001b[39m",
      "\u001b[31mNameError\u001b[39m                                 Traceback (most recent call last)",
      "\u001b[36mCell\u001b[39m\u001b[36m \u001b[39m\u001b[32mIn[5]\u001b[39m\u001b[32m, line 3\u001b[39m\n\u001b[32m      1\u001b[39m \u001b[38;5;28;01mdef\u001b[39;00m\u001b[38;5;250m \u001b[39m\u001b[34madd\u001b[39m(n1,n2):\n\u001b[32m      2\u001b[39m   \u001b[38;5;28;01mreturn\u001b[39;00m n1+n2\n\u001b[32m----> \u001b[39m\u001b[32m3\u001b[39m add(\u001b[43mn1\u001b[49m,n2)\n",
      "\u001b[31mNameError\u001b[39m: name 'n1' is not defined"
     ]
    }
   ],
   "source": [
    "def add(n1,n2):\n",
    "  return n1+n2\n",
    "add(n1,n2)"
   ]
  },
  {
   "cell_type": "code",
   "execution_count": 1,
   "id": "04c44b0f-66a8-4fd6-bba1-b0a0d97c305b",
   "metadata": {},
   "outputs": [
    {
     "ename": "KeyboardInterrupt",
     "evalue": "Interrupted by user",
     "output_type": "error",
     "traceback": [
      "\u001b[31m---------------------------------------------------------------------------\u001b[39m",
      "\u001b[31mKeyboardInterrupt\u001b[39m                         Traceback (most recent call last)",
      "\u001b[36mCell\u001b[39m\u001b[36m \u001b[39m\u001b[32mIn[1]\u001b[39m\u001b[32m, line 1\u001b[39m\n\u001b[32m----> \u001b[39m\u001b[32m1\u001b[39m num_1=\u001b[38;5;28mfloat\u001b[39m(\u001b[38;5;28;43minput\u001b[39;49m\u001b[43m(\u001b[49m\u001b[33;43m\"\u001b[39;49m\u001b[33;43menter\u001b[39;49m\u001b[33;43m\"\u001b[39;49m\u001b[43m)\u001b[49m)\n\u001b[32m      2\u001b[39m num_2=\u001b[38;5;28mfloat\u001b[39m(\u001b[38;5;28minput\u001b[39m(\u001b[33m\"\u001b[39m\u001b[33menter\u001b[39m\u001b[33m\"\u001b[39m))\n\u001b[32m      4\u001b[39m \u001b[38;5;28;01mdef\u001b[39;00m\u001b[38;5;250m \u001b[39m\u001b[34moperator\u001b[39m(num_1,num2):\n",
      "\u001b[36mFile \u001b[39m\u001b[32m~\\AppData\\Roaming\\Python\\Python313\\site-packages\\ipykernel\\kernelbase.py:1282\u001b[39m, in \u001b[36mKernel.raw_input\u001b[39m\u001b[34m(self, prompt)\u001b[39m\n\u001b[32m   1280\u001b[39m     msg = \u001b[33m\"\u001b[39m\u001b[33mraw_input was called, but this frontend does not support input requests.\u001b[39m\u001b[33m\"\u001b[39m\n\u001b[32m   1281\u001b[39m     \u001b[38;5;28;01mraise\u001b[39;00m StdinNotImplementedError(msg)\n\u001b[32m-> \u001b[39m\u001b[32m1282\u001b[39m \u001b[38;5;28;01mreturn\u001b[39;00m \u001b[38;5;28;43mself\u001b[39;49m\u001b[43m.\u001b[49m\u001b[43m_input_request\u001b[49m\u001b[43m(\u001b[49m\n\u001b[32m   1283\u001b[39m \u001b[43m    \u001b[49m\u001b[38;5;28;43mstr\u001b[39;49m\u001b[43m(\u001b[49m\u001b[43mprompt\u001b[49m\u001b[43m)\u001b[49m\u001b[43m,\u001b[49m\n\u001b[32m   1284\u001b[39m \u001b[43m    \u001b[49m\u001b[38;5;28;43mself\u001b[39;49m\u001b[43m.\u001b[49m\u001b[43m_parent_ident\u001b[49m\u001b[43m[\u001b[49m\u001b[33;43m\"\u001b[39;49m\u001b[33;43mshell\u001b[39;49m\u001b[33;43m\"\u001b[39;49m\u001b[43m]\u001b[49m\u001b[43m,\u001b[49m\n\u001b[32m   1285\u001b[39m \u001b[43m    \u001b[49m\u001b[38;5;28;43mself\u001b[39;49m\u001b[43m.\u001b[49m\u001b[43mget_parent\u001b[49m\u001b[43m(\u001b[49m\u001b[33;43m\"\u001b[39;49m\u001b[33;43mshell\u001b[39;49m\u001b[33;43m\"\u001b[39;49m\u001b[43m)\u001b[49m\u001b[43m,\u001b[49m\n\u001b[32m   1286\u001b[39m \u001b[43m    \u001b[49m\u001b[43mpassword\u001b[49m\u001b[43m=\u001b[49m\u001b[38;5;28;43;01mFalse\u001b[39;49;00m\u001b[43m,\u001b[49m\n\u001b[32m   1287\u001b[39m \u001b[43m\u001b[49m\u001b[43m)\u001b[49m\n",
      "\u001b[36mFile \u001b[39m\u001b[32m~\\AppData\\Roaming\\Python\\Python313\\site-packages\\ipykernel\\kernelbase.py:1325\u001b[39m, in \u001b[36mKernel._input_request\u001b[39m\u001b[34m(self, prompt, ident, parent, password)\u001b[39m\n\u001b[32m   1322\u001b[39m \u001b[38;5;28;01mexcept\u001b[39;00m \u001b[38;5;167;01mKeyboardInterrupt\u001b[39;00m:\n\u001b[32m   1323\u001b[39m     \u001b[38;5;66;03m# re-raise KeyboardInterrupt, to truncate traceback\u001b[39;00m\n\u001b[32m   1324\u001b[39m     msg = \u001b[33m\"\u001b[39m\u001b[33mInterrupted by user\u001b[39m\u001b[33m\"\u001b[39m\n\u001b[32m-> \u001b[39m\u001b[32m1325\u001b[39m     \u001b[38;5;28;01mraise\u001b[39;00m \u001b[38;5;167;01mKeyboardInterrupt\u001b[39;00m(msg) \u001b[38;5;28;01mfrom\u001b[39;00m\u001b[38;5;250m \u001b[39m\u001b[38;5;28;01mNone\u001b[39;00m\n\u001b[32m   1326\u001b[39m \u001b[38;5;28;01mexcept\u001b[39;00m \u001b[38;5;167;01mException\u001b[39;00m:\n\u001b[32m   1327\u001b[39m     \u001b[38;5;28mself\u001b[39m.log.warning(\u001b[33m\"\u001b[39m\u001b[33mInvalid Message:\u001b[39m\u001b[33m\"\u001b[39m, exc_info=\u001b[38;5;28;01mTrue\u001b[39;00m)\n",
      "\u001b[31mKeyboardInterrupt\u001b[39m: Interrupted by user"
     ]
    }
   ],
   "source": [
    "num_1=float(input(\"enter\"))\n",
    "num_2=float(input(\"enter\"))\n",
    "\n",
    "def operator(num_1,num2):\n",
    "    adddition=num_1+num_2\n",
    "    substraction=num_1-num_2\n",
    "    return num_1,num_2\n",
    "\n",
    "operator(num_1,num_2)\n",
    "\n",
    "    "
   ]
  },
  {
   "cell_type": "code",
   "execution_count": 4,
   "id": "08f9b58a-83e1-4ba1-b8bb-e29df2e11ef0",
   "metadata": {},
   "outputs": [
    {
     "name": "stdin",
     "output_type": "stream",
     "text": [
      "enter 12\n",
      "enter 34\n"
     ]
    },
    {
     "ename": "NameError",
     "evalue": "name 'addition' is not defined",
     "output_type": "error",
     "traceback": [
      "\u001b[31m---------------------------------------------------------------------------\u001b[39m",
      "\u001b[31mNameError\u001b[39m                                 Traceback (most recent call last)",
      "\u001b[36mCell\u001b[39m\u001b[36m \u001b[39m\u001b[32mIn[4]\u001b[39m\u001b[32m, line 11\u001b[39m\n\u001b[32m      8\u001b[39m     \u001b[38;5;28mprint\u001b[39m(substraction)\n\u001b[32m      9\u001b[39m     \u001b[38;5;28;01mreturn\u001b[39;00m num_1,num_2\n\u001b[32m---> \u001b[39m\u001b[32m11\u001b[39m \u001b[43moperator\u001b[49m\u001b[43m(\u001b[49m\u001b[43mnum_1\u001b[49m\u001b[43m,\u001b[49m\u001b[43mnum_2\u001b[49m\u001b[43m)\u001b[49m\n",
      "\u001b[36mCell\u001b[39m\u001b[36m \u001b[39m\u001b[32mIn[4]\u001b[39m\u001b[32m, line 6\u001b[39m, in \u001b[36moperator\u001b[39m\u001b[34m(num_1, num2)\u001b[39m\n\u001b[32m      4\u001b[39m \u001b[38;5;28;01mdef\u001b[39;00m\u001b[38;5;250m \u001b[39m\u001b[34moperator\u001b[39m(num_1,num2):\n\u001b[32m      5\u001b[39m     adddition=num_1+num_2\n\u001b[32m----> \u001b[39m\u001b[32m6\u001b[39m     \u001b[38;5;28mprint\u001b[39m(\u001b[43maddition\u001b[49m)\n\u001b[32m      7\u001b[39m     substraction=num_1-num_2\n\u001b[32m      8\u001b[39m     \u001b[38;5;28mprint\u001b[39m(substraction)\n",
      "\u001b[31mNameError\u001b[39m: name 'addition' is not defined"
     ]
    }
   ],
   "source": [
    "num_1=float(input(\"enter\"))\n",
    "num_2=float(input(\"enter\"))\n",
    "\n",
    "def operator(num_1,num2):\n",
    "    adddition=num_1+num_2\n",
    "    print(addition)\n",
    "    substraction=num_1-num_2\n",
    "    print(substraction)\n",
    "    return num_1,num_2\n",
    "\n",
    "operator(num_1,num_2)\n"
   ]
  },
  {
   "cell_type": "code",
   "execution_count": 8,
   "id": "9adfc0b6-9a72-4e75-b975-2810f4fae56d",
   "metadata": {},
   "outputs": [
    {
     "name": "stdin",
     "output_type": "stream",
     "text": [
      "enter 12\n",
      "enter 2\n"
     ]
    },
    {
     "name": "stdout",
     "output_type": "stream",
     "text": [
      "14.0\n",
      "10.0\n"
     ]
    }
   ],
   "source": [
    "n1=float(input(\"enter\"))\n",
    "n2=float(input(\"enter\"))\n",
    "\n",
    "def addition(n1,n2):\n",
    "    n3=n1+n2\n",
    "    print(n3)\n",
    "\n",
    "addition(n1,n2)\n",
    "\n",
    "def substraction(n1,n2):\n",
    "    n3=n1-n2\n",
    "    print(n3)\n",
    "\n",
    "substraction(n1,n2)\n"
   ]
  },
  {
   "cell_type": "code",
   "execution_count": 12,
   "id": "dad8f0d8-8de2-4ab1-b77b-302e87fbf783",
   "metadata": {},
   "outputs": [
    {
     "name": "stdin",
     "output_type": "stream",
     "text": [
      "enter 2\n",
      "enter 2\n"
     ]
    },
    {
     "name": "stdout",
     "output_type": "stream",
     "text": [
      "4.0\n"
     ]
    }
   ],
   "source": [
    "n1=float(input(\"enter no.\"))\n",
    "n2=float(input(\"enter no.\"))\n",
    "\n",
    "def addition(n1,n2):\n",
    "    n3=n1+n2\n",
    "    print(n3)\n",
    "\n",
    "addition(n1,n2)\n",
    "\n",
    "\n",
    "\n"
   ]
  },
  {
   "cell_type": "code",
   "execution_count": 1,
   "id": "fed9e432-cc84-48ab-9d6f-a13652062b8b",
   "metadata": {},
   "outputs": [
    {
     "name": "stdin",
     "output_type": "stream",
     "text": [
      "enter first number 12\n",
      "enter second number 23\n",
      "enter opreator +\n"
     ]
    },
    {
     "data": {
      "text/plain": [
       "35.0"
      ]
     },
     "execution_count": 1,
     "metadata": {},
     "output_type": "execute_result"
    }
   ],
   "source": [
    "def calculator():\n",
    "    num1=float(input(\"enter first number\"))\n",
    "    num2=float(input(\"enter second number\"))\n",
    "    opreator=input(\"enter opreator\")\n",
    "\n",
    "    if opreator=='+':\n",
    "        return num1+num2\n",
    "\n",
    "    elif opreator=='-':\n",
    "        return num1-num2\n",
    "\n",
    "    elif opreator=='*':\n",
    "        return num1*num2\n",
    "\n",
    "    elif opreator=='/':\n",
    "        return num1/num2\n",
    "\n",
    "    else:\n",
    "        print(\"invalid operator\")\n",
    "\n",
    "\n",
    "calculator()\n",
    "    \n",
    "    \n",
    "    \n"
   ]
  },
  {
   "cell_type": "code",
   "execution_count": null,
   "id": "867fdaa5-3182-4d16-9ff6-824b1fcf4d4f",
   "metadata": {},
   "outputs": [],
   "source": [
    "\n"
   ]
  }
 ],
 "metadata": {
  "kernelspec": {
   "display_name": "Python 3 (ipykernel)",
   "language": "python",
   "name": "python3"
  },
  "language_info": {
   "codemirror_mode": {
    "name": "ipython",
    "version": 3
   },
   "file_extension": ".py",
   "mimetype": "text/x-python",
   "name": "python",
   "nbconvert_exporter": "python",
   "pygments_lexer": "ipython3",
   "version": "3.13.5"
  }
 },
 "nbformat": 4,
 "nbformat_minor": 5
}
