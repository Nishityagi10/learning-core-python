{
 "cells": [
  {
   "cell_type": "markdown",
   "id": "4f6a1426-d8c5-4306-b6ee-cc7ff928c200",
   "metadata": {},
   "source": [
    "# operators"
   ]
  },
  {
   "cell_type": "markdown",
   "id": "d2d6b3bb-e85e-4e8a-93b2-aee8312d950e",
   "metadata": {},
   "source": [
    "#### operators are symbols which are used to perform a specific operation between values."
   ]
  },
  {
   "cell_type": "markdown",
   "id": "9d91e9dd-f33c-4003-be5f-c9eaa9156421",
   "metadata": {},
   "source": [
    "1. arithmetic operators\n",
    "2. comparision  operators\n",
    "3. assignment  operators\n",
    "4. logical  operators\n",
    "5. bitwise  operators\n",
    "6. membership  operators\n",
    "7. identity  operators"
   ]
  },
  {
   "cell_type": "code",
   "execution_count": 1,
   "id": "34faecb4-b66a-46b9-86ba-ed82cd44bd70",
   "metadata": {},
   "outputs": [],
   "source": [
    "# arithmetic operators +  -  *  /  //  **  %"
   ]
  },
  {
   "cell_type": "code",
   "execution_count": 3,
   "id": "868f342d-a9cb-4827-bdd5-4bf39a8ee53e",
   "metadata": {},
   "outputs": [
    {
     "name": "stdout",
     "output_type": "stream",
     "text": [
      "2.5\n",
      "2\n"
     ]
    }
   ],
   "source": [
    "# floor division\n",
    "print(5/2)\n",
    "print(5//2)"
   ]
  },
  {
   "cell_type": "code",
   "execution_count": 4,
   "id": "b280b37b-b188-403d-950b-8a0a1acf0207",
   "metadata": {},
   "outputs": [
    {
     "name": "stdout",
     "output_type": "stream",
     "text": [
      "1.5\n",
      "1\n"
     ]
    }
   ],
   "source": [
    "print(3/2)\n",
    "print(3//2)"
   ]
  },
  {
   "cell_type": "code",
   "execution_count": 5,
   "id": "97721af5-a0e5-4f74-8fbd-372d568b38c2",
   "metadata": {},
   "outputs": [
    {
     "name": "stdout",
     "output_type": "stream",
     "text": [
      "3.3333333333333335\n",
      "3\n"
     ]
    }
   ],
   "source": [
    "print(10/3)\n",
    "print(10//3)"
   ]
  },
  {
   "cell_type": "code",
   "execution_count": 6,
   "id": "d809611d-1eb7-4465-886b-679b62b10391",
   "metadata": {},
   "outputs": [
    {
     "name": "stdout",
     "output_type": "stream",
     "text": [
      "-1.6666666666666667\n",
      "-2\n"
     ]
    }
   ],
   "source": [
    "print(-5/3)\n",
    "print(-5//3)"
   ]
  },
  {
   "cell_type": "code",
   "execution_count": 7,
   "id": "548b6f76-b314-4f1b-9cd7-178175f30805",
   "metadata": {},
   "outputs": [
    {
     "name": "stdout",
     "output_type": "stream",
     "text": [
      "4\n",
      "9\n",
      "16\n",
      "25\n"
     ]
    }
   ],
   "source": [
    "# exponentiation (**)\n",
    "print(2**2)\n",
    "print(3**2)\n",
    "print(4**2)\n",
    "print(5**2)"
   ]
  },
  {
   "cell_type": "code",
   "execution_count": 8,
   "id": "9529ae75-b477-40b6-be50-c65854d23dd6",
   "metadata": {},
   "outputs": [],
   "source": [
    "# modulo operation %- gives remainder"
   ]
  },
  {
   "cell_type": "code",
   "execution_count": 9,
   "id": "453bdd7e-2b06-482c-9383-81ef3487b2c8",
   "metadata": {},
   "outputs": [
    {
     "name": "stdout",
     "output_type": "stream",
     "text": [
      "1\n",
      "1\n",
      "1\n",
      "2\n"
     ]
    }
   ],
   "source": [
    "print(5%2)\n",
    "print(3%2)\n",
    "print(7%3)\n",
    "print(20%3)"
   ]
  },
  {
   "cell_type": "code",
   "execution_count": 10,
   "id": "98d9e003-ece9-41fb-8a20-8df90bac3c08",
   "metadata": {},
   "outputs": [
    {
     "name": "stdout",
     "output_type": "stream",
     "text": [
      "1\n"
     ]
    }
   ],
   "source": [
    "x= 5\n",
    "y= 2\n",
    "print(x%y)"
   ]
  },
  {
   "cell_type": "code",
   "execution_count": 11,
   "id": "e1cd2dd4-4c26-4e79-a067-90efc648ea9d",
   "metadata": {},
   "outputs": [
    {
     "name": "stdout",
     "output_type": "stream",
     "text": [
      "12\n"
     ]
    }
   ],
   "source": [
    "a= 12\n",
    "b= 15\n",
    "print(a%15)"
   ]
  },
  {
   "cell_type": "code",
   "execution_count": 12,
   "id": "c3ef78c0-2de1-4d63-8fd4-e469027d1ab8",
   "metadata": {},
   "outputs": [
    {
     "name": "stdout",
     "output_type": "stream",
     "text": [
      "False\n",
      "True\n",
      "True\n",
      "False\n",
      "True\n",
      "False\n"
     ]
    }
   ],
   "source": [
    "# comparison operator == !=  >  <  >=  <=\n",
    "# comparison operators allows to compare values. they gives result as either true or false\n",
    "\n",
    "x=78\n",
    "y=10\n",
    "\n",
    "print(x==y)   #false\n",
    "print(x!=y)   #true\n",
    "print(x>y)    # true\n",
    "print(x<y)    # false\n",
    "print(x>=y)   # x==y or x>y   78==10 or 78>10  true\n",
    "print(x<=y)   # x==y or x<y   78==10 or 78<10  false\n"
   ]
  },
  {
   "cell_type": "code",
   "execution_count": 3,
   "id": "67eb62d3-d6c8-49bc-ab6d-72f09ce0c678",
   "metadata": {},
   "outputs": [
    {
     "data": {
      "text/plain": [
       "False"
      ]
     },
     "execution_count": 3,
     "metadata": {},
     "output_type": "execute_result"
    }
   ],
   "source": [
    "z = \"hello world\"\n",
    "\"hii\"< z"
   ]
  },
  {
   "cell_type": "code",
   "execution_count": 9,
   "id": "8639ec07-31b7-4a62-aed0-c0572c5ca733",
   "metadata": {},
   "outputs": [
    {
     "ename": "TypeError",
     "evalue": "ord() expected a character, but string of length 11 found",
     "output_type": "error",
     "traceback": [
      "\u001b[31m---------------------------------------------------------------------------\u001b[39m",
      "\u001b[31mTypeError\u001b[39m                                 Traceback (most recent call last)",
      "\u001b[36mCell\u001b[39m\u001b[36m \u001b[39m\u001b[32mIn[9]\u001b[39m\u001b[32m, line 3\u001b[39m\n\u001b[32m      1\u001b[39m x= \u001b[33m\"\u001b[39m\u001b[33mpython\u001b[39m\u001b[33m\"\u001b[39m\n\u001b[32m      2\u001b[39m y= \u001b[33m\"\u001b[39m\u001b[33mhello world\u001b[39m\u001b[33m\"\u001b[39m\n\u001b[32m----> \u001b[39m\u001b[32m3\u001b[39m \u001b[38;5;28mprint\u001b[39m(\u001b[38;5;28;43mord\u001b[39;49m\u001b[43m(\u001b[49m\u001b[43my\u001b[49m\u001b[43m)\u001b[49m)\n\u001b[32m      4\u001b[39m \u001b[38;5;28mprint\u001b[39m(\u001b[38;5;28mord\u001b[39m(e))\n",
      "\u001b[31mTypeError\u001b[39m: ord() expected a character, but string of length 11 found"
     ]
    }
   ],
   "source": [
    "x= \"python\"\n",
    "y= \"hello world\"\n",
    "print(ord(y))\n",
    "print(ord(e))\n"
   ]
  },
  {
   "cell_type": "code",
   "execution_count": 8,
   "id": "9933762b-7ccf-4071-b0f7-8de1bcf8b1af",
   "metadata": {},
   "outputs": [
    {
     "name": "stdout",
     "output_type": "stream",
     "text": [
      "80\n",
      "112\n"
     ]
    }
   ],
   "source": [
    "# unicode value\n",
    "a =\"P\"\n",
    "b=\"p\"\n",
    "print(ord(a))\n",
    "print(ord(b))"
   ]
  },
  {
   "cell_type": "code",
   "execution_count": 9,
   "id": "4c892f5f-3792-4c5c-a369-5a54c2f9540f",
   "metadata": {},
   "outputs": [
    {
     "name": "stdout",
     "output_type": "stream",
     "text": [
      "True\n"
     ]
    }
   ],
   "source": [
    "print(a<b)"
   ]
  },
  {
   "cell_type": "code",
   "execution_count": 15,
   "id": "92bb7b8e-db3c-4588-9240-406f6a8957bc",
   "metadata": {},
   "outputs": [
    {
     "name": "stdout",
     "output_type": "stream",
     "text": [
      "112\n",
      "100\n"
     ]
    }
   ],
   "source": [
    "x=\"python\"\n",
    "y=\"data\"\n",
    "print(ord(\"p\"))\n",
    "print(ord(\"d\"))"
   ]
  },
  {
   "cell_type": "code",
   "execution_count": 16,
   "id": "0966f313-685c-44a8-b12d-8f2f1056104f",
   "metadata": {},
   "outputs": [
    {
     "name": "stdout",
     "output_type": "stream",
     "text": [
      "True\n"
     ]
    }
   ],
   "source": [
    "print(x>y)"
   ]
  },
  {
   "cell_type": "code",
   "execution_count": 17,
   "id": "ff0d1b16-3241-4fc1-b9e0-e1b9ff9a20a5",
   "metadata": {},
   "outputs": [
    {
     "name": "stdout",
     "output_type": "stream",
     "text": [
      "121\n",
      "97\n"
     ]
    }
   ],
   "source": [
    "a= \"python\"\n",
    "b= \"pata\"\n",
    "print(ord(\"y\"))\n",
    "print(ord(\"a\"))"
   ]
  },
  {
   "cell_type": "code",
   "execution_count": 18,
   "id": "64516cc2-6a7b-42d7-abdd-1f2ff9a3c57d",
   "metadata": {},
   "outputs": [
    {
     "name": "stdout",
     "output_type": "stream",
     "text": [
      "True\n"
     ]
    }
   ],
   "source": [
    "print(a>b)"
   ]
  },
  {
   "cell_type": "code",
   "execution_count": 15,
   "id": "f59f349e-4d2f-4cfa-bbde-94167b23a39f",
   "metadata": {},
   "outputs": [
    {
     "name": "stdout",
     "output_type": "stream",
     "text": [
      "True\n"
     ]
    }
   ],
   "source": [
    "# logical operator  (and  or  not)\n",
    "# it is used to combine conditional statements.\n",
    "#OR\n",
    "x=13\n",
    "y=14\n",
    "z=15\n",
    "print(x<y or y!=z)"
   ]
  },
  {
   "cell_type": "code",
   "execution_count": 16,
   "id": "71d73cb9-ce7f-4dc9-9e0d-73b3f6b01777",
   "metadata": {},
   "outputs": [
    {
     "name": "stdout",
     "output_type": "stream",
     "text": [
      "False\n",
      "True\n",
      "True\n"
     ]
    }
   ],
   "source": [
    "x= 18\n",
    "print(x<y)\n",
    "print(y!=z)\n",
    "print(x<y or y!=z)\n",
    "\n"
   ]
  },
  {
   "cell_type": "code",
   "execution_count": 23,
   "id": "72ba822f-ed93-4a8c-974c-657a80cf6862",
   "metadata": {},
   "outputs": [
    {
     "name": "stdout",
     "output_type": "stream",
     "text": [
      "False\n",
      "False\n",
      "False\n"
     ]
    }
   ],
   "source": [
    "x=18\n",
    "y= 14\n",
    "z= 14\n",
    "print(x<y)\n",
    "print(y!=z)\n",
    "print(x<y or y!=z)"
   ]
  },
  {
   "cell_type": "code",
   "execution_count": 25,
   "id": "a21e1960-9ae3-4186-bebb-13513c78df32",
   "metadata": {},
   "outputs": [
    {
     "name": "stdout",
     "output_type": "stream",
     "text": [
      "False\n",
      "True\n"
     ]
    }
   ],
   "source": [
    "a= 57\n",
    "b= 26.5\n",
    "print(a<b or a==b)    # this is same as a<=b\n",
    "print(a>b or a==b)    # this is same as a>=b\n"
   ]
  },
  {
   "cell_type": "code",
   "execution_count": 11,
   "id": "c9eac369-cbca-48b8-8efd-8ece9942867d",
   "metadata": {},
   "outputs": [
    {
     "data": {
      "text/plain": [
       "True"
      ]
     },
     "execution_count": 11,
     "metadata": {},
     "output_type": "execute_result"
    }
   ],
   "source": [
    "# even number checker\n",
    "num = 2\n",
    "num%2 ==0\n",
    "\n",
    "\n",
    "\n",
    "\n",
    "\n"
   ]
  },
  {
   "cell_type": "code",
   "execution_count": 39,
   "id": "b64a0fba-c5b2-49ef-8252-a206e1ff48a3",
   "metadata": {},
   "outputs": [
    {
     "data": {
      "text/plain": [
       "False"
      ]
     },
     "execution_count": 39,
     "metadata": {},
     "output_type": "execute_result"
    }
   ],
   "source": [
    "num = 89\n",
    "num%2 ==0\n"
   ]
  },
  {
   "cell_type": "code",
   "execution_count": 1,
   "id": "40fae070-da3e-4edb-9939-0b2511ed482f",
   "metadata": {},
   "outputs": [
    {
     "name": "stdout",
     "output_type": "stream",
     "text": [
      "True\n"
     ]
    }
   ],
   "source": [
    "a= 12\n",
    "b= 23\n",
    "c=45\n",
    "print(a<b or b!=c or c>a)"
   ]
  },
  {
   "cell_type": "code",
   "execution_count": 4,
   "id": "3765fc39-8be3-4efa-bd01-a85842320187",
   "metadata": {},
   "outputs": [
    {
     "name": "stdout",
     "output_type": "stream",
     "text": [
      "False\n",
      "False\n",
      "False\n"
     ]
    }
   ],
   "source": [
    "a= 60\n",
    "b= 45\n",
    "c= 45\n",
    "print(a<b )\n",
    "print (b!=c) \n",
    "print(c>a)"
   ]
  },
  {
   "cell_type": "code",
   "execution_count": 6,
   "id": "4bb7c1b5-466e-4267-b54e-efe45f7b7282",
   "metadata": {},
   "outputs": [
    {
     "name": "stdout",
     "output_type": "stream",
     "text": [
      "False\n"
     ]
    }
   ],
   "source": [
    "print(a<b and b!=c and c>a)"
   ]
  },
  {
   "cell_type": "code",
   "execution_count": 18,
   "id": "c5477190-f6de-4112-9d7e-005aac1a4e08",
   "metadata": {},
   "outputs": [
    {
     "name": "stdout",
     "output_type": "stream",
     "text": [
      "True\n",
      "True\n",
      "True\n"
     ]
    }
   ],
   "source": [
    "# and\n",
    "#if both conditions are true than end result will be true only \n",
    "x=13\n",
    "y=14\n",
    "z=15\n",
    "print(x<y) \n",
    "print(y!=z)\n",
    "print(x<y and y!=z)"
   ]
  },
  {
   "cell_type": "code",
   "execution_count": 20,
   "id": "7eea0199-e953-4d99-806e-49a4aaddb4e4",
   "metadata": {},
   "outputs": [
    {
     "name": "stdout",
     "output_type": "stream",
     "text": [
      "False\n",
      "True\n",
      "False\n"
     ]
    }
   ],
   "source": [
    "x=18\n",
    "print(x<y)\n",
    "print(y!=z)\n",
    "print(x<y and y!=z)"
   ]
  },
  {
   "cell_type": "code",
   "execution_count": 21,
   "id": "79131165-fe1e-44a4-ba65-d357ca59b5c1",
   "metadata": {},
   "outputs": [
    {
     "name": "stdout",
     "output_type": "stream",
     "text": [
      "False\n",
      "False\n",
      "False\n"
     ]
    }
   ],
   "source": [
    "x=18\n",
    "y= 14\n",
    "z= 14\n",
    "print(x<y) \n",
    "print(y!=z)\n",
    "print(x<y and y!=z)"
   ]
  },
  {
   "cell_type": "code",
   "execution_count": 11,
   "id": "4e739b30-21a0-4148-995d-eac82eeb054c",
   "metadata": {},
   "outputs": [
    {
     "name": "stdout",
     "output_type": "stream",
     "text": [
      "True\n"
     ]
    }
   ],
   "source": [
    "#if its a weekday and the time is before 7, wake up\n",
    "weekday=\"monday\"\n",
    "time=7\n",
    "print(weekday==\"monday\" and time==7)"
   ]
  },
  {
   "cell_type": "code",
   "execution_count": 15,
   "id": "a4e090a5-ee9a-444a-8754-fb3a0bce8cd9",
   "metadata": {},
   "outputs": [
    {
     "name": "stdout",
     "output_type": "stream",
     "text": [
      "True\n"
     ]
    }
   ],
   "source": [
    "#if you woke up and your uniform is clean go take a shower and get dressed\n",
    "uniform= \"clean\"\n",
    "wakeup= \"yes\"\n",
    "print(uniform==\"clean\" and wakeup==\"yes\")"
   ]
  },
  {
   "cell_type": "code",
   "execution_count": 17,
   "id": "9c3b4008-79dc-4edf-892d-cae3d493b08b",
   "metadata": {},
   "outputs": [
    {
     "name": "stdout",
     "output_type": "stream",
     "text": [
      "True\n"
     ]
    }
   ],
   "source": [
    "#if its a weekday and homework is not done,panic\n",
    "weekday=\"tuesday\"\n",
    "homework=\"done\"\n",
    "print(weekday==\"tuesday\" and homework==\"done\")"
   ]
  },
  {
   "cell_type": "code",
   "execution_count": 19,
   "id": "8e7e723c-3617-4a0c-a7c2-4599c12dae33",
   "metadata": {},
   "outputs": [
    {
     "name": "stdout",
     "output_type": "stream",
     "text": [
      "True\n"
     ]
    }
   ],
   "source": [
    "#if the bus has already arrived and you are not ready ,take an auto\n",
    "bus=\"arrived\"\n",
    "ready= \"no\"\n",
    "print(bus==\"arrived\" and ready==\"no\")"
   ]
  },
  {
   "cell_type": "code",
   "execution_count": 20,
   "id": "59d7c168-a76a-4665-8e0b-e183211c17b9",
   "metadata": {},
   "outputs": [
    {
     "name": "stdout",
     "output_type": "stream",
     "text": [
      "True\n"
     ]
    }
   ],
   "source": [
    "#if you are ready have your id,and bus has not arrived,wait at the gate\n",
    "ready=\"yes\"\n",
    "id= \"yes\"\n",
    "bus=\"not arrived\"\n",
    "print(ready==\"yes\" and id==\"yes\" and bus==\"not arrived\")"
   ]
  },
  {
   "cell_type": "code",
   "execution_count": 1,
   "id": "d383b841-c338-458c-8ed0-80e5660942eb",
   "metadata": {},
   "outputs": [
    {
     "name": "stdout",
     "output_type": "stream",
     "text": [
      "False\n",
      "True\n"
     ]
    }
   ],
   "source": [
    "#not operator\n",
    "x= 12\n",
    "print(x==20)\n",
    "print(not x==20)"
   ]
  },
  {
   "cell_type": "code",
   "execution_count": 2,
   "id": "adcae4e3-4f0b-468c-83b4-3de55471d665",
   "metadata": {},
   "outputs": [
    {
     "name": "stdout",
     "output_type": "stream",
     "text": [
      "True\n",
      "False\n"
     ]
    }
   ],
   "source": [
    "x=20\n",
    "print(x==20)\n",
    "print(not x==20)"
   ]
  },
  {
   "cell_type": "code",
   "execution_count": 3,
   "id": "27ad57ec-7dae-41a6-ab4b-c3aeb9ca330c",
   "metadata": {},
   "outputs": [
    {
     "name": "stdout",
     "output_type": "stream",
     "text": [
      "140727820399880\n",
      "140727820399880\n",
      "True\n",
      "False\n"
     ]
    }
   ],
   "source": [
    "# identity operator      is          is not\n",
    "# check whether two variables share the same memory location or not\n",
    "x= 12\n",
    "y= 12\n",
    "print(id(x))\n",
    "print(id(y))\n",
    "print(x is y)\n",
    "print(x is not y)"
   ]
  },
  {
   "cell_type": "code",
   "execution_count": 19,
   "id": "ff6f9d2e-1138-4a47-8304-7f44cd8c5327",
   "metadata": {},
   "outputs": [
    {
     "name": "stdout",
     "output_type": "stream",
     "text": [
      "False\n",
      "140710341293320\n",
      "140710341295432\n"
     ]
    }
   ],
   "source": [
    "x=12\n",
    "y=78\n",
    "print(x is y)\n",
    "print(id(x))\n",
    "print(id(y))"
   ]
  },
  {
   "cell_type": "code",
   "execution_count": 4,
   "id": "ff3f9a80-f22a-4cf3-960f-1f4028cd5707",
   "metadata": {},
   "outputs": [
    {
     "name": "stdout",
     "output_type": "stream",
     "text": [
      "140727820399880\n",
      "140727820399912\n",
      "False\n"
     ]
    }
   ],
   "source": [
    "a= 12\n",
    "b= 13\n",
    "print(id(a))\n",
    "print(id(b))\n",
    "print(a is b)"
   ]
  },
  {
   "cell_type": "code",
   "execution_count": 6,
   "id": "0535d07e-b31b-462e-b7bb-c17d7c0ef0df",
   "metadata": {},
   "outputs": [
    {
     "name": "stdout",
     "output_type": "stream",
     "text": [
      "2250818827904\n",
      "2250818826048\n",
      "False\n",
      "True\n"
     ]
    }
   ],
   "source": [
    "a= [12]      #list\n",
    "b=[12]\n",
    "print(id(a))\n",
    "print(id(b))\n",
    "print(a is b)   #will check memory location\n",
    "print(a==b)     #will check value"
   ]
  },
  {
   "cell_type": "code",
   "execution_count": null,
   "id": "ee62babf-e803-42b6-922d-5da61f594bee",
   "metadata": {},
   "outputs": [],
   "source": []
  },
  {
   "cell_type": "code",
   "execution_count": 13,
   "id": "aa70f1de-451f-4454-be9a-6c3cb7448d0e",
   "metadata": {},
   "outputs": [
    {
     "data": {
      "text/plain": [
       "True"
      ]
     },
     "execution_count": 13,
     "metadata": {},
     "output_type": "execute_result"
    }
   ],
   "source": [
    "#membership operators    in     not in\n",
    "#membership operators check whether a value is present in a sequence of values\n",
    "#sequence- strings, lists, tuples, sets, dictonaries\n",
    "a= \"data science\"\n",
    "b= \"data\"\n",
    "b in a\n"
   ]
  },
  {
   "cell_type": "code",
   "execution_count": 11,
   "id": "d08a0307-735b-492d-92d4-4c570c54d156",
   "metadata": {},
   "outputs": [
    {
     "data": {
      "text/plain": [
       "False"
      ]
     },
     "execution_count": 11,
     "metadata": {},
     "output_type": "execute_result"
    }
   ],
   "source": [
    "b not in a"
   ]
  },
  {
   "cell_type": "code",
   "execution_count": 15,
   "id": "58f1015a-e6f8-442d-a36d-d3dc663c1038",
   "metadata": {},
   "outputs": [
    {
     "data": {
      "text/plain": [
       "False"
      ]
     },
     "execution_count": 15,
     "metadata": {},
     "output_type": "execute_result"
    }
   ],
   "source": [
    "a in b"
   ]
  },
  {
   "cell_type": "code",
   "execution_count": 17,
   "id": "6dc0d158-a7ac-47da-8cf1-4c11be4146a0",
   "metadata": {},
   "outputs": [
    {
     "data": {
      "text/plain": [
       "True"
      ]
     },
     "execution_count": 17,
     "metadata": {},
     "output_type": "execute_result"
    }
   ],
   "source": [
    "a= \"data\"\n",
    "b=\"science\"\n",
    "c=\"data science\"\n",
    "a in c"
   ]
  },
  {
   "cell_type": "code",
   "execution_count": 26,
   "id": "7de3bc36-a411-41ed-b298-055673d2d836",
   "metadata": {},
   "outputs": [
    {
     "name": "stdout",
     "output_type": "stream",
     "text": [
      "True\n",
      "True\n",
      "False\n",
      "True\n"
     ]
    }
   ],
   "source": [
    "print(\"ta \" in a)\n",
    "print(\"ta sci\" in c)\n",
    "print(a in \"data\")\n",
    "print(\"ce\" in b)"
   ]
  },
  {
   "cell_type": "code",
   "execution_count": 19,
   "id": "1d94a878-5bd8-4552-b66c-8afb8efa8314",
   "metadata": {},
   "outputs": [
    {
     "data": {
      "text/plain": [
       "False"
      ]
     },
     "execution_count": 19,
     "metadata": {},
     "output_type": "execute_result"
    }
   ],
   "source": [
    "c in b"
   ]
  },
  {
   "cell_type": "code",
   "execution_count": null,
   "id": "b4608e21-0574-4459-80cc-4570cbf8c724",
   "metadata": {},
   "outputs": [],
   "source": []
  },
  {
   "cell_type": "code",
   "execution_count": 16,
   "id": "a652cfd2-ba26-48b3-97e0-f0420b37d3a1",
   "metadata": {},
   "outputs": [
    {
     "name": "stdout",
     "output_type": "stream",
     "text": [
      "True\n",
      "True\n",
      "True\n",
      "False\n",
      "False\n",
      "False\n"
     ]
    }
   ],
   "source": [
    "a= \"data science\"\n",
    "print(\"ta\" in a)\n",
    "print(\" sci\" in a)\n",
    "print(\"ata \" in a)\n",
    "print(\"ata  \" in a)\n",
    "print(\"science \" in a)\n",
    "print(a in \"data\")\n"
   ]
  },
  {
   "cell_type": "code",
   "execution_count": 15,
   "id": "0916ba8d-288e-4dd7-9434-01047fd55d5b",
   "metadata": {},
   "outputs": [
    {
     "ename": "NameError",
     "evalue": "name 'd' is not defined",
     "output_type": "error",
     "traceback": [
      "\u001b[31m---------------------------------------------------------------------------\u001b[39m",
      "\u001b[31mNameError\u001b[39m                                 Traceback (most recent call last)",
      "\u001b[36mCell\u001b[39m\u001b[36m \u001b[39m\u001b[32mIn[15]\u001b[39m\u001b[32m, line 1\u001b[39m\n\u001b[32m----> \u001b[39m\u001b[32m1\u001b[39m \u001b[38;5;28mprint\u001b[39m(\u001b[43md\u001b[49m \u001b[38;5;129;01mnot\u001b[39;00m \u001b[38;5;129;01min\u001b[39;00m \u001b[33m\"\u001b[39m\u001b[33mdata\u001b[39m\u001b[33m\"\u001b[39m)\n",
      "\u001b[31mNameError\u001b[39m: name 'd' is not defined"
     ]
    }
   ],
   "source": [
    "print(d not in \"data\")\n"
   ]
  },
  {
   "cell_type": "code",
   "execution_count": 31,
   "id": "49bf61ce-bd1a-4536-b83d-14f4d4756c99",
   "metadata": {},
   "outputs": [
    {
     "name": "stdout",
     "output_type": "stream",
     "text": [
      "True\n"
     ]
    }
   ],
   "source": [
    "x= \"data\"\n",
    "y=\"data science\"\n",
    "z=\"data   python\"\n",
    "print(x in z)"
   ]
  },
  {
   "cell_type": "code",
   "execution_count": 32,
   "id": "82572244-d922-4978-8ddf-3d9a8589c1c3",
   "metadata": {},
   "outputs": [
    {
     "name": "stdout",
     "output_type": "stream",
     "text": [
      "False\n"
     ]
    }
   ],
   "source": [
    "print(x not in z)"
   ]
  },
  {
   "cell_type": "code",
   "execution_count": 33,
   "id": "abc29d1e-446b-46ec-a056-0df7ddda5b05",
   "metadata": {},
   "outputs": [
    {
     "name": "stdout",
     "output_type": "stream",
     "text": [
      "False\n"
     ]
    }
   ],
   "source": [
    "print(\"  py\" in z)"
   ]
  },
  {
   "cell_type": "code",
   "execution_count": 34,
   "id": "33468661-558e-4cae-a297-2e7807c0560c",
   "metadata": {},
   "outputs": [
    {
     "name": "stdout",
     "output_type": "stream",
     "text": [
      "True\n"
     ]
    }
   ],
   "source": [
    "print(\" s\" in y)"
   ]
  },
  {
   "cell_type": "code",
   "execution_count": 36,
   "id": "48bcabf2-aa8b-4323-ac4d-c0394e92691f",
   "metadata": {},
   "outputs": [
    {
     "name": "stdout",
     "output_type": "stream",
     "text": [
      "True\n"
     ]
    }
   ],
   "source": [
    "print(x in y)"
   ]
  },
  {
   "cell_type": "code",
   "execution_count": 37,
   "id": "812c98ce-fc7d-4f8a-ba2d-878ca6a3192a",
   "metadata": {},
   "outputs": [],
   "source": [
    "# bitwise operators   &  |  ^  ~ <<  >>\n",
    "# & - bitwise AND\n",
    "# | - bitwise OR\n",
    "# ^ - bitwise XOR\n",
    "# ~ - bitwise NOT\n",
    "# << - left shift\n",
    "# >> - right shift"
   ]
  },
  {
   "cell_type": "code",
   "execution_count": 1,
   "id": "14960efe-6cdd-4d64-9e40-0f4c0aea91b8",
   "metadata": {},
   "outputs": [
    {
     "name": "stdout",
     "output_type": "stream",
     "text": [
      "8\n"
     ]
    }
   ],
   "source": [
    "#assignment operator  =   +=  -= /= //= *= **= %= |= &= <<= >>= ^=\n",
    "#assignment operators assign values to variables\n",
    "x=8\n",
    "print(x)\n"
   ]
  },
  {
   "cell_type": "code",
   "execution_count": 2,
   "id": "dc2088be-3c44-4284-b4f4-36cbb7d856bf",
   "metadata": {},
   "outputs": [
    {
     "name": "stdout",
     "output_type": "stream",
     "text": [
      "17\n"
     ]
    }
   ],
   "source": [
    "x+=9   #x=x+9\n",
    "print(x)"
   ]
  },
  {
   "cell_type": "code",
   "execution_count": 4,
   "id": "986d3401-9044-4265-a4b8-9e1be913bdc7",
   "metadata": {},
   "outputs": [
    {
     "name": "stdout",
     "output_type": "stream",
     "text": [
      "2\n"
     ]
    }
   ],
   "source": [
    "a=12   #a=a-10\n",
    "a-=10\n",
    "print(a)"
   ]
  },
  {
   "cell_type": "code",
   "execution_count": 5,
   "id": "c7a3f298-1680-4267-ab05-a33cd76e5801",
   "metadata": {},
   "outputs": [
    {
     "name": "stdout",
     "output_type": "stream",
     "text": [
      "6.0\n"
     ]
    }
   ],
   "source": [
    "z= 12\n",
    "z/=2\n",
    "print(z)\n",
    "\n"
   ]
  },
  {
   "cell_type": "code",
   "execution_count": 7,
   "id": "be2f4e8d-4f9e-49cf-addc-7b6e05c56487",
   "metadata": {},
   "outputs": [
    {
     "name": "stdout",
     "output_type": "stream",
     "text": [
      "1.0\n"
     ]
    }
   ],
   "source": [
    "z//=2\n",
    "print(z)"
   ]
  },
  {
   "cell_type": "code",
   "execution_count": 8,
   "id": "791c2310-e533-4c78-ab5d-85a48b585973",
   "metadata": {},
   "outputs": [
    {
     "name": "stdout",
     "output_type": "stream",
     "text": [
      "20\n"
     ]
    }
   ],
   "source": [
    "a=10\n",
    "a*=2\n",
    "print(a)"
   ]
  },
  {
   "cell_type": "code",
   "execution_count": 9,
   "id": "8eff6959-5905-43aa-a320-a48575c82acf",
   "metadata": {},
   "outputs": [
    {
     "name": "stdout",
     "output_type": "stream",
     "text": [
      "400\n"
     ]
    }
   ],
   "source": [
    "a**=2\n",
    "print(a)"
   ]
  },
  {
   "cell_type": "code",
   "execution_count": 10,
   "id": "027eb607-ca0d-467f-8b35-6b2535b0e5f4",
   "metadata": {},
   "outputs": [
    {
     "name": "stdout",
     "output_type": "stream",
     "text": [
      "1.0\n"
     ]
    }
   ],
   "source": [
    "z%=2\n",
    "print(z)"
   ]
  },
  {
   "cell_type": "code",
   "execution_count": 17,
   "id": "09072a79-8a3b-4de9-8772-7440e921131d",
   "metadata": {},
   "outputs": [],
   "source": [
    "i=6\n",
    "while i<=1:\n",
    "    j=6\n",
    "    while j<=i:\n",
    "       print(\"*\",end=\"\")\n",
    "       j=j-1\n",
    "    print()\n",
    "    i=i-1\n"
   ]
  },
  {
   "cell_type": "code",
   "execution_count": null,
   "id": "51c5945e-d569-4317-94b5-9f7f59d8245f",
   "metadata": {},
   "outputs": [],
   "source": []
  }
 ],
 "metadata": {
  "kernelspec": {
   "display_name": "Python 3 (ipykernel)",
   "language": "python",
   "name": "python3"
  },
  "language_info": {
   "codemirror_mode": {
    "name": "ipython",
    "version": 3
   },
   "file_extension": ".py",
   "mimetype": "text/x-python",
   "name": "python",
   "nbconvert_exporter": "python",
   "pygments_lexer": "ipython3",
   "version": "3.13.5"
  }
 },
 "nbformat": 4,
 "nbformat_minor": 5
}
