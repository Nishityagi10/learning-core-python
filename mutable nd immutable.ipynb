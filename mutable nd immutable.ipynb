{
 "cells": [
  {
   "cell_type": "markdown",
   "id": "8141126e-6777-46ee-9c80-8f1f76495b9c",
   "metadata": {},
   "source": [
    "### immutable:\n",
    "on changing the value the id of the variable is changing\n"
   ]
  },
  {
   "cell_type": "code",
   "execution_count": null,
   "id": "d477656a-6082-49c3-afdd-574c655d23d1",
   "metadata": {},
   "outputs": [],
   "source": [
    "x=23\n"
   ]
  },
  {
   "cell_type": "code",
   "execution_count": 2,
   "id": "8790db5b-8d6e-4bb9-b185-7ab39e7207a7",
   "metadata": {},
   "outputs": [
    {
     "name": "stdout",
     "output_type": "stream",
     "text": [
      "34\n",
      "140713544890312\n"
     ]
    }
   ],
   "source": [
    "x= 34\n",
    "print(x)\n",
    "print(id(x)) #id is changing"
   ]
  },
  {
   "cell_type": "markdown",
   "id": "b19a752d-a5c6-478d-aae8-5c94d9adee5d",
   "metadata": {},
   "source": [
    "### mutable: list set,dictionary\n",
    "on changing the value of the variable,the id does not change\n"
   ]
  },
  {
   "cell_type": "code",
   "execution_count": 7,
   "id": "83abe58b-f828-4840-913e-f26088f52ee6",
   "metadata": {},
   "outputs": [
    {
     "name": "stdout",
     "output_type": "stream",
     "text": [
      "['pankaj', 'neeraj', 'tushar']\n",
      "2334184589952\n"
     ]
    }
   ],
   "source": [
    "list=[\"pankaj\",\"neeraj\",\"tushar\"]\n",
    "print(list)\n",
    "print(id(list))"
   ]
  },
  {
   "cell_type": "code",
   "execution_count": 8,
   "id": "ee23845c-3346-4456-834f-d70a5a151b0f",
   "metadata": {},
   "outputs": [
    {
     "name": "stdout",
     "output_type": "stream",
     "text": [
      "['pankaj', 'neeraj', 'tushar', 'mayank']\n",
      "2334184589952\n"
     ]
    }
   ],
   "source": [
    "list.append(\"mayank\")\n",
    "print(list)\n",
    "print(id(list))"
   ]
  },
  {
   "cell_type": "code",
   "execution_count": 9,
   "id": "110e7c68-9b55-47f4-a918-e55cab9d217f",
   "metadata": {},
   "outputs": [
    {
     "name": "stdout",
     "output_type": "stream",
     "text": [
      "['pankaj', 'tushar', 'mayank']\n"
     ]
    }
   ],
   "source": [
    "list.remove(\"neeraj\")\n",
    "print(list)"
   ]
  },
  {
   "cell_type": "code",
   "execution_count": 10,
   "id": "e4be6f80-5ff0-4bcb-89d2-6c317448dd88",
   "metadata": {},
   "outputs": [
    {
     "name": "stdout",
     "output_type": "stream",
     "text": [
      "['nishi', 'tushar', 'mayank']\n",
      "2334184589952\n"
     ]
    }
   ],
   "source": [
    "list[0]=\"nishi\"\n",
    "print(list)\n",
    "print(id(list))"
   ]
  },
  {
   "cell_type": "code",
   "execution_count": 12,
   "id": "1916f5f9-775f-49fa-af9e-e4e4ba29eac2",
   "metadata": {},
   "outputs": [
    {
     "data": {
      "text/plain": [
       "'h'"
      ]
     },
     "execution_count": 12,
     "metadata": {},
     "output_type": "execute_result"
    }
   ],
   "source": [
    "str1= \"hello world\"   #string is immutable\n",
    "str1[0]"
   ]
  },
  {
   "cell_type": "code",
   "execution_count": 13,
   "id": "26e80bc7-309a-4044-939d-db52e39926ab",
   "metadata": {},
   "outputs": [
    {
     "ename": "TypeError",
     "evalue": "'str' object does not support item assignment",
     "output_type": "error",
     "traceback": [
      "\u001b[31m---------------------------------------------------------------------------\u001b[39m",
      "\u001b[31mTypeError\u001b[39m                                 Traceback (most recent call last)",
      "\u001b[36mCell\u001b[39m\u001b[36m \u001b[39m\u001b[32mIn[13]\u001b[39m\u001b[32m, line 1\u001b[39m\n\u001b[32m----> \u001b[39m\u001b[32m1\u001b[39m \u001b[43mstr1\u001b[49m\u001b[43m[\u001b[49m\u001b[32;43m0\u001b[39;49m\u001b[43m]\u001b[49m=\u001b[33m\"\u001b[39m\u001b[33mx\u001b[39m\u001b[33m\"\u001b[39m\n",
      "\u001b[31mTypeError\u001b[39m: 'str' object does not support item assignment"
     ]
    }
   ],
   "source": [
    "str1[0]=\"x\""
   ]
  },
  {
   "cell_type": "code",
   "execution_count": null,
   "id": "fee572a3-a57d-4024-b073-bd0a002c8f68",
   "metadata": {},
   "outputs": [],
   "source": []
  }
 ],
 "metadata": {
  "kernelspec": {
   "display_name": "Python 3 (ipykernel)",
   "language": "python",
   "name": "python3"
  },
  "language_info": {
   "codemirror_mode": {
    "name": "ipython",
    "version": 3
   },
   "file_extension": ".py",
   "mimetype": "text/x-python",
   "name": "python",
   "nbconvert_exporter": "python",
   "pygments_lexer": "ipython3",
   "version": "3.13.5"
  }
 },
 "nbformat": 4,
 "nbformat_minor": 5
}
