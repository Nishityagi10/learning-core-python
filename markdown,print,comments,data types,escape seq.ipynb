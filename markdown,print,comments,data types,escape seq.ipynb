{
 "cells": [
  {
   "cell_type": "raw",
   "id": "b1f5c513-cbb5-43c6-8a97-a3e49518ec61",
   "metadata": {},
   "source": [
    "#operators in python\n",
    "# operators are special used symbols in python that performs operations on variables and values.\n",
    "#for example + is an operator used to add two values."
   ]
  },
  {
   "cell_type": "code",
   "execution_count": null,
   "id": "529c7b19-cc05-46f9-99ba-41c429327d19",
   "metadata": {},
   "outputs": [],
   "source": [
    "c= a/b     #division is used\n",
    "d= a//b    #floor division is used \n",
    "e=a%b      #remainder"
   ]
  },
  {
   "cell_type": "code",
   "execution_count": null,
   "id": "f82dfe18-4e8f-4e38-91c8-b6e5043696bd",
   "metadata": {},
   "outputs": [],
   "source": [
    "precedence\n",
    "()            \n",
    "**\n",
    "*,/,//,%\n",
    "+,-"
   ]
  },
  {
   "cell_type": "raw",
   "id": "26b27826-010b-40fa-8ba1-f0e63093e288",
   "metadata": {},
   "source": [
    "rules:\n",
    "1) solve the operation with precedence\n",
    "2) solve from left to right"
   ]
  },
  {
   "cell_type": "code",
   "execution_count": null,
   "id": "f93957e9-4114-4d35-ab44-e6c0f0bb39b2",
   "metadata": {},
   "outputs": [],
   "source": [
    "arithmetic operators\n",
    "\t\n",
    "  Operator                Description                                                  Example\n",
    "     +               Addition: Adds two operands.                                       x + y\n",
    "\n",
    "     -           Subtraction: Subtracts the second operand from the first.              x - y\n",
    "\n",
    "     *            Multiplication: Multiplies two operands.                              x * y\n",
    "\n",
    "     /          Division (float): Divides the first operand by the second, \n",
    "                          resulting in a float.                                         x / y\n",
    "\n",
    "    //        Floor Division: Divides the first operand by the second and \n",
    "           returns the integer part of the quotient (removes the decimal part).         x // y\n",
    "        \n",
    "    %      Modulus: Returns the remainder of the division of the first operand\n",
    "                  by the second.                                                        x % y\n",
    "\n",
    "    **      Exponentiation: Raises the first operand to the power of the second.        x ** y\n"
   ]
  },
  {
   "cell_type": "code",
   "execution_count": null,
   "id": "21f0d22d-b2d4-4f9a-a0e9-42c76bc95261",
   "metadata": {},
   "outputs": [],
   "source": [
    "a=20\n",
    "b=3\n",
    "c=a/b\n",
    "d=a//b\n",
    "print (c,'this is the result of normal division')\n",
    "print(d,' this is the result of floor division, and value is quotient')\n"
   ]
  },
  {
   "cell_type": "code",
   "execution_count": null,
   "id": "c8f191b9-ec50-46ae-b203-7509f7f53192",
   "metadata": {},
   "outputs": [],
   "source": [
    "a=20\n",
    "b=3\n",
    "c=a/b\n",
    "d=a//b\n",
    "print (c,'this is the result of normal division')\n",
    "print(d,' this is the result of floor division, and value is quotient')\n"
   ]
  },
  {
   "cell_type": "code",
   "execution_count": null,
   "id": "cea3b646-4c26-4d3b-818b-d2b95f31b4ad",
   "metadata": {},
   "outputs": [],
   "source": [
    "a=20\n",
    "b=3\n",
    "c=a/b\n",
    "d=a%b\n",
    "print (c,'this is the result of normal division')\n",
    "print(d,' this is the result of modulus, and value is remainder')"
   ]
  },
  {
   "cell_type": "code",
   "execution_count": null,
   "id": "ccb50803-5077-4788-adba-b4927d88fe5e",
   "metadata": {},
   "outputs": [],
   "source": [
    "a=20\n",
    "b=3\n",
    "c=a/b\n",
    "d=a%b\n",
    "print (c,'this is the result of normal division')\n",
    "print(d,' this is the result of modulus, and value is remainder')"
   ]
  },
  {
   "cell_type": "code",
   "execution_count": null,
   "id": "f14afe17-cf22-4f5b-b9ef-a6a22dc70786",
   "metadata": {},
   "outputs": [],
   "source": [
    "a = 6+2*4\n",
    "b = 2*4\n",
    "c = 6+b\n",
    "print(a,\",\",c)"
   ]
  },
  {
   "cell_type": "code",
   "execution_count": null,
   "id": "80df0b2e-a4e0-4130-8959-6f89a850464c",
   "metadata": {},
   "outputs": [],
   "source": [
    "a = 2+3-5*2/3**2+4\n",
    "b = 2+3-5*2/9+4\n",
    "c = 2+3-10/9+4\n",
    "d = 2+3-1.11+4\n",
    "print(d)"
   ]
  },
  {
   "cell_type": "code",
   "execution_count": null,
   "id": "0ec64072-2324-4374-9ad8-421556eefd4b",
   "metadata": {},
   "outputs": [],
   "source": [
    "a = 2+3-5*2/3**2+4\n",
    "\n",
    "b= 3**2 # this will be the first operation\n",
    "    # 2+3-5*2/b+4\n",
    "\n",
    "c = 5*2 # this will be the second operation\n",
    "    # 2+3-c/b+4\n",
    "\n",
    "d = c/b # this will be the third operation\n",
    "    # 2+3-d+4\n",
    "\n",
    "e = 5-d+4 # this will be the fourth operatiohimashu\n",
    "print(e)"
   ]
  },
  {
   "cell_type": "code",
   "execution_count": 4,
   "id": "35165367-cbf1-47c5-8fc4-b86ce982f4fa",
   "metadata": {},
   "outputs": [
    {
     "name": "stdout",
     "output_type": "stream",
     "text": [
      "-7.666666666666667 -7.666666666666667 -7.666666666666667 -7.666666666666667 -7.666666666666667 -7.666666666666667\n"
     ]
    }
   ],
   "source": [
    "a = 2+5 ** (3-1) // 2 % 11-5 + 4 / 3 + 2 - 3 * 3 \n",
    "\n",
    "#1st\n",
    "b = (3-1)\n",
    "eq1 = 2 + 5**b // 2 % 11-5+ 4 / 3 + 2 - 3*3\n",
    "\n",
    "#2nd\n",
    "c = 5**b\n",
    "eq2 = 2 + c // 2 % 11-5+ 4 / 3 + 2 - 3*3\n",
    "\n",
    "#3rd\n",
    "d=c//2\n",
    "eq3 = 2 + d % 11-5+ 4 / 3 + 2 - 3*3\n",
    "\n",
    "#4th\n",
    "e = d % 11\n",
    "eq4 = 2 + e -5+ 4 / 3 + 2 - 3*3\n",
    "\n",
    "#5th\n",
    "f = 4/3\n",
    "eq5 = 2 + e -5+ f + 2 - 3*3\n",
    "\n",
    "#6th\n",
    "g = 3*3\n",
    "eq6 = 2 + e -5+ f + 2 - g\n",
    "print(eq1,eq2,eq3,eq4,eq5,eq6)"
   ]
  },
  {
   "cell_type": "markdown",
   "id": "201938cb-3cfa-4d14-a6e8-da0c7fa5026e",
   "metadata": {},
   "source": [
    "# comments "
   ]
  },
  {
   "cell_type": "code",
   "execution_count": null,
   "id": "3a6e964e-9883-4e40-834b-8f53600601ea",
   "metadata": {},
   "outputs": [],
   "source": [
    "#multiline comment\n",
    "'''nishi\n",
    "   tyagi\n",
    "   mca\n",
    "   rudrapur\n",
    "'''\n"
   ]
  },
  {
   "cell_type": "markdown",
   "id": "eb5a5495-179e-4c2c-b588-6c5872da56ba",
   "metadata": {},
   "source": [
    "# Heading 1"
   ]
  },
  {
   "cell_type": "markdown",
   "id": "ec78ef80-eaa8-4a4f-bde6-ebdaa983dc13",
   "metadata": {},
   "source": [
    "## heading 2"
   ]
  },
  {
   "cell_type": "markdown",
   "id": "78b90067-3a93-43d5-a45c-686334ee4ee1",
   "metadata": {},
   "source": [
    "### heading 3\n"
   ]
  },
  {
   "cell_type": "markdown",
   "id": "b16b525b-bcba-4b11-b1c7-181706f7ba00",
   "metadata": {},
   "source": [
    "#### heading 4"
   ]
  },
  {
   "cell_type": "markdown",
   "id": "ad04338d-b47b-4957-ade0-cfb7b9d793ab",
   "metadata": {},
   "source": [
    "##### heading 5\n"
   ]
  },
  {
   "cell_type": "markdown",
   "id": "7fe1675b-0c8e-4fa5-9df2-b0d4c9b55cbf",
   "metadata": {},
   "source": [
    "###### heading 6"
   ]
  },
  {
   "cell_type": "markdown",
   "id": "c36a05e4-70af-486c-b358-edd282302bdf",
   "metadata": {},
   "source": [
    "*Python* was created by guido van rossum "
   ]
  },
  {
   "cell_type": "markdown",
   "id": "c3041e6b-ac1f-4b8b-a259-54829913065d",
   "metadata": {},
   "source": [
    "Python was created by guido van rossum"
   ]
  },
  {
   "cell_type": "markdown",
   "id": "09c5f749-db0c-4938-b502-32e9adedb614",
   "metadata": {},
   "source": [
    "**python* is created by *guido van rossum*"
   ]
  },
  {
   "cell_type": "markdown",
   "id": "c8d7fe16-5037-4f54-b36e-a07cc9b2c5be",
   "metadata": {},
   "source": [
    "***python*** is created by guido van rossum"
   ]
  },
  {
   "cell_type": "markdown",
   "id": "fddacc4d-b2d0-4fdb-ada3-66bd19c679c7",
   "metadata": {},
   "source": [
    "**python** was created by guido van rossum"
   ]
  },
  {
   "cell_type": "markdown",
   "id": "9d7ccfdb-9da0-49c7-a483-001eb7c9d667",
   "metadata": {},
   "source": [
    "**Python** was created by **guido van rossum**"
   ]
  },
  {
   "cell_type": "markdown",
   "id": "6490671b-c41a-4d4f-bf22-9a9645c01007",
   "metadata": {},
   "source": [
    "**python was created by guido van rossum**"
   ]
  },
  {
   "cell_type": "markdown",
   "id": "29db3fe2-b68c-46e1-b6ef-fdf79395239d",
   "metadata": {},
   "source": [
    "*python is created by guido van rossum*"
   ]
  },
  {
   "cell_type": "markdown",
   "id": "5d875159-1a75-4c37-ae4c-9a6a537881ef",
   "metadata": {},
   "source": [
    "***python is created by guido van rossum***"
   ]
  },
  {
   "cell_type": "markdown",
   "id": "2306a38b-ce21-44fb-b17c-4866a8a6f2d9",
   "metadata": {},
   "source": [
    "***Python was created by guido van rossum ***"
   ]
  },
  {
   "cell_type": "raw",
   "id": "33e5d6b5-59c5-43ae-9c33-318fb776ed6a",
   "metadata": {},
   "source": [
    "#python"
   ]
  },
  {
   "cell_type": "raw",
   "id": "28de180b-e42c-4d6e-8f12-95ae67a0a2e1",
   "metadata": {},
   "source": [
    "12+23"
   ]
  },
  {
   "cell_type": "code",
   "execution_count": 1,
   "id": "fcec432c-79e1-494b-b938-1e4bad32d4ad",
   "metadata": {},
   "outputs": [
    {
     "data": {
      "text/plain": [
       "35"
      ]
     },
     "execution_count": 1,
     "metadata": {},
     "output_type": "execute_result"
    }
   ],
   "source": [
    "12+23"
   ]
  },
  {
   "cell_type": "code",
   "execution_count": null,
   "id": "1bf632b0-9783-4e9c-9d44-bdcdc360ed2c",
   "metadata": {},
   "outputs": [],
   "source": [
    "\"\"\"\n",
    "multiline\n",
    "comment\n",
    "\"\"\""
   ]
  },
  {
   "cell_type": "code",
   "execution_count": 2,
   "id": "e633432e-d725-437d-a4c6-b248e1be6887",
   "metadata": {},
   "outputs": [
    {
     "data": {
      "text/plain": [
       "'python'"
      ]
     },
     "execution_count": 2,
     "metadata": {},
     "output_type": "execute_result"
    }
   ],
   "source": [
    "\"python\"\n"
   ]
  },
  {
   "cell_type": "code",
   "execution_count": 3,
   "id": "edb17c2c-4a4d-4357-a8e3-0075d8650db6",
   "metadata": {},
   "outputs": [
    {
     "data": {
      "text/plain": [
       "'python'"
      ]
     },
     "execution_count": 3,
     "metadata": {},
     "output_type": "execute_result"
    }
   ],
   "source": [
    "'python'"
   ]
  },
  {
   "cell_type": "code",
   "execution_count": 4,
   "id": "ef8794ff-f34f-46d2-a48d-faceb812b340",
   "metadata": {},
   "outputs": [
    {
     "data": {
      "text/plain": [
       "'java'"
      ]
     },
     "execution_count": 4,
     "metadata": {},
     "output_type": "execute_result"
    }
   ],
   "source": [
    "\"python\"\n",
    "\"java\""
   ]
  },
  {
   "cell_type": "code",
   "execution_count": 5,
   "id": "95d7c7f9-5dda-4f86-9178-3d6b029ba80d",
   "metadata": {},
   "outputs": [
    {
     "data": {
      "text/plain": [
       "'c++'"
      ]
     },
     "execution_count": 5,
     "metadata": {},
     "output_type": "execute_result"
    }
   ],
   "source": [
    "\"pyhon\"\n",
    "\"java\"\n",
    "\"c++\""
   ]
  },
  {
   "cell_type": "code",
   "execution_count": 6,
   "id": "ff71ca0d-be9c-44f9-84d8-40ab9fa35002",
   "metadata": {},
   "outputs": [
    {
     "data": {
      "text/plain": [
       "'ds'"
      ]
     },
     "execution_count": 6,
     "metadata": {},
     "output_type": "execute_result"
    }
   ],
   "source": [
    "\"python\"\n",
    "\"java\"\n",
    "\"c++\"\n",
    "\"ds\""
   ]
  },
  {
   "cell_type": "code",
   "execution_count": 7,
   "id": "e93a71cf-511a-45ae-8cf3-658b58dcb771",
   "metadata": {},
   "outputs": [
    {
     "data": {
      "text/plain": [
       "12"
      ]
     },
     "execution_count": 7,
     "metadata": {},
     "output_type": "execute_result"
    }
   ],
   "source": [
    "\"ds\"\n",
    "12"
   ]
  },
  {
   "cell_type": "code",
   "execution_count": 8,
   "id": "5f879e7a-d630-4520-84dd-c3943c36a62b",
   "metadata": {},
   "outputs": [
    {
     "data": {
      "text/plain": [
       "12"
      ]
     },
     "execution_count": 8,
     "metadata": {},
     "output_type": "execute_result"
    }
   ],
   "source": [
    "12"
   ]
  },
  {
   "cell_type": "code",
   "execution_count": 9,
   "id": "4a280baf-b959-4b46-a30b-180b4eef3010",
   "metadata": {},
   "outputs": [
    {
     "data": {
      "text/plain": [
       "623"
      ]
     },
     "execution_count": 9,
     "metadata": {},
     "output_type": "execute_result"
    }
   ],
   "source": [
    "\"python\"\n",
    "89*7"
   ]
  },
  {
   "cell_type": "code",
   "execution_count": 10,
   "id": "05296219-0430-41e2-8fd3-c8329e3cf29f",
   "metadata": {},
   "outputs": [
    {
     "data": {
      "text/plain": [
       "108"
      ]
     },
     "execution_count": 10,
     "metadata": {},
     "output_type": "execute_result"
    }
   ],
   "source": [
    "\"aI\"\n",
    "45/9\n",
    "12*9"
   ]
  },
  {
   "cell_type": "code",
   "execution_count": 11,
   "id": "88ac40de-4b85-407f-826f-7d4f9bd588b0",
   "metadata": {},
   "outputs": [
    {
     "name": "stdout",
     "output_type": "stream",
     "text": [
      "aI\n"
     ]
    },
    {
     "data": {
      "text/plain": [
       "108"
      ]
     },
     "execution_count": 11,
     "metadata": {},
     "output_type": "execute_result"
    }
   ],
   "source": [
    "print(\"aI\")\n",
    "45/9\n",
    "12*9"
   ]
  },
  {
   "cell_type": "code",
   "execution_count": 12,
   "id": "96176b03-420a-405c-a914-980a3eae3448",
   "metadata": {},
   "outputs": [
    {
     "name": "stdout",
     "output_type": "stream",
     "text": [
      "aI\n",
      "5.0\n"
     ]
    },
    {
     "data": {
      "text/plain": [
       "108"
      ]
     },
     "execution_count": 12,
     "metadata": {},
     "output_type": "execute_result"
    }
   ],
   "source": [
    "print(\"aI\")\n",
    "print(45/9)\n",
    "12*9"
   ]
  },
  {
   "cell_type": "code",
   "execution_count": 13,
   "id": "17b83efc-a4d7-4b0e-9d8e-6f2cb96d2f60",
   "metadata": {},
   "outputs": [
    {
     "name": "stdout",
     "output_type": "stream",
     "text": [
      "aI\n",
      "5.0\n",
      "108\n"
     ]
    }
   ],
   "source": [
    "print(\"aI\")\n",
    "print(45/9)\n",
    "print(12*9)"
   ]
  },
  {
   "cell_type": "code",
   "execution_count": 14,
   "id": "0063c849-8f63-4d22-9d5d-102e347662da",
   "metadata": {},
   "outputs": [
    {
     "name": "stdout",
     "output_type": "stream",
     "text": [
      "python\n",
      "45/9\n",
      "12*9\n"
     ]
    }
   ],
   "source": [
    "print(\"python\")\n",
    "print(\"45/9\")\n",
    "print(\"12*9\")\n",
    "      "
   ]
  },
  {
   "cell_type": "code",
   "execution_count": 15,
   "id": "3325bd72-def9-4b7f-b2b0-00f23264ded2",
   "metadata": {},
   "outputs": [
    {
     "name": "stdout",
     "output_type": "stream",
     "text": [
      "python\n",
      "45/9\n",
      "12*9\n"
     ]
    }
   ],
   "source": [
    "print('python')\n",
    "print('45/9')\n",
    "print('12*9')"
   ]
  },
  {
   "cell_type": "code",
   "execution_count": 16,
   "id": "c9d68354-38eb-46fb-ba38-1d9d169b837f",
   "metadata": {},
   "outputs": [
    {
     "data": {
      "text/plain": [
       "'12@2$$'"
      ]
     },
     "execution_count": 16,
     "metadata": {},
     "output_type": "execute_result"
    }
   ],
   "source": [
    "\"12@2$$\""
   ]
  },
  {
   "cell_type": "code",
   "execution_count": 17,
   "id": "264ada42-e9f4-43aa-afbc-f32927de6c4e",
   "metadata": {},
   "outputs": [
    {
     "ename": "SyntaxError",
     "evalue": "invalid syntax (1687341225.py, line 1)",
     "output_type": "error",
     "traceback": [
      "  \u001b[36mCell\u001b[39m\u001b[36m \u001b[39m\u001b[32mIn[17]\u001b[39m\u001b[32m, line 1\u001b[39m\n\u001b[31m    \u001b[39m\u001b[31m12@2$$\u001b[39m\n        ^\n\u001b[31mSyntaxError\u001b[39m\u001b[31m:\u001b[39m invalid syntax\n"
     ]
    }
   ],
   "source": [
    "12@2$$"
   ]
  },
  {
   "cell_type": "code",
   "execution_count": 18,
   "id": "3cf3748a-7359-44a2-9320-ffdd669dc9f5",
   "metadata": {},
   "outputs": [
    {
     "ename": "NameError",
     "evalue": "name 'himanshu' is not defined",
     "output_type": "error",
     "traceback": [
      "\u001b[31m---------------------------------------------------------------------------\u001b[39m",
      "\u001b[31mNameError\u001b[39m                                 Traceback (most recent call last)",
      "\u001b[36mCell\u001b[39m\u001b[36m \u001b[39m\u001b[32mIn[18]\u001b[39m\u001b[32m, line 1\u001b[39m\n\u001b[32m----> \u001b[39m\u001b[32m1\u001b[39m \u001b[43mhimanshu\u001b[49m\n",
      "\u001b[31mNameError\u001b[39m: name 'himanshu' is not defined"
     ]
    }
   ],
   "source": []
  },
  {
   "cell_type": "code",
   "execution_count": 19,
   "id": "69a9f054-390a-44c4-9d08-d44d2edbd9ec",
   "metadata": {},
   "outputs": [
    {
     "ename": "NameError",
     "evalue": "name 'python' is not defined",
     "output_type": "error",
     "traceback": [
      "\u001b[31m---------------------------------------------------------------------------\u001b[39m",
      "\u001b[31mNameError\u001b[39m                                 Traceback (most recent call last)",
      "\u001b[36mCell\u001b[39m\u001b[36m \u001b[39m\u001b[32mIn[19]\u001b[39m\u001b[32m, line 1\u001b[39m\n\u001b[32m----> \u001b[39m\u001b[32m1\u001b[39m \u001b[43mpython\u001b[49m\n",
      "\u001b[31mNameError\u001b[39m: name 'python' is not defined"
     ]
    }
   ],
   "source": [
    "python"
   ]
  },
  {
   "cell_type": "code",
   "execution_count": 20,
   "id": "fd76fb5c-78c5-421c-afd4-8f1b78881b66",
   "metadata": {},
   "outputs": [
    {
     "ename": "SyntaxError",
     "evalue": "invalid syntax (330750712.py, line 1)",
     "output_type": "error",
     "traceback": [
      "  \u001b[36mCell\u001b[39m\u001b[36m \u001b[39m\u001b[32mIn[20]\u001b[39m\u001b[32m, line 1\u001b[39m\n\u001b[31m    \u001b[39m\u001b[31mdata science\u001b[39m\n         ^\n\u001b[31mSyntaxError\u001b[39m\u001b[31m:\u001b[39m invalid syntax\n"
     ]
    }
   ],
   "source": [
    "data science"
   ]
  },
  {
   "cell_type": "code",
   "execution_count": 21,
   "id": "6860a50b-b396-4e84-bbf3-b9cc9a1e22da",
   "metadata": {},
   "outputs": [
    {
     "ename": "SyntaxError",
     "evalue": "invalid syntax (3321816815.py, line 1)",
     "output_type": "error",
     "traceback": [
      "  \u001b[36mCell\u001b[39m\u001b[36m \u001b[39m\u001b[32mIn[21]\u001b[39m\u001b[32m, line 1\u001b[39m\n\u001b[31m    \u001b[39m\u001b[31martificial intelligence\u001b[39m\n               ^\n\u001b[31mSyntaxError\u001b[39m\u001b[31m:\u001b[39m invalid syntax\n"
     ]
    }
   ],
   "source": [
    "artificial intelligence"
   ]
  },
  {
   "cell_type": "code",
   "execution_count": 22,
   "id": "640cf054-41e6-4318-8fd2-f9b1c01540b6",
   "metadata": {},
   "outputs": [
    {
     "name": "stdout",
     "output_type": "stream",
     "text": [
      "ds\n"
     ]
    },
    {
     "data": {
      "text/plain": [
       "'ml'"
      ]
     },
     "execution_count": 22,
     "metadata": {},
     "output_type": "execute_result"
    }
   ],
   "source": [
    "\"AI\"\n",
    "print(\"ds\")\n",
    "\"ml\""
   ]
  },
  {
   "cell_type": "code",
   "execution_count": 23,
   "id": "e64fa14e-dfbd-4b56-b92c-3682caf9638f",
   "metadata": {},
   "outputs": [
    {
     "name": "stdout",
     "output_type": "stream",
     "text": [
      "i am learning\n",
      "data science\n"
     ]
    }
   ],
   "source": [
    "print(\"i am learning\")\n",
    "print(\"data science\")"
   ]
  },
  {
   "cell_type": "code",
   "execution_count": 25,
   "id": "6bb9514b-eac1-4886-8383-f838408ee40e",
   "metadata": {},
   "outputs": [
    {
     "name": "stdout",
     "output_type": "stream",
     "text": [
      "i am learning \n",
      "data science\n"
     ]
    }
   ],
   "source": [
    "print(\"i am learning \\ndata science\")"
   ]
  },
  {
   "cell_type": "code",
   "execution_count": 30,
   "id": "1c75a9ba-6a0b-4f28-8326-92dd8064244c",
   "metadata": {},
   "outputs": [
    {
     "name": "stdout",
     "output_type": "stream",
     "text": [
      "i am learning \n",
      "data science \n",
      "c++\n"
     ]
    }
   ],
   "source": [
    "print(\"i am learning \\ndata science \\nc++\")"
   ]
  },
  {
   "cell_type": "code",
   "execution_count": 35,
   "id": "6ab7c461-7406-4a0a-86b7-1667992bec7f",
   "metadata": {},
   "outputs": [
    {
     "name": "stdout",
     "output_type": "stream",
     "text": [
      "i am learning \n",
      "  data science\n"
     ]
    }
   ],
   "source": [
    "print(\"i am learning \\n  data science\")"
   ]
  },
  {
   "cell_type": "code",
   "execution_count": 36,
   "id": "4f7c4caf-0a42-4a71-9a88-adcc92fb235e",
   "metadata": {},
   "outputs": [
    {
     "name": "stdout",
     "output_type": "stream",
     "text": [
      "i am learning \n",
      "    data science\n"
     ]
    }
   ],
   "source": [
    "print(\"i am learning \\n    data science\")"
   ]
  },
  {
   "cell_type": "code",
   "execution_count": 37,
   "id": "14e815c3-ddba-450e-af9e-89bb7ec3656e",
   "metadata": {},
   "outputs": [
    {
     "name": "stdout",
     "output_type": "stream",
     "text": [
      "abc\n",
      "78\n"
     ]
    }
   ],
   "source": [
    "print(\"abc\\n78\")"
   ]
  },
  {
   "cell_type": "code",
   "execution_count": 38,
   "id": "62ff865a-031e-46d8-9519-b3985a137556",
   "metadata": {},
   "outputs": [
    {
     "name": "stdout",
     "output_type": "stream",
     "text": [
      "abc  \n",
      "#45\n"
     ]
    }
   ],
   "source": [
    "print(\"abc  \\n#45\")"
   ]
  },
  {
   "cell_type": "code",
   "execution_count": 43,
   "id": "d352f609-882d-4b8b-8f7d-c409ad094807",
   "metadata": {},
   "outputs": [
    {
     "name": "stdout",
     "output_type": "stream",
     "text": [
      "python\n",
      "\n",
      "ds\n"
     ]
    }
   ],
   "source": [
    "print(\"python\\n\\nds\")"
   ]
  },
  {
   "cell_type": "code",
   "execution_count": 44,
   "id": "56b2f61c-1a68-4185-9e5c-bbdb8a586a4d",
   "metadata": {},
   "outputs": [
    {
     "name": "stdout",
     "output_type": "stream",
     "text": [
      "python\n",
      "\n",
      "\n",
      "ds\n"
     ]
    }
   ],
   "source": [
    "print(\"python\\n\\n\\nds\")"
   ]
  },
  {
   "cell_type": "code",
   "execution_count": 45,
   "id": "2980da96-c47e-4fec-92df-0797aec4e425",
   "metadata": {},
   "outputs": [
    {
     "name": "stdout",
     "output_type": "stream",
     "text": [
      "\n",
      "python\n",
      "\n",
      "ds\n"
     ]
    }
   ],
   "source": [
    "print(\"\\npython\\n\\nds\")"
   ]
  },
  {
   "cell_type": "code",
   "execution_count": 46,
   "id": "2303ffb0-30a1-49dc-981b-1ddd0551eda4",
   "metadata": {},
   "outputs": [
    {
     "name": "stdout",
     "output_type": "stream",
     "text": [
      "12/8 = 1.5\n"
     ]
    }
   ],
   "source": [
    "print(\"12/8 = 1.5\")"
   ]
  },
  {
   "cell_type": "code",
   "execution_count": 2,
   "id": "0b66011b-c147-437c-94b7-ae5b8babdd4b",
   "metadata": {},
   "outputs": [
    {
     "name": "stdout",
     "output_type": "stream",
     "text": [
      "12/8 = 1.5\n"
     ]
    }
   ],
   "source": [
    "print(\"12/8 =\",12/8)"
   ]
  },
  {
   "cell_type": "markdown",
   "id": "9db6a3e6-05af-4ea2-8d05-77a4ca10a9da",
   "metadata": {},
   "source": [
    "## data types"
   ]
  },
  {
   "cell_type": "code",
   "execution_count": null,
   "id": "1fcd9405-747b-4d6f-9f5e-87c877b3fd84",
   "metadata": {},
   "outputs": [],
   "source": [
    "\"hello world\" #string \n",
    "15.5  #float\n",
    "42   #int\n",
    "true #boolean\n",
    "false #boolean"
   ]
  },
  {
   "cell_type": "markdown",
   "id": "cf9d4434-f84f-4246-ac0b-517ba7a9759d",
   "metadata": {},
   "source": [
    "## escape sequences"
   ]
  },
  {
   "cell_type": "code",
   "execution_count": 4,
   "id": "d0c47f19-8737-4a7e-8e41-1f6ab6d21d95",
   "metadata": {},
   "outputs": [
    {
     "name": "stdout",
     "output_type": "stream",
     "text": [
      "python\n",
      "data science\n"
     ]
    }
   ],
   "source": [
    "print(\"python\\ndata science\")"
   ]
  },
  {
   "cell_type": "code",
   "execution_count": 5,
   "id": "7843e7b6-c45a-4e60-93bf-7b8609950915",
   "metadata": {},
   "outputs": [
    {
     "name": "stdout",
     "output_type": "stream",
     "text": [
      "data   science   c++\n"
     ]
    }
   ],
   "source": [
    "print(\"data   science   c++\")"
   ]
  },
  {
   "cell_type": "code",
   "execution_count": 6,
   "id": "e51ee62d-d3c1-4c98-8b8f-bb9ebe83e0c7",
   "metadata": {},
   "outputs": [
    {
     "name": "stdout",
     "output_type": "stream",
     "text": [
      "data\tpython\n"
     ]
    }
   ],
   "source": [
    "print(\"data\\tpython\")"
   ]
  },
  {
   "cell_type": "code",
   "execution_count": 7,
   "id": "3f1c9613-b315-4508-9b30-cee7a4ab60ba",
   "metadata": {},
   "outputs": [
    {
     "name": "stdout",
     "output_type": "stream",
     "text": [
      "os\tc\tcyber security\n"
     ]
    }
   ],
   "source": [
    "print(\"os\\tc\\tcyber security\")"
   ]
  },
  {
   "cell_type": "code",
   "execution_count": 8,
   "id": "0f017ea1-edf8-4981-a59a-d5653e6bdab2",
   "metadata": {},
   "outputs": [
    {
     "name": "stdout",
     "output_type": "stream",
     "text": [
      "os\t\t\tc\tcyber security\n"
     ]
    }
   ],
   "source": [
    "print(\"os\\t\\t\\tc\\tcyber security\")"
   ]
  },
  {
   "cell_type": "code",
   "execution_count": 9,
   "id": "f4b99ecb-933d-4540-aa4f-ae48dd14e7bd",
   "metadata": {},
   "outputs": [
    {
     "name": "stdout",
     "output_type": "stream",
     "text": [
      "os\tc\n",
      "cyber security\n"
     ]
    }
   ],
   "source": [
    "print(\"os\\tc\\ncyber security\")"
   ]
  },
  {
   "cell_type": "code",
   "execution_count": null,
   "id": "d9034645-c969-44be-a186-d2cb748fe116",
   "metadata": {},
   "outputs": [],
   "source": []
  }
 ],
 "metadata": {
  "kernelspec": {
   "display_name": "Python 3 (ipykernel)",
   "language": "python",
   "name": "python3"
  },
  "language_info": {
   "codemirror_mode": {
    "name": "ipython",
    "version": 3
   },
   "file_extension": ".py",
   "mimetype": "text/x-python",
   "name": "python",
   "nbconvert_exporter": "python",
   "pygments_lexer": "ipython3",
   "version": "3.13.5"
  }
 },
 "nbformat": 4,
 "nbformat_minor": 5
}
