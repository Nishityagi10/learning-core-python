{
 "cells": [
  {
   "cell_type": "code",
   "execution_count": 1,
   "id": "e11096fb-c4f6-48a8-8242-27e18acb9ed8",
   "metadata": {},
   "outputs": [
    {
     "name": "stdout",
     "output_type": "stream",
     "text": [
      "nishi\n"
     ]
    }
   ],
   "source": [
    "    # Create a variable named 'name' and assign your name to it.\n",
    "    # Print the value of 'name'.\n",
    "name= \"nishi\"\n",
    "print(name)"
   ]
  },
  {
   "cell_type": "code",
   "execution_count": 2,
   "id": "cc7b7b83-51ae-44de-97f1-8f1f1b6ffadb",
   "metadata": {},
   "outputs": [
    {
     "name": "stdout",
     "output_type": "stream",
     "text": [
      "28\n",
      "28.99\n"
     ]
    }
   ],
   "source": [
    "    # Create an integer variable 'num_int' and assign a whole number.\n",
    "    # Create a float variable 'num_float' and assign a decimal number.\n",
    "    # Print both variables.\n",
    "num_int= 28\n",
    "num_float= 28.99\n",
    "print(num_int)\n",
    "print(num_float)"
   ]
  },
  {
   "cell_type": "code",
   "execution_count": 5,
   "id": "2f6c2037-a822-43d6-a63e-e4b8d46fa481",
   "metadata": {},
   "outputs": [
    {
     "name": "stdout",
     "output_type": "stream",
     "text": [
      "nishi tyagi\n"
     ]
    }
   ],
   "source": [
    "    # Create two string variables, 'first_name' and 'last_name'.\n",
    "    # Concatenate them to form a 'full_name' variable.\n",
    "    # Print 'full_name'.\n",
    "first_name=\"nishi\"\n",
    "last_name=\"tyagi\"\n",
    "full_name= first_name+ \" \"+last_name\n",
    "print(full_name)"
   ]
  },
  {
   "cell_type": "code",
   "execution_count": 6,
   "id": "5c47d8f1-539f-429c-b8dd-a8cd6536f123",
   "metadata": {},
   "outputs": [
    {
     "name": "stdout",
     "output_type": "stream",
     "text": [
      "10\n"
     ]
    }
   ],
   "source": [
    "    # Create a variable 'x' and assign it the value 10.\n",
    "    # Reassign 'x' to the value 20.\n",
    "    # Print 'x' after reassignment.\n",
    "x= 10\n",
    "print(10)"
   ]
  },
  {
   "cell_type": "code",
   "execution_count": 7,
   "id": "14bdb879-d47a-4e48-88d4-cbd74d99be16",
   "metadata": {},
   "outputs": [
    {
     "name": "stdout",
     "output_type": "stream",
     "text": [
      "20\n"
     ]
    }
   ],
   "source": [
    "x=20\n",
    "print(20)"
   ]
  },
  {
   "cell_type": "code",
   "execution_count": 8,
   "id": "326e35de-d746-4153-9986-a2073fd3443d",
   "metadata": {},
   "outputs": [
    {
     "name": "stdout",
     "output_type": "stream",
     "text": [
      "20\n"
     ]
    }
   ],
   "source": [
    "print(x)"
   ]
  },
  {
   "cell_type": "code",
   "execution_count": 12,
   "id": "7325dd02-8a92-4632-861c-56fc6bedc6f5",
   "metadata": {},
   "outputs": [
    {
     "name": "stdout",
     "output_type": "stream",
     "text": [
      "sum will be- 25\n",
      "differnce will be- 15\n",
      "product will be- 100\n",
      "quotient will be- 4.0\n"
     ]
    }
   ],
   "source": [
    "    # Create variables 'a' and 'b' with integer values.\n",
    "    # Calculate their sum, difference, product, and quotient.\n",
    "    # Store each result in a new variable and print them.\n",
    "a=20\n",
    "b=5\n",
    "c=a+b\n",
    "d=a-b\n",
    "e=a*b\n",
    "f=a/b\n",
    "print(\"sum will be-\",c)\n",
    "print(\"differnce will be-\",d)\n",
    "print(\"product will be-\",e)\n",
    "print(\"quotient will be-\",f)"
   ]
  },
  {
   "cell_type": "code",
   "execution_count": 16,
   "id": "4de8f968-b92b-4fde-ab2f-2dfeb198138a",
   "metadata": {},
   "outputs": [
    {
     "name": "stdout",
     "output_type": "stream",
     "text": [
      "4.0\n"
     ]
    }
   ],
   "source": [
    "c= 47\n",
    "F = (c * 9/5) + 32\n",
    "print(f)"
   ]
  },
  {
   "cell_type": "code",
   "execution_count": 17,
   "id": "2bad94da-8a77-4c06-b22a-b2d3d4176b28",
   "metadata": {},
   "outputs": [
    {
     "name": "stdout",
     "output_type": "stream",
     "text": [
      "40.0\n"
     ]
    }
   ],
   "source": [
    "f= 104\n",
    "c = (f - 32) / 1.8\n",
    "print(c)"
   ]
  },
  {
   "cell_type": "code",
   "execution_count": 18,
   "id": "1f8b3aa4-db30-4ab9-9726-60e3a519d5e0",
   "metadata": {},
   "outputs": [
    {
     "name": "stdout",
     "output_type": "stream",
     "text": [
      "ell\n"
     ]
    }
   ],
   "source": [
    "x=\"hello\"\n",
    "print(x[1:4])"
   ]
  },
  {
   "cell_type": "code",
   "execution_count": 22,
   "id": "cf1aa29f-9b75-4b8a-9d68-4661b2e7b48d",
   "metadata": {},
   "outputs": [
    {
     "name": "stdout",
     "output_type": "stream",
     "text": [
      "Hello World\n",
      "Hello World\n",
      "Hello World\n"
     ]
    }
   ],
   "source": [
    "x= y= z = 'Hello World'\n",
    "print(x)\n",
    "print(y)\n",
    "print(z)"
   ]
  },
  {
   "cell_type": "code",
   "execution_count": 23,
   "id": "10697cff-84c2-41df-b56e-c5b51d6e6700",
   "metadata": {},
   "outputs": [
    {
     "name": "stdout",
     "output_type": "stream",
     "text": [
      "apple\n"
     ]
    }
   ],
   "source": [
    "fruits = ['apple', 'banana', 'cherry']\n",
    "a, b, c = fruits\n",
    "print(a)"
   ]
  },
  {
   "cell_type": "code",
   "execution_count": 24,
   "id": "675fcbdf-1783-451b-bfaa-8f0eebedb8f1",
   "metadata": {},
   "outputs": [
    {
     "name": "stdout",
     "output_type": "stream",
     "text": [
      "Python is awesome\n"
     ]
    }
   ],
   "source": [
    "x = 'awesome'\n",
    "def myfunc():\n",
    "  x = 'fantastic'\n",
    "myfunc()\n",
    "print('Python is ' + x)"
   ]
  },
  {
   "cell_type": "code",
   "execution_count": null,
   "id": "ce39315a-eb6a-4f62-a364-b21ed3fe1c46",
   "metadata": {},
   "outputs": [],
   "source": []
  }
 ],
 "metadata": {
  "kernelspec": {
   "display_name": "Python 3 (ipykernel)",
   "language": "python",
   "name": "python3"
  },
  "language_info": {
   "codemirror_mode": {
    "name": "ipython",
    "version": 3
   },
   "file_extension": ".py",
   "mimetype": "text/x-python",
   "name": "python",
   "nbconvert_exporter": "python",
   "pygments_lexer": "ipython3",
   "version": "3.13.5"
  }
 },
 "nbformat": 4,
 "nbformat_minor": 5
}
