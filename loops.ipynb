{
 "cells": [
  {
   "cell_type": "code",
   "execution_count": 1,
   "id": "fef95dd0-4186-4afa-8981-28d66b3427cf",
   "metadata": {},
   "outputs": [
    {
     "name": "stdout",
     "output_type": "stream",
     "text": [
      "python is easy\n",
      "python is easy\n",
      "python is easy\n",
      "python is easy\n",
      "python is easy\n"
     ]
    }
   ],
   "source": [
    "\n",
    "print(\"python is easy\")\n",
    "print(\"python is easy\")\n",
    "print(\"python is easy\")\n",
    "print(\"python is easy\")\n",
    "print(\"python is easy\")\n"
   ]
  },
  {
   "cell_type": "code",
   "execution_count": 7,
   "id": "3d03f2a4-e94e-4ba2-8c57-dc3d6dcf902c",
   "metadata": {},
   "outputs": [
    {
     "name": "stdout",
     "output_type": "stream",
     "text": [
      "hello world\n",
      "hello world\n",
      "hello world\n",
      "hello world\n",
      "hello world\n",
      "hello world\n",
      "hello world\n",
      "hello world\n",
      "hello world\n",
      "hello world\n"
     ]
    }
   ],
   "source": [
    "print(\"hello world\")\n",
    "print(\"hello world\")\n",
    "print(\"hello world\")\n",
    "print(\"hello world\")\n",
    "print(\"hello world\")\n",
    "print(\"hello world\")\n",
    "print(\"hello world\")\n",
    "print(\"hello world\")\n",
    "print(\"hello world\")\n",
    "print(\"hello world\")"
   ]
  },
  {
   "cell_type": "code",
   "execution_count": 14,
   "id": "09748bb0-531d-4d60-a0db-cc20cc2b2f38",
   "metadata": {},
   "outputs": [
    {
     "name": "stdout",
     "output_type": "stream",
     "text": [
      "mamta\n",
      "tushar\n",
      "nishi\n",
      "priyanshu\n",
      "abdullah\n",
      "aayush\n",
      "suhail\n",
      "aarti\n"
     ]
    }
   ],
   "source": [
    "#print all the elements of a list one by one using indexing\n",
    "names=[\"mamta\",\"mayank\",\"tushar\",\"nishi\",\"priyanshu\",\"abdullah\",\"aayush\",\"suhail\",\"aarti\"]\n",
    "print(names[0])\n",
    "print(names[2])\n",
    "print(names[3])\n",
    "print(names[4])\n",
    "print(names[5])\n",
    "print(names[6])\n",
    "print(names[7])\n",
    "print(names[8])\n",
    "\n",
    "\n"
   ]
  },
  {
   "cell_type": "code",
   "execution_count": 3,
   "id": "e8d1e065-85d3-416a-b2e8-664a55c864a1",
   "metadata": {},
   "outputs": [
    {
     "name": "stdout",
     "output_type": "stream",
     "text": [
      "python is easy\n",
      "python is easy\n",
      "python is easy\n",
      "python is easy\n",
      "python is easy\n"
     ]
    }
   ],
   "source": [
    "for i in range(5):\n",
    "    print(\"python is easy\")"
   ]
  },
  {
   "cell_type": "code",
   "execution_count": 16,
   "id": "15f273f8-411b-4f81-8b7f-519dc955535e",
   "metadata": {},
   "outputs": [
    {
     "name": "stdout",
     "output_type": "stream",
     "text": [
      "hello world\n",
      "hello world\n",
      "hello world\n",
      "hello world\n",
      "hello world\n",
      "hello world\n",
      "hello world\n",
      "hello world\n",
      "hello world\n",
      "hello world\n",
      "hello world\n",
      "hello world\n",
      "hello world\n",
      "hello world\n",
      "hello world\n",
      "hello world\n",
      "hello world\n",
      "hello world\n",
      "hello world\n",
      "hello world\n"
     ]
    }
   ],
   "source": [
    "for i in range(20):\n",
    "    print(\"hello world\")"
   ]
  },
  {
   "cell_type": "code",
   "execution_count": 17,
   "id": "8f5e9c49-4426-4e0e-b750-3c2c51c29cff",
   "metadata": {},
   "outputs": [
    {
     "name": "stdout",
     "output_type": "stream",
     "text": [
      "mamta\n",
      "mayank\n",
      "tushar\n",
      "nishi\n",
      "priyanshu\n",
      "abdullah\n",
      "aayush\n",
      "suhail\n",
      "aarti\n"
     ]
    }
   ],
   "source": [
    "# using for loops\n",
    "names=[\"mamta\",\"mayank\",\"tushar\",\"nishi\",\"priyanshu\",\"abdullah\",\"aayush\",\"suhail\",\"aarti\"]\n",
    "\n",
    "for x in names:\n",
    "    print(x)"
   ]
  },
  {
   "cell_type": "code",
   "execution_count": 35,
   "id": "ca1f90a6-7b64-4ee6-ae20-57e396f9fc1b",
   "metadata": {},
   "outputs": [
    {
     "name": "stdout",
     "output_type": "stream",
     "text": [
      "suhail\n"
     ]
    }
   ],
   "source": [
    "c=7\n",
    "print(names[c])"
   ]
  },
  {
   "cell_type": "code",
   "execution_count": 31,
   "id": "f51092e7-07db-4218-a270-3db33a8bc574",
   "metadata": {},
   "outputs": [
    {
     "name": "stdout",
     "output_type": "stream",
     "text": [
      "mamta\n",
      "mayank\n",
      "tushar\n",
      "nishi\n",
      "priyanshu\n",
      "abdullah\n",
      "aayush\n",
      "suhail\n",
      "aarti\n"
     ]
    }
   ],
   "source": [
    "for x in range(9):\n",
    "    print(names[x])\n",
    "   "
   ]
  },
  {
   "cell_type": "code",
   "execution_count": 21,
   "id": "692a4e17-e0e0-4b20-83fd-9afdea7f5988",
   "metadata": {},
   "outputs": [
    {
     "name": "stdout",
     "output_type": "stream",
     "text": [
      "mamta\n",
      "mayank\n",
      "tushar\n"
     ]
    }
   ],
   "source": [
    "for x in range(3):\n",
    "    print(names[x])"
   ]
  },
  {
   "cell_type": "code",
   "execution_count": 23,
   "id": "87d719f8-2e32-4141-b0d4-0901e5e4c4f7",
   "metadata": {},
   "outputs": [
    {
     "name": "stdout",
     "output_type": "stream",
     "text": [
      "range(0, 9)\n"
     ]
    }
   ],
   "source": [
    "print(range(9))"
   ]
  },
  {
   "cell_type": "code",
   "execution_count": 26,
   "id": "d41ae53d-2edc-43af-8734-0fa6c3079643",
   "metadata": {},
   "outputs": [
    {
     "name": "stdout",
     "output_type": "stream",
     "text": [
      "[0, 1, 2, 3, 4, 5, 6, 7, 8]\n"
     ]
    }
   ],
   "source": [
    "x=list(range(9))\n",
    "print(x)"
   ]
  },
  {
   "cell_type": "code",
   "execution_count": 29,
   "id": "b2a5aa3f-e615-4dde-b013-207368ceb955",
   "metadata": {},
   "outputs": [
    {
     "name": "stdout",
     "output_type": "stream",
     "text": [
      "range(10, 20, 2)\n",
      "[10, 12, 14, 16, 18]\n"
     ]
    }
   ],
   "source": [
    "y= range(10,20,2)\n",
    "print(y)\n",
    "print(list(y))"
   ]
  },
  {
   "cell_type": "code",
   "execution_count": 32,
   "id": "83f714b9-6da4-4290-a4db-932301e7da3c",
   "metadata": {},
   "outputs": [
    {
     "name": "stdout",
     "output_type": "stream",
     "text": [
      "mamta\n",
      "mayank\n",
      "tushar\n",
      "nishi\n",
      "priyanshu\n",
      "abdullah\n",
      "aayush\n",
      "suhail\n",
      "aarti\n"
     ]
    }
   ],
   "source": [
    "a= range(9)\n",
    "for x in a:\n",
    "    print(names[x])"
   ]
  },
  {
   "cell_type": "code",
   "execution_count": null,
   "id": "11bd2a77-2942-477c-884a-a6c12def309c",
   "metadata": {},
   "outputs": [],
   "source": []
  },
  {
   "cell_type": "code",
   "execution_count": 33,
   "id": "5dc1003b-75d3-49d8-86dc-803dcdc7dbfb",
   "metadata": {},
   "outputs": [
    {
     "name": "stdout",
     "output_type": "stream",
     "text": [
      "0\n",
      "1\n",
      "2\n",
      "3\n",
      "4\n",
      "5\n",
      "6\n",
      "7\n",
      "8\n"
     ]
    }
   ],
   "source": [
    "for x in range(9):\n",
    "    print(x)\n",
    "    "
   ]
  },
  {
   "cell_type": "code",
   "execution_count": 2,
   "id": "1984db14-d9c2-483a-be6f-f700c3b6d9d0",
   "metadata": {},
   "outputs": [
    {
     "ename": "NameError",
     "evalue": "name 'x' is not defined",
     "output_type": "error",
     "traceback": [
      "\u001b[31m---------------------------------------------------------------------------\u001b[39m",
      "\u001b[31mNameError\u001b[39m                                 Traceback (most recent call last)",
      "\u001b[36mCell\u001b[39m\u001b[36m \u001b[39m\u001b[32mIn[2]\u001b[39m\u001b[32m, line 1\u001b[39m\n\u001b[32m----> \u001b[39m\u001b[32m1\u001b[39m \u001b[38;5;28mprint\u001b[39m(\u001b[38;5;28mtype\u001b[39m(\u001b[43mx\u001b[49m))\n\u001b[32m      2\u001b[39m \u001b[38;5;28mprint\u001b[39m(x)\n",
      "\u001b[31mNameError\u001b[39m: name 'x' is not defined"
     ]
    }
   ],
   "source": [
    "print(type(x))\n",
    "print(x)"
   ]
  },
  {
   "cell_type": "code",
   "execution_count": 7,
   "id": "b33161fa-7c46-4fc1-8eaf-fa0a26dce564",
   "metadata": {},
   "outputs": [
    {
     "name": "stdout",
     "output_type": "stream",
     "text": [
      "<class 'str'>\n",
      "hi\n",
      "<class 'int'>\n",
      "2\n",
      "<class 'int'>\n",
      "3\n",
      "<class 'int'>\n",
      "4\n"
     ]
    }
   ],
   "source": [
    "list=['hi',2,3,4]\n",
    "for i in list:\n",
    "    print(type(i))\n",
    "    print(i)\n",
    "    "
   ]
  },
  {
   "cell_type": "code",
   "execution_count": 9,
   "id": "bc940b29-e369-4589-9e28-7abd2b34076b",
   "metadata": {},
   "outputs": [
    {
     "name": "stdout",
     "output_type": "stream",
     "text": [
      "arya\n",
      "harsh\n",
      "sneha\n",
      "sakshi\n",
      "anshi\n"
     ]
    }
   ],
   "source": [
    "list=[\"arya\",\"harsh\",\"sneha\",\"sakshi\",\"anshi\"]\n",
    "for x in list:\n",
    "    print(x)"
   ]
  },
  {
   "cell_type": "code",
   "execution_count": 10,
   "id": "750c1168-42d3-4a63-bef3-d74d80729202",
   "metadata": {},
   "outputs": [
    {
     "name": "stdout",
     "output_type": "stream",
     "text": [
      "55\n"
     ]
    }
   ],
   "source": [
    "total=0\n",
    "for i in range(1,11):\n",
    "    total=total+i\n",
    "print(total)\n"
   ]
  },
  {
   "cell_type": "code",
   "execution_count": 15,
   "id": "3307759a-adf7-4a3c-bf2a-22a26fb222b2",
   "metadata": {},
   "outputs": [
    {
     "name": "stdout",
     "output_type": "stream",
     "text": [
      "2\n",
      "4\n",
      "6\n",
      "8\n",
      "10\n",
      "12\n",
      "14\n",
      "16\n",
      "18\n",
      "20\n"
     ]
    }
   ],
   "source": [
    "for i in range(2,21,2):\n",
    "    print(i)\n"
   ]
  },
  {
   "cell_type": "code",
   "execution_count": 23,
   "id": "35da40b1-a5af-4889-86f5-ba59516011d1",
   "metadata": {},
   "outputs": [
    {
     "name": "stdout",
     "output_type": "stream",
     "text": [
      "5\n",
      "6\n",
      "6\n",
      "5\n",
      "6\n"
     ]
    }
   ],
   "source": [
    "fruits=[\"mango\",\"banana\",\"litchi\",\"apple\",\"papaya\"]\n",
    "for i in fruits:\n",
    "    print(len(i))"
   ]
  },
  {
   "cell_type": "markdown",
   "id": "07cefc4f-5ecc-4f7e-bba8-eb04869a6c54",
   "metadata": {},
   "source": [
    "#### iterable datatype- set, dict, range, list,string,tuple"
   ]
  },
  {
   "cell_type": "markdown",
   "id": "680279e4-81c9-4bc6-bcdf-c66f0438115b",
   "metadata": {},
   "source": [
    "iteration means repetition\n",
    "iterable will hold multiple values"
   ]
  },
  {
   "cell_type": "code",
   "execution_count": 1,
   "id": "a387a39a-b3d3-4240-b254-21eed0f853b6",
   "metadata": {},
   "outputs": [
    {
     "name": "stdout",
     "output_type": "stream",
     "text": [
      "python is easy\n",
      "12\n",
      "python is easy\n",
      "38\n",
      "python is easy\n",
      "45\n",
      "python is easy\n",
      "69\n"
     ]
    }
   ],
   "source": [
    "\n",
    "for a in [12,38,45,69]: #is code m frk pdega ki humne kya elements liye h or kitne elements liye hai\n",
    "    print(\"python is easy\")\n",
    "    print(a)"
   ]
  },
  {
   "cell_type": "code",
   "execution_count": 2,
   "id": "895b1ce5-a3fe-468c-a404-668a3895ae4f",
   "metadata": {},
   "outputs": [],
   "source": [
    "a=12"
   ]
  },
  {
   "cell_type": "code",
   "execution_count": 3,
   "id": "96066c40-981c-47cf-935b-93e84018696b",
   "metadata": {},
   "outputs": [
    {
     "name": "stdout",
     "output_type": "stream",
     "text": [
      "python is easy\n",
      "python is easy\n",
      "python is easy\n",
      "python is easy\n"
     ]
    }
   ],
   "source": [
    "for a in [12,38,45,69]:  #is code me humhe frk ni pdta elements kya hai bs isse frk pdta h kitne elements liyes h.\n",
    "                       #                     values se frk ni pdta no.of values se frk pdta hai\n",
    "    print(\"python is easy\")"
   ]
  },
  {
   "cell_type": "markdown",
   "id": "17423bc8-ef2c-4dd1-bbe0-b2d8905d7e6a",
   "metadata": {},
   "source": [
    "#### the length of a iterable decides the number of times for loop will run"
   ]
  },
  {
   "cell_type": "code",
   "execution_count": 1,
   "id": "4d639692-5dca-41a6-8861-60cbe19afc52",
   "metadata": {},
   "outputs": [
    {
     "name": "stdout",
     "output_type": "stream",
     "text": [
      "12\n",
      "<class 'int'>\n",
      "python is easy\n",
      "38\n",
      "<class 'int'>\n",
      "python is easy\n",
      "45\n",
      "<class 'int'>\n",
      "python is easy\n",
      "69\n",
      "<class 'int'>\n",
      "python is easy\n"
     ]
    }
   ],
   "source": [
    "for a in [12,38,45,69]:\n",
    "    print(a)\n",
    "    print(type(a))              # checking what is the type of variable a\n",
    "    print(\"python is easy\")"
   ]
  },
  {
   "cell_type": "code",
   "execution_count": 5,
   "id": "e93418ab-494b-409d-a265-e412c92b09e5",
   "metadata": {},
   "outputs": [
    {
     "name": "stdout",
     "output_type": "stream",
     "text": [
      " \n",
      "p\n",
      "y\n",
      "t\n",
      "h\n",
      "o\n",
      "n\n"
     ]
    }
   ],
   "source": [
    "# print each letter in a word\n",
    "word=\" python\"\n",
    "for letter in word:\n",
    "    print(letter)"
   ]
  },
  {
   "cell_type": "code",
   "execution_count": 5,
   "id": "4759b4ff-7bac-42c6-af33-7bf6f6366de4",
   "metadata": {},
   "outputs": [
    {
     "name": "stdout",
     "output_type": "stream",
     "text": [
      "10\n",
      "4\n"
     ]
    }
   ],
   "source": [
    "\n",
    "y=0\n",
    "for x in range(5):\n",
    "    y=y+x\n",
    "    \n",
    "print(y)\n",
    "print(x)"
   ]
  },
  {
   "cell_type": "code",
   "execution_count": 1,
   "id": "d1e6ecbb-e74a-44a7-a7ba-4ad45cf30624",
   "metadata": {},
   "outputs": [
    {
     "name": "stdout",
     "output_type": "stream",
     "text": [
      "1\n",
      "2\n",
      "3\n",
      "4\n",
      "5\n",
      "6\n"
     ]
    }
   ],
   "source": [
    "count=0\n",
    "device=\"laptop\"\n",
    "for x in device:\n",
    "    count=count+1\n",
    "    print(count)\n"
   ]
  },
  {
   "cell_type": "code",
   "execution_count": 12,
   "id": "988a2fd5-58bc-4024-9331-31c3008c9d1b",
   "metadata": {},
   "outputs": [
    {
     "name": "stdout",
     "output_type": "stream",
     "text": [
      "5\n",
      "6\n"
     ]
    }
   ],
   "source": [
    "list=[\"mango\",\"banana\"]\n",
    "for i in fruits:\n",
    "    print(len(i))"
   ]
  },
  {
   "cell_type": "markdown",
   "id": "7cd2514f-cd6e-4cd3-8c1a-0ceaef733c1c",
   "metadata": {},
   "source": [
    "#### while loop\n",
    "while=jabtk\n",
    "while condition:\n",
    "   //block of code\n",
    "       \n",
    "       jab tk ye condition true hoga ye block of code chlta rhega        "
   ]
  },
  {
   "cell_type": "code",
   "execution_count": 1,
   "id": "b73f118c-bdff-4f85-b96c-7d907c3d22da",
   "metadata": {},
   "outputs": [
    {
     "name": "stdout",
     "output_type": "stream",
     "text": [
      "1\n",
      "3\n",
      "5\n",
      "7\n",
      "9\n"
     ]
    }
   ],
   "source": [
    "x=1\n",
    "while x<=10:\n",
    "    print(x)\n",
    "    x=x+2"
   ]
  },
  {
   "cell_type": "code",
   "execution_count": 5,
   "id": "96a317de-1864-4f1e-b751-b06884a61828",
   "metadata": {},
   "outputs": [
    {
     "name": "stdout",
     "output_type": "stream",
     "text": [
      "steve jobs = piccaso + edison\n",
      "steve jobs = piccaso + edison\n",
      "steve jobs = piccaso + edison\n",
      "steve jobs = piccaso + edison\n",
      "steve jobs = piccaso + edison\n",
      "steve jobs = piccaso + edison\n",
      "steve jobs = piccaso + edison\n",
      "steve jobs = piccaso + edison\n",
      "steve jobs = piccaso + edison\n",
      "steve jobs = piccaso + edison\n"
     ]
    }
   ],
   "source": [
    "x= \"steve jobs\"\n",
    "while len(x)<20:\n",
    "    print(\"steve jobs = piccaso + edison\")\n",
    "    x= x + \" \""
   ]
  },
  {
   "cell_type": "code",
   "execution_count": 1,
   "id": "8257e8bf-d5e5-47c8-8343-f8e559e83231",
   "metadata": {},
   "outputs": [
    {
     "name": "stdout",
     "output_type": "stream",
     "text": [
      "15\n"
     ]
    }
   ],
   "source": [
    "x=15\n",
    "while x>=10:\n",
    "    print(x)\n",
    "    x=8\n"
   ]
  },
  {
   "cell_type": "code",
   "execution_count": 54,
   "id": "a2057104-f5ce-4fc3-a40a-65dea04304c1",
   "metadata": {},
   "outputs": [
    {
     "name": "stdout",
     "output_type": "stream",
     "text": [
      "mamta\n",
      "mayank\n",
      "tushar\n",
      "nishi\n",
      "priyanshu\n",
      "abdullah\n",
      "aayush\n",
      "suhail\n",
      "aarti\n"
     ]
    }
   ],
   "source": [
    "names=[\"mamta\",\"mayank\",\"tushar\",\"nishi\",\"priyanshu\",\"abdullah\",\"aayush\",\"suhail\",\"aarti\"]\n",
    "i=0\n",
    "while i<len(names):\n",
    "    print(names[i])\n",
    "    i=i+1\n"
   ]
  },
  {
   "cell_type": "code",
   "execution_count": 4,
   "id": "24ac131d-fa6c-41a0-9711-dcfc7e9673d1",
   "metadata": {},
   "outputs": [
    {
     "name": "stdout",
     "output_type": "stream",
     "text": [
      "mamta\n",
      "mayank\n",
      "tushar\n",
      "nishi\n",
      "priyanshu\n",
      "abdullah\n",
      "aayush\n",
      "suhail\n",
      "aarti\n"
     ]
    }
   ],
   "source": [
    "names=[\"mamta\",\"mayank\",\"tushar\",\"nishi\",\"priyanshu\",\"abdullah\",\"aayush\",\"suhail\",\"aarti\"]\n",
    "\n",
    "for x in names:\n",
    "    print(x)"
   ]
  },
  {
   "cell_type": "code",
   "execution_count": 6,
   "id": "edd8ce4f-8dcb-49fc-94f6-df309ccdec58",
   "metadata": {},
   "outputs": [
    {
     "name": "stdin",
     "output_type": "stream",
     "text": [
      "enter no.1 12\n",
      "enter no.2 2\n",
      "enter operator as per your choice +\n"
     ]
    },
    {
     "name": "stdout",
     "output_type": "stream",
     "text": [
      "14.0\n"
     ]
    },
    {
     "ename": "KeyboardInterrupt",
     "evalue": "Interrupted by user",
     "output_type": "error",
     "traceback": [
      "\u001b[31m---------------------------------------------------------------------------\u001b[39m",
      "\u001b[31mKeyboardInterrupt\u001b[39m                         Traceback (most recent call last)",
      "\u001b[36mCell\u001b[39m\u001b[36m \u001b[39m\u001b[32mIn[6]\u001b[39m\u001b[32m, line 2\u001b[39m\n\u001b[32m      1\u001b[39m \u001b[38;5;28;01mwhile\u001b[39;00m \u001b[38;5;28;01mTrue\u001b[39;00m:\n\u001b[32m----> \u001b[39m\u001b[32m2\u001b[39m     num1=\u001b[38;5;28mfloat\u001b[39m(\u001b[38;5;28;43minput\u001b[39;49m\u001b[43m(\u001b[49m\u001b[33;43m\"\u001b[39;49m\u001b[33;43menter no.1\u001b[39;49m\u001b[33;43m\"\u001b[39;49m\u001b[43m)\u001b[49m)\n\u001b[32m      3\u001b[39m     num2=\u001b[38;5;28mfloat\u001b[39m(\u001b[38;5;28minput\u001b[39m(\u001b[33m\"\u001b[39m\u001b[33menter no.2\u001b[39m\u001b[33m\"\u001b[39m))\n\u001b[32m      4\u001b[39m     operator=\u001b[38;5;28minput\u001b[39m(\u001b[33m\"\u001b[39m\u001b[33menter operator as per your choice\u001b[39m\u001b[33m\"\u001b[39m)\n",
      "\u001b[36mFile \u001b[39m\u001b[32m~\\AppData\\Roaming\\Python\\Python313\\site-packages\\ipykernel\\kernelbase.py:1282\u001b[39m, in \u001b[36mKernel.raw_input\u001b[39m\u001b[34m(self, prompt)\u001b[39m\n\u001b[32m   1280\u001b[39m     msg = \u001b[33m\"\u001b[39m\u001b[33mraw_input was called, but this frontend does not support input requests.\u001b[39m\u001b[33m\"\u001b[39m\n\u001b[32m   1281\u001b[39m     \u001b[38;5;28;01mraise\u001b[39;00m StdinNotImplementedError(msg)\n\u001b[32m-> \u001b[39m\u001b[32m1282\u001b[39m \u001b[38;5;28;01mreturn\u001b[39;00m \u001b[38;5;28;43mself\u001b[39;49m\u001b[43m.\u001b[49m\u001b[43m_input_request\u001b[49m\u001b[43m(\u001b[49m\n\u001b[32m   1283\u001b[39m \u001b[43m    \u001b[49m\u001b[38;5;28;43mstr\u001b[39;49m\u001b[43m(\u001b[49m\u001b[43mprompt\u001b[49m\u001b[43m)\u001b[49m\u001b[43m,\u001b[49m\n\u001b[32m   1284\u001b[39m \u001b[43m    \u001b[49m\u001b[38;5;28;43mself\u001b[39;49m\u001b[43m.\u001b[49m\u001b[43m_parent_ident\u001b[49m\u001b[43m[\u001b[49m\u001b[33;43m\"\u001b[39;49m\u001b[33;43mshell\u001b[39;49m\u001b[33;43m\"\u001b[39;49m\u001b[43m]\u001b[49m\u001b[43m,\u001b[49m\n\u001b[32m   1285\u001b[39m \u001b[43m    \u001b[49m\u001b[38;5;28;43mself\u001b[39;49m\u001b[43m.\u001b[49m\u001b[43mget_parent\u001b[49m\u001b[43m(\u001b[49m\u001b[33;43m\"\u001b[39;49m\u001b[33;43mshell\u001b[39;49m\u001b[33;43m\"\u001b[39;49m\u001b[43m)\u001b[49m\u001b[43m,\u001b[49m\n\u001b[32m   1286\u001b[39m \u001b[43m    \u001b[49m\u001b[43mpassword\u001b[49m\u001b[43m=\u001b[49m\u001b[38;5;28;43;01mFalse\u001b[39;49;00m\u001b[43m,\u001b[49m\n\u001b[32m   1287\u001b[39m \u001b[43m\u001b[49m\u001b[43m)\u001b[49m\n",
      "\u001b[36mFile \u001b[39m\u001b[32m~\\AppData\\Roaming\\Python\\Python313\\site-packages\\ipykernel\\kernelbase.py:1325\u001b[39m, in \u001b[36mKernel._input_request\u001b[39m\u001b[34m(self, prompt, ident, parent, password)\u001b[39m\n\u001b[32m   1322\u001b[39m \u001b[38;5;28;01mexcept\u001b[39;00m \u001b[38;5;167;01mKeyboardInterrupt\u001b[39;00m:\n\u001b[32m   1323\u001b[39m     \u001b[38;5;66;03m# re-raise KeyboardInterrupt, to truncate traceback\u001b[39;00m\n\u001b[32m   1324\u001b[39m     msg = \u001b[33m\"\u001b[39m\u001b[33mInterrupted by user\u001b[39m\u001b[33m\"\u001b[39m\n\u001b[32m-> \u001b[39m\u001b[32m1325\u001b[39m     \u001b[38;5;28;01mraise\u001b[39;00m \u001b[38;5;167;01mKeyboardInterrupt\u001b[39;00m(msg) \u001b[38;5;28;01mfrom\u001b[39;00m\u001b[38;5;250m \u001b[39m\u001b[38;5;28;01mNone\u001b[39;00m\n\u001b[32m   1326\u001b[39m \u001b[38;5;28;01mexcept\u001b[39;00m \u001b[38;5;167;01mException\u001b[39;00m:\n\u001b[32m   1327\u001b[39m     \u001b[38;5;28mself\u001b[39m.log.warning(\u001b[33m\"\u001b[39m\u001b[33mInvalid Message:\u001b[39m\u001b[33m\"\u001b[39m, exc_info=\u001b[38;5;28;01mTrue\u001b[39;00m)\n",
      "\u001b[31mKeyboardInterrupt\u001b[39m: Interrupted by user"
     ]
    }
   ],
   "source": [
    "while True:\n",
    "    num1=float(input(\"enter no.1\"))\n",
    "    num2=float(input(\"enter no.2\"))\n",
    "    operator=input(\"enter operator as per your choice\")\n",
    "\n",
    "    if operator=='+':\n",
    "        result=num1+num2\n",
    "        print(result)\n",
    "\n",
    "    elif operator=='-':\n",
    "      result=num1-num2\n",
    "      print(result)\n",
    "\n",
    "    elif operator=='/':\n",
    "        result=num1/num2\n",
    "        print(result)\n",
    "\n",
    "    elif operator=='*':\n",
    "           result=num1*num2\n",
    "           print(result)\n",
    "\n",
    "    elif operator=='%':\n",
    "          result=num1%num2\n",
    "          print(result)\n",
    "\n",
    "    else:\n",
    "          print(\"invalid operator\")\n",
    "\n",
    "    continue\n",
    "    con_again=input(\"do you want to continue(yes/no)\")\n",
    "\n",
    "    #print(\"result\",result)\n",
    "\n",
    "    if con_again!=yes:\n",
    "      break\n",
    "\n",
    "\n",
    "\n",
    "\n",
    "\n",
    "\n"
   ]
  },
  {
   "cell_type": "code",
   "execution_count": 9,
   "id": "7b9fc6d3-c868-43df-8fbb-8df264f6b90b",
   "metadata": {},
   "outputs": [
    {
     "ename": "_IncompleteInputError",
     "evalue": "incomplete input (1835945264.py, line 40)",
     "output_type": "error",
     "traceback": [
      "  \u001b[36mCell\u001b[39m\u001b[36m \u001b[39m\u001b[32mIn[9]\u001b[39m\u001b[32m, line 40\u001b[39m\n\u001b[31m    \u001b[39m\n    ^\n\u001b[31m_IncompleteInputError\u001b[39m\u001b[31m:\u001b[39m incomplete input\n"
     ]
    }
   ],
   "source": [
    "while True:\n",
    "    num1=float(input(\"enter no.1\"))\n",
    "    num2=float(input(\"enter no.2\"))\n",
    "    operator=input(\"enter operator as per your choice\")\n",
    "\n",
    "    if operator=='+':\n",
    "        result=num1+num2\n",
    "        #print(result)\n",
    "\n",
    "    elif operator=='-':\n",
    "        result=num1-num2\n",
    "        #print(result)\n",
    "\n",
    "    elif operator=='/':\n",
    "        result=num1/num2\n",
    "        #print(result)\n",
    "\n",
    "    elif operator=='*':\n",
    "        result=num1*num2\n",
    "        #print(result)\n",
    "\n",
    "    elif operator=='%':\n",
    "        result=num1%num2\n",
    "        #print(result)\n",
    "\n",
    "    else:\n",
    "        print(\"invalid operator\")\n",
    "\n",
    "    continue\n",
    "    print(result)\n",
    "    con_again=input(\"do you want to continue(yes/no)\")\n",
    "\n",
    "    if con_again==\"no\":\n",
    "      break\n",
    "\n",
    "\n",
    "\n",
    "\n",
    "\n",
    "\n"
   ]
  },
  {
   "cell_type": "code",
   "execution_count": 1,
   "id": "914fd5d6-e270-4c23-add1-6b9e6b0c132e",
   "metadata": {},
   "outputs": [
    {
     "name": "stdin",
     "output_type": "stream",
     "text": [
      "enter no.1 12\n",
      "enter no.2 2\n",
      "enter operator as per your choice +\n",
      "enter no.1 2\n",
      "enter no.2 \n"
     ]
    },
    {
     "ename": "ValueError",
     "evalue": "could not convert string to float: ''",
     "output_type": "error",
     "traceback": [
      "\u001b[31m---------------------------------------------------------------------------\u001b[39m",
      "\u001b[31mValueError\u001b[39m                                Traceback (most recent call last)",
      "\u001b[36mCell\u001b[39m\u001b[36m \u001b[39m\u001b[32mIn[1]\u001b[39m\u001b[32m, line 3\u001b[39m\n\u001b[32m      1\u001b[39m \u001b[38;5;28;01mwhile\u001b[39;00m \u001b[38;5;28;01mTrue\u001b[39;00m:\n\u001b[32m      2\u001b[39m    num1=\u001b[38;5;28mfloat\u001b[39m(\u001b[38;5;28minput\u001b[39m(\u001b[33m\"\u001b[39m\u001b[33menter no.1\u001b[39m\u001b[33m\"\u001b[39m))\n\u001b[32m----> \u001b[39m\u001b[32m3\u001b[39m    num2=\u001b[38;5;28;43mfloat\u001b[39;49m\u001b[43m(\u001b[49m\u001b[38;5;28;43minput\u001b[39;49m\u001b[43m(\u001b[49m\u001b[33;43m\"\u001b[39;49m\u001b[33;43menter no.2\u001b[39;49m\u001b[33;43m\"\u001b[39;49m\u001b[43m)\u001b[49m\u001b[43m)\u001b[49m\n\u001b[32m      4\u001b[39m    operator=\u001b[38;5;28minput\u001b[39m(\u001b[33m\"\u001b[39m\u001b[33menter operator as per your choice\u001b[39m\u001b[33m\"\u001b[39m)\n\u001b[32m      6\u001b[39m    \u001b[38;5;28;01mif\u001b[39;00m operator==\u001b[33m'\u001b[39m\u001b[33m+\u001b[39m\u001b[33m'\u001b[39m:\n",
      "\u001b[31mValueError\u001b[39m: could not convert string to float: ''"
     ]
    }
   ],
   "source": [
    " while True:\n",
    "    num1=float(input(\"enter no.1\"))\n",
    "    num2=float(input(\"enter no.2\"))\n",
    "    operator=input(\"enter operator as per your choice\")\n",
    "\n",
    "    if operator=='+':\n",
    "        result=num1+num2\n",
    "        #print(result)\n",
    "\n",
    "    elif operator=='-':\n",
    "        result=num1-num2\n",
    "        #print(result)\n",
    "\n",
    "    elif operator=='/':\n",
    "        result=num1/num2\n",
    "        #print(result)\n",
    "\n",
    "    elif operator=='*':\n",
    "        result=num1*num2\n",
    "        #print(result)\n",
    "\n",
    "    elif operator=='%':\n",
    "        result=num1%num2\n",
    "        #print(result)\n",
    "\n",
    "    else:\n",
    "        #continue\n",
    "        print(\"invalid operator\")\n",
    "\n",
    "    continue\n",
    "    print(result)\n",
    "    con_again=input(\"do you want to continue(yes/no)\")\n",
    "\n",
    "    if con_again==\"yes\":\n",
    "      break\n",
    "\n",
    "\n",
    "\n",
    "\n",
    "\n",
    "\n"
   ]
  },
  {
   "cell_type": "code",
   "execution_count": 7,
   "id": "6573bdb4-d3fe-425e-a59d-b508edfecf8f",
   "metadata": {},
   "outputs": [
    {
     "ename": "IndentationError",
     "evalue": "unexpected indent (2404454878.py, line 7)",
     "output_type": "error",
     "traceback": [
      "  \u001b[36mCell\u001b[39m\u001b[36m \u001b[39m\u001b[32mIn[7]\u001b[39m\u001b[32m, line 7\u001b[39m\n\u001b[31m    \u001b[39m\u001b[31mif milk==\"yes\":\u001b[39m\n    ^\n\u001b[31mIndentationError\u001b[39m\u001b[31m:\u001b[39m unexpected indent\n"
     ]
    }
   ],
   "source": [
    "tea=input(\"enter what kind of tea would you like to take\")\n",
    "milk=input(\"would you like to add milk in your tea\")\n",
    "sugar=input(\"would you like to add some sugar in your tea\")\n",
    "\n",
    "if tea==\"black\":\n",
    "    \n",
    "      if milk==\"yes\":\n",
    "        print(\"add milk in my tea\")\n",
    "      if sugar==\"yes\":\n",
    "        print(\"add some sugar in my tea\")\n",
    "      print(\"your black tea is ready\")\n",
    "              \n",
    "elif tea==\"green\":\n",
    "        \n",
    "       if sugar==\"yes\":\n",
    "         print(\"add some sugar in my tea\")\n",
    "       print(\"your green tea is ready\")\n",
    "\n",
    "elif tea==\"milktea\":\n",
    "        \n",
    "        if sugar==\"yes\":\n",
    "          print(\"add sugar in my tea\")\n",
    "        if milk==\"yes\":\n",
    "          print(\"add sugar\")\n",
    "        print(\"your milktea is ready\")\n",
    "else:\n",
    "    print(\"not available\")\n",
    "print(\"thank you visit again\")\n",
    "            "
   ]
  },
  {
   "cell_type": "code",
   "execution_count": 3,
   "id": "2d084f8a-8ca9-4e98-9751-93fff3bdfbdb",
   "metadata": {},
   "outputs": [
    {
     "name": "stdin",
     "output_type": "stream",
     "text": [
      "What type of tea do you want (black/green/milktea)?  black\n",
      "Do you want sugar? (yes/no)  no\n",
      "Do you want milk? (yes/no)  no\n"
     ]
    },
    {
     "name": "stdout",
     "output_type": "stream",
     "text": [
      "Add tea leaves in boiling water\n",
      "Your black tea is ready\n",
      "Thank you, visit again\n"
     ]
    }
   ],
   "source": [
    "tea = input(\"What type of tea do you want (black/green/milktea)? \")\n",
    "sugar = input(\"Do you want sugar? (yes/no) \")\n",
    "milk = input(\"Do you want milk? (yes/no) \")\n",
    "\n",
    "if tea == \"lemon\":\n",
    "    print(\"do you want to select lemon tea?\")\n",
    "    leaves=input()\n",
    "    if leaves==\"yes\":\n",
    "         print(\"Add tealeaves in my tea\")\n",
    "        \n",
    "    if sugar == \"yes\":\n",
    "        print(\"Add some sugar in my tea\")\n",
    "    print(\"Your black tea is ready\")\n",
    "\n",
    "elif tea == \"green\":\n",
    "    print(\"I want green tea\")\n",
    "    if sugar == \"yes\":\n",
    "        print(\"Add some sugar in my tea\")\n",
    "    print(\"Your green tea is ready\")\n",
    "\n",
    "elif tea == \"milktea\":\n",
    "    print(\"I want milk tea\")\n",
    "    if sugar == \"yes\":\n",
    "        print(\"Add sugar in my tea\")\n",
    "    if milk == \"yes\":\n",
    "        print(\"Add milk\")\n",
    "    print(\"Your milktea is ready\")\n",
    "\n",
    "else:\n",
    "    print(\"Not available\")\n",
    "\n",
    "print(\"Thank you, visit again\")"
   ]
  },
  {
   "cell_type": "code",
   "execution_count": 4,
   "id": "0c2d5ba5-3156-4a3e-a07b-0cd29ff17ed9",
   "metadata": {},
   "outputs": [
    {
     "name": "stdin",
     "output_type": "stream",
     "text": [
      "enter no.1 12\n",
      "enter no.2 2\n",
      "enter operator as per your choice +\n"
     ]
    },
    {
     "name": "stdout",
     "output_type": "stream",
     "text": [
      "14.0\n"
     ]
    },
    {
     "name": "stdin",
     "output_type": "stream",
     "text": [
      "do you want to continue(yes/no) no\n",
      "enter no.1 12\n",
      "enter no.2 2\n",
      "enter operator as per your choice +\n"
     ]
    },
    {
     "name": "stdout",
     "output_type": "stream",
     "text": [
      "14.0\n"
     ]
    },
    {
     "name": "stdin",
     "output_type": "stream",
     "text": [
      "do you want to continue(yes/no) no\n",
      "enter no.1 12\n",
      "enter no.2 2\n",
      "enter operator as per your choice +\n"
     ]
    },
    {
     "name": "stdout",
     "output_type": "stream",
     "text": [
      "14.0\n"
     ]
    },
    {
     "name": "stdin",
     "output_type": "stream",
     "text": [
      "do you want to continue(yes/no) yes\n"
     ]
    }
   ],
   "source": [
    " while True:\n",
    "    num1=float(input(\"enter no.1\"))\n",
    "    num2=float(input(\"enter no.2\"))\n",
    "    operator=input(\"enter operator as per your choice\")\n",
    "\n",
    "    if operator=='+':\n",
    "        result=num1+num2\n",
    "        #print(result)\n",
    "\n",
    "    elif operator=='-':\n",
    "        result=num1-num2\n",
    "        #print(result)\n",
    "\n",
    "    elif operator=='/':\n",
    "        result=num1/num2\n",
    "        #print(result)\n",
    "\n",
    "    elif operator=='*':\n",
    "        result=num1*num2\n",
    "        #print(result)\n",
    "\n",
    "    elif operator=='%':\n",
    "        result=num1%num2\n",
    "        #print(result)\n",
    "\n",
    "    else:\n",
    "        continue\n",
    "        print(\"invalid operator\")\n",
    "\n",
    "    #continue\n",
    "    print(result)\n",
    "    con_again=input(\"do you want to continue(yes/no)\")\n",
    "\n",
    "    if con_again==\"yes\":\n",
    "      \n",
    "       break\n",
    "\n",
    "\n",
    "\n",
    "\n",
    "\n"
   ]
  },
  {
   "cell_type": "code",
   "execution_count": null,
   "id": "c2959915-e810-4c6a-922f-1cadb9926e47",
   "metadata": {},
   "outputs": [
    {
     "name": "stdin",
     "output_type": "stream",
     "text": [
      "Kitni calculations karni hain?  3\n",
      "Number 1:  12\n"
     ]
    }
   ],
   "source": [
    "# Simple For Loop Calculator\n",
    "n = int(input(\"Kitni calculations karni hain? \"))  # e.g., 3\n",
    "\n",
    "for i in range(n):\n",
    "    #print(f\"\\nCalculation {i+1}\")\n",
    "    \n",
    "    num1 = float(input(\"Number 1: \"))\n",
    "    num2 = float(input(\"Number 2: \"))\n",
    "    op = input(\"Operator (+ - * / %): \")\n",
    "    \n",
    "    if op == '+':\n",
    "        result = num1 + num2\n",
    "    elif op == '-':\n",
    "        result = num1 - num2\n",
    "    elif op == '*':\n",
    "        result = num1 * num2\n",
    "    elif op == '/':\n",
    "        result = num1 / num2  # Note: 0 se divide mat karo!\n",
    "    elif op == '%':\n",
    "        result = num1 % num2\n",
    "    else:\n",
    "        result = \"Invalid operator!\"\n",
    "    \n",
    "    print(\"Result:\", result)\n"
   ]
  },
  {
   "cell_type": "code",
   "execution_count": 15,
   "id": "93028e99-76f5-4927-a3bd-7ad26cc31c66",
   "metadata": {},
   "outputs": [
    {
     "name": "stdin",
     "output_type": "stream",
     "text": [
      "enter no.1 12\n",
      "enter no.2 2\n",
      "enter operator as per your choice +\n"
     ]
    },
    {
     "name": "stdout",
     "output_type": "stream",
     "text": [
      "14.0\n",
      "14.0\n"
     ]
    },
    {
     "name": "stdin",
     "output_type": "stream",
     "text": [
      "do you want to continue(yes/no) no\n",
      "enter no.1 12\n",
      "enter no.2 34\n",
      "enter operator as per your choice %\n"
     ]
    },
    {
     "name": "stdout",
     "output_type": "stream",
     "text": [
      "12.0\n",
      "12.0\n"
     ]
    },
    {
     "name": "stdin",
     "output_type": "stream",
     "text": [
      "do you want to continue(yes/no) yes\n"
     ]
    }
   ],
   "source": [
    " while True:\n",
    "    num1=float(input(\"enter no.1\"))\n",
    "    num2=float(input(\"enter no.2\"))\n",
    "    operator=input(\"enter operator as per your choice\")\n",
    "\n",
    "    if operator=='+':\n",
    "        result=num1+num2\n",
    "        print(result)\n",
    "\n",
    "    elif operator=='-':\n",
    "        result=num1-num2\n",
    "        print(result)\n",
    "\n",
    "    elif operator=='/':\n",
    "        result=num1/num2\n",
    "        print(result)\n",
    "\n",
    "    elif operator=='*':\n",
    "        result=num1*num2\n",
    "        print(result)\n",
    "        \n",
    "\n",
    "    elif operator=='%':\n",
    "        result=num1%num2\n",
    "        print(result)\n",
    "\n",
    "    else:\n",
    "        print(\"invalid operator\")\n",
    "\n",
    "    #continue\n",
    "    print(result)\n",
    "    con_again=input(\"do you want to continue(yes/no)\")\n",
    "\n",
    "    if con_again==\"yes\":\n",
    "      \n",
    "       break\n",
    "\n",
    "\n",
    "\n",
    "\n",
    "\n"
   ]
  },
  {
   "cell_type": "code",
   "execution_count": 23,
   "id": "a0c87f01-8e5c-4dc3-96f6-f71087049c29",
   "metadata": {},
   "outputs": [
    {
     "name": "stdin",
     "output_type": "stream",
     "text": [
      "enter no.1 12\n",
      "enter no.2 34\n",
      "enter operator as per your choice #\n"
     ]
    },
    {
     "name": "stdout",
     "output_type": "stream",
     "text": [
      "invalid operator\n",
      "14.0\n"
     ]
    },
    {
     "ename": "KeyboardInterrupt",
     "evalue": "Interrupted by user",
     "output_type": "error",
     "traceback": [
      "\u001b[31m---------------------------------------------------------------------------\u001b[39m",
      "\u001b[31mKeyboardInterrupt\u001b[39m                         Traceback (most recent call last)",
      "\u001b[36mCell\u001b[39m\u001b[36m \u001b[39m\u001b[32mIn[23]\u001b[39m\u001b[32m, line 32\u001b[39m\n\u001b[32m     30\u001b[39m \u001b[38;5;66;03m#continue\u001b[39;00m\n\u001b[32m     31\u001b[39m \u001b[38;5;28mprint\u001b[39m(result)\n\u001b[32m---> \u001b[39m\u001b[32m32\u001b[39m con_again=\u001b[38;5;28;43minput\u001b[39;49m\u001b[43m(\u001b[49m\u001b[33;43m\"\u001b[39;49m\u001b[33;43mdo you want to continue(yes/no)\u001b[39;49m\u001b[33;43m\"\u001b[39;49m\u001b[43m)\u001b[49m\n\u001b[32m     34\u001b[39m \u001b[38;5;28;01mif\u001b[39;00m con_again==\u001b[33m\"\u001b[39m\u001b[33myes\u001b[39m\u001b[33m\"\u001b[39m:\n\u001b[32m     36\u001b[39m    \u001b[38;5;28;01mbreak\u001b[39;00m\n",
      "\u001b[36mFile \u001b[39m\u001b[32m~\\AppData\\Roaming\\Python\\Python313\\site-packages\\ipykernel\\kernelbase.py:1282\u001b[39m, in \u001b[36mKernel.raw_input\u001b[39m\u001b[34m(self, prompt)\u001b[39m\n\u001b[32m   1280\u001b[39m     msg = \u001b[33m\"\u001b[39m\u001b[33mraw_input was called, but this frontend does not support input requests.\u001b[39m\u001b[33m\"\u001b[39m\n\u001b[32m   1281\u001b[39m     \u001b[38;5;28;01mraise\u001b[39;00m StdinNotImplementedError(msg)\n\u001b[32m-> \u001b[39m\u001b[32m1282\u001b[39m \u001b[38;5;28;01mreturn\u001b[39;00m \u001b[38;5;28;43mself\u001b[39;49m\u001b[43m.\u001b[49m\u001b[43m_input_request\u001b[49m\u001b[43m(\u001b[49m\n\u001b[32m   1283\u001b[39m \u001b[43m    \u001b[49m\u001b[38;5;28;43mstr\u001b[39;49m\u001b[43m(\u001b[49m\u001b[43mprompt\u001b[49m\u001b[43m)\u001b[49m\u001b[43m,\u001b[49m\n\u001b[32m   1284\u001b[39m \u001b[43m    \u001b[49m\u001b[38;5;28;43mself\u001b[39;49m\u001b[43m.\u001b[49m\u001b[43m_parent_ident\u001b[49m\u001b[43m[\u001b[49m\u001b[33;43m\"\u001b[39;49m\u001b[33;43mshell\u001b[39;49m\u001b[33;43m\"\u001b[39;49m\u001b[43m]\u001b[49m\u001b[43m,\u001b[49m\n\u001b[32m   1285\u001b[39m \u001b[43m    \u001b[49m\u001b[38;5;28;43mself\u001b[39;49m\u001b[43m.\u001b[49m\u001b[43mget_parent\u001b[49m\u001b[43m(\u001b[49m\u001b[33;43m\"\u001b[39;49m\u001b[33;43mshell\u001b[39;49m\u001b[33;43m\"\u001b[39;49m\u001b[43m)\u001b[49m\u001b[43m,\u001b[49m\n\u001b[32m   1286\u001b[39m \u001b[43m    \u001b[49m\u001b[43mpassword\u001b[49m\u001b[43m=\u001b[49m\u001b[38;5;28;43;01mFalse\u001b[39;49;00m\u001b[43m,\u001b[49m\n\u001b[32m   1287\u001b[39m \u001b[43m\u001b[49m\u001b[43m)\u001b[49m\n",
      "\u001b[36mFile \u001b[39m\u001b[32m~\\AppData\\Roaming\\Python\\Python313\\site-packages\\ipykernel\\kernelbase.py:1325\u001b[39m, in \u001b[36mKernel._input_request\u001b[39m\u001b[34m(self, prompt, ident, parent, password)\u001b[39m\n\u001b[32m   1322\u001b[39m \u001b[38;5;28;01mexcept\u001b[39;00m \u001b[38;5;167;01mKeyboardInterrupt\u001b[39;00m:\n\u001b[32m   1323\u001b[39m     \u001b[38;5;66;03m# re-raise KeyboardInterrupt, to truncate traceback\u001b[39;00m\n\u001b[32m   1324\u001b[39m     msg = \u001b[33m\"\u001b[39m\u001b[33mInterrupted by user\u001b[39m\u001b[33m\"\u001b[39m\n\u001b[32m-> \u001b[39m\u001b[32m1325\u001b[39m     \u001b[38;5;28;01mraise\u001b[39;00m \u001b[38;5;167;01mKeyboardInterrupt\u001b[39;00m(msg) \u001b[38;5;28;01mfrom\u001b[39;00m\u001b[38;5;250m \u001b[39m\u001b[38;5;28;01mNone\u001b[39;00m\n\u001b[32m   1326\u001b[39m \u001b[38;5;28;01mexcept\u001b[39;00m \u001b[38;5;167;01mException\u001b[39;00m:\n\u001b[32m   1327\u001b[39m     \u001b[38;5;28mself\u001b[39m.log.warning(\u001b[33m\"\u001b[39m\u001b[33mInvalid Message:\u001b[39m\u001b[33m\"\u001b[39m, exc_info=\u001b[38;5;28;01mTrue\u001b[39;00m)\n",
      "\u001b[31mKeyboardInterrupt\u001b[39m: Interrupted by user"
     ]
    }
   ],
   "source": [
    " while True:\n",
    "    num1=float(input(\"enter no.1\"))\n",
    "    num2=float(input(\"enter no.2\"))\n",
    "    operator=input(\"enter operator as per your choice\")\n",
    "\n",
    "    if operator=='+':\n",
    "        result=num1+num2\n",
    "        print(result)\n",
    "\n",
    "    elif operator=='-':\n",
    "        result=num1-num2\n",
    "        print(result)\n",
    "\n",
    "    elif operator=='/':\n",
    "        result=num1/num2\n",
    "        print(result)\n",
    "\n",
    "    elif operator=='*':\n",
    "        result=num1*num2\n",
    "        print(result)\n",
    "\n",
    "    elif operator=='%':\n",
    "        result=num1%num2\n",
    "        print(result)\n",
    "\n",
    "    else:\n",
    "        \n",
    "        print(\"invalid operator\")\n",
    "\n",
    "    #continue\n",
    "    print(result)\n",
    "    con_again=input(\"do you want to continue(yes/no)\")\n",
    "\n",
    "    if con_again==\"yes\":\n",
    "      \n",
    "       break\n",
    "\n",
    "\n",
    "\n",
    "\n",
    "\n"
   ]
  },
  {
   "cell_type": "code",
   "execution_count": 1,
   "id": "3000e567-3d4c-4247-877c-af769014962d",
   "metadata": {},
   "outputs": [
    {
     "name": "stdin",
     "output_type": "stream",
     "text": [
      "enter no.1 12\n",
      "enter no.2 2\n",
      "enter operator as per your choice #\n"
     ]
    },
    {
     "name": "stdout",
     "output_type": "stream",
     "text": [
      "invalid operator\n"
     ]
    },
    {
     "name": "stdin",
     "output_type": "stream",
     "text": [
      "enter no.1 12\n",
      "enter no.2 2\n",
      "enter operator as per your choice $\n"
     ]
    },
    {
     "name": "stdout",
     "output_type": "stream",
     "text": [
      "invalid operator\n"
     ]
    },
    {
     "ename": "KeyboardInterrupt",
     "evalue": "Interrupted by user",
     "output_type": "error",
     "traceback": [
      "\u001b[31m---------------------------------------------------------------------------\u001b[39m",
      "\u001b[31mKeyboardInterrupt\u001b[39m                         Traceback (most recent call last)",
      "\u001b[36mCell\u001b[39m\u001b[36m \u001b[39m\u001b[32mIn[1]\u001b[39m\u001b[32m, line 2\u001b[39m\n\u001b[32m      1\u001b[39m \u001b[38;5;28;01mwhile\u001b[39;00m \u001b[38;5;28;01mTrue\u001b[39;00m:\n\u001b[32m----> \u001b[39m\u001b[32m2\u001b[39m    num1=\u001b[38;5;28mfloat\u001b[39m(\u001b[38;5;28;43minput\u001b[39;49m\u001b[43m(\u001b[49m\u001b[33;43m\"\u001b[39;49m\u001b[33;43menter no.1\u001b[39;49m\u001b[33;43m\"\u001b[39;49m\u001b[43m)\u001b[49m)\n\u001b[32m      3\u001b[39m    num2=\u001b[38;5;28mfloat\u001b[39m(\u001b[38;5;28minput\u001b[39m(\u001b[33m\"\u001b[39m\u001b[33menter no.2\u001b[39m\u001b[33m\"\u001b[39m))\n\u001b[32m      4\u001b[39m    operator=\u001b[38;5;28minput\u001b[39m(\u001b[33m\"\u001b[39m\u001b[33menter operator as per your choice\u001b[39m\u001b[33m\"\u001b[39m)\n",
      "\u001b[36mFile \u001b[39m\u001b[32m~\\AppData\\Roaming\\Python\\Python313\\site-packages\\ipykernel\\kernelbase.py:1282\u001b[39m, in \u001b[36mKernel.raw_input\u001b[39m\u001b[34m(self, prompt)\u001b[39m\n\u001b[32m   1280\u001b[39m     msg = \u001b[33m\"\u001b[39m\u001b[33mraw_input was called, but this frontend does not support input requests.\u001b[39m\u001b[33m\"\u001b[39m\n\u001b[32m   1281\u001b[39m     \u001b[38;5;28;01mraise\u001b[39;00m StdinNotImplementedError(msg)\n\u001b[32m-> \u001b[39m\u001b[32m1282\u001b[39m \u001b[38;5;28;01mreturn\u001b[39;00m \u001b[38;5;28;43mself\u001b[39;49m\u001b[43m.\u001b[49m\u001b[43m_input_request\u001b[49m\u001b[43m(\u001b[49m\n\u001b[32m   1283\u001b[39m \u001b[43m    \u001b[49m\u001b[38;5;28;43mstr\u001b[39;49m\u001b[43m(\u001b[49m\u001b[43mprompt\u001b[49m\u001b[43m)\u001b[49m\u001b[43m,\u001b[49m\n\u001b[32m   1284\u001b[39m \u001b[43m    \u001b[49m\u001b[38;5;28;43mself\u001b[39;49m\u001b[43m.\u001b[49m\u001b[43m_parent_ident\u001b[49m\u001b[43m[\u001b[49m\u001b[33;43m\"\u001b[39;49m\u001b[33;43mshell\u001b[39;49m\u001b[33;43m\"\u001b[39;49m\u001b[43m]\u001b[49m\u001b[43m,\u001b[49m\n\u001b[32m   1285\u001b[39m \u001b[43m    \u001b[49m\u001b[38;5;28;43mself\u001b[39;49m\u001b[43m.\u001b[49m\u001b[43mget_parent\u001b[49m\u001b[43m(\u001b[49m\u001b[33;43m\"\u001b[39;49m\u001b[33;43mshell\u001b[39;49m\u001b[33;43m\"\u001b[39;49m\u001b[43m)\u001b[49m\u001b[43m,\u001b[49m\n\u001b[32m   1286\u001b[39m \u001b[43m    \u001b[49m\u001b[43mpassword\u001b[49m\u001b[43m=\u001b[49m\u001b[38;5;28;43;01mFalse\u001b[39;49;00m\u001b[43m,\u001b[49m\n\u001b[32m   1287\u001b[39m \u001b[43m\u001b[49m\u001b[43m)\u001b[49m\n",
      "\u001b[36mFile \u001b[39m\u001b[32m~\\AppData\\Roaming\\Python\\Python313\\site-packages\\ipykernel\\kernelbase.py:1325\u001b[39m, in \u001b[36mKernel._input_request\u001b[39m\u001b[34m(self, prompt, ident, parent, password)\u001b[39m\n\u001b[32m   1322\u001b[39m \u001b[38;5;28;01mexcept\u001b[39;00m \u001b[38;5;167;01mKeyboardInterrupt\u001b[39;00m:\n\u001b[32m   1323\u001b[39m     \u001b[38;5;66;03m# re-raise KeyboardInterrupt, to truncate traceback\u001b[39;00m\n\u001b[32m   1324\u001b[39m     msg = \u001b[33m\"\u001b[39m\u001b[33mInterrupted by user\u001b[39m\u001b[33m\"\u001b[39m\n\u001b[32m-> \u001b[39m\u001b[32m1325\u001b[39m     \u001b[38;5;28;01mraise\u001b[39;00m \u001b[38;5;167;01mKeyboardInterrupt\u001b[39;00m(msg) \u001b[38;5;28;01mfrom\u001b[39;00m\u001b[38;5;250m \u001b[39m\u001b[38;5;28;01mNone\u001b[39;00m\n\u001b[32m   1326\u001b[39m \u001b[38;5;28;01mexcept\u001b[39;00m \u001b[38;5;167;01mException\u001b[39;00m:\n\u001b[32m   1327\u001b[39m     \u001b[38;5;28mself\u001b[39m.log.warning(\u001b[33m\"\u001b[39m\u001b[33mInvalid Message:\u001b[39m\u001b[33m\"\u001b[39m, exc_info=\u001b[38;5;28;01mTrue\u001b[39;00m)\n",
      "\u001b[31mKeyboardInterrupt\u001b[39m: Interrupted by user"
     ]
    }
   ],
   "source": [
    " while True:\n",
    "    num1=float(input(\"enter no.1\"))\n",
    "    num2=float(input(\"enter no.2\"))\n",
    "    operator=input(\"enter operator as per your choice\")\n",
    "\n",
    "    if operator=='+':\n",
    "        result=num1+num2\n",
    "        print(result)\n",
    "\n",
    "    elif operator=='-':\n",
    "        result=num1-num2\n",
    "        print(result)\n",
    "\n",
    "    elif operator=='/':\n",
    "        result=num1/num2\n",
    "        print(result)\n",
    "\n",
    "    elif operator=='*':\n",
    "        result=num1*num2\n",
    "        print(result)\n",
    "\n",
    "    elif operator=='%':\n",
    "        result=num1%num2\n",
    "        print(result)\n",
    "\n",
    "    else:\n",
    "        \n",
    "        print(\"invalid operator\")\n",
    "\n",
    "    continue\n",
    "    print(result)\n",
    "    con_again=input(\"do you want to continue(yes/no)\")\n",
    "\n",
    "    if con_again==\"yes\":\n",
    "      \n",
    "       break\n",
    "\n",
    "\n",
    "\n",
    "\n",
    "\n"
   ]
  },
  {
   "cell_type": "code",
   "execution_count": 1,
   "id": "4b7b886a-1631-4310-9aac-8bda7ada37ae",
   "metadata": {},
   "outputs": [
    {
     "name": "stdin",
     "output_type": "stream",
     "text": [
      "enter no.1 12\n",
      "enter no.2 2\n",
      "enter operator as per your choice @\n"
     ]
    },
    {
     "name": "stdout",
     "output_type": "stream",
     "text": [
      "invalid operator\n"
     ]
    },
    {
     "ename": "NameError",
     "evalue": "name 'result' is not defined",
     "output_type": "error",
     "traceback": [
      "\u001b[31m---------------------------------------------------------------------------\u001b[39m",
      "\u001b[31mNameError\u001b[39m                                 Traceback (most recent call last)",
      "\u001b[36mCell\u001b[39m\u001b[36m \u001b[39m\u001b[32mIn[1]\u001b[39m\u001b[32m, line 31\u001b[39m\n\u001b[32m     28\u001b[39m     \u001b[38;5;28mprint\u001b[39m(\u001b[33m\"\u001b[39m\u001b[33minvalid operator\u001b[39m\u001b[33m\"\u001b[39m)\n\u001b[32m     30\u001b[39m \u001b[38;5;66;03m#continue\u001b[39;00m\n\u001b[32m---> \u001b[39m\u001b[32m31\u001b[39m \u001b[38;5;28mprint\u001b[39m(\u001b[43mresult\u001b[49m)\n\u001b[32m     32\u001b[39m con_again=\u001b[38;5;28minput\u001b[39m(\u001b[33m\"\u001b[39m\u001b[33mdo you want to continue(yes/no)\u001b[39m\u001b[33m\"\u001b[39m)\n\u001b[32m     34\u001b[39m \u001b[38;5;28;01mif\u001b[39;00m con_again==\u001b[33m\"\u001b[39m\u001b[33myes\u001b[39m\u001b[33m\"\u001b[39m:\n",
      "\u001b[31mNameError\u001b[39m: name 'result' is not defined"
     ]
    }
   ],
   "source": [
    " while True:\n",
    "    num1=float(input(\"enter no.1\"))\n",
    "    num2=float(input(\"enter no.2\"))\n",
    "    operator=input(\"enter operator as per your choice\")\n",
    "\n",
    "    if operator=='+':\n",
    "        result=num1+num2\n",
    "        print(result)\n",
    "\n",
    "    elif operator=='-':\n",
    "        result=num1-num2\n",
    "        print(result)\n",
    "\n",
    "    elif operator=='/':\n",
    "        result=num1/num2\n",
    "        print(result)\n",
    "\n",
    "    elif operator=='*':\n",
    "        result=num1*num2\n",
    "        print(result)\n",
    "\n",
    "    elif operator=='%':\n",
    "        result=num1%num2\n",
    "        print(result)\n",
    "\n",
    "    else:\n",
    "        \n",
    "        print(\"invalid operator\")\n",
    "\n",
    "    #continue\n",
    "    print(result)\n",
    "    con_again=input(\"do you want to continue(yes/no)\")\n",
    "\n",
    "    if con_again==\"yes\":\n",
    "      \n",
    "       break\n",
    "\n",
    "\n",
    "\n",
    "\n",
    "\n",
    "\n"
   ]
  },
  {
   "cell_type": "code",
   "execution_count": 4,
   "id": "a45b7d7f-e926-47b5-9d69-e956c9f1fea0",
   "metadata": {},
   "outputs": [
    {
     "name": "stdout",
     "output_type": "stream",
     "text": [
      "57.0\n"
     ]
    }
   ],
   "source": [
    "print(result)"
   ]
  },
  {
   "cell_type": "code",
   "execution_count": null,
   "id": "c0f9e578-8182-4e57-93ed-4a5cfa1486b2",
   "metadata": {},
   "outputs": [],
   "source": []
  }
 ],
 "metadata": {
  "kernelspec": {
   "display_name": "Python 3 (ipykernel)",
   "language": "python",
   "name": "python3"
  },
  "language_info": {
   "codemirror_mode": {
    "name": "ipython",
    "version": 3
   },
   "file_extension": ".py",
   "mimetype": "text/x-python",
   "name": "python",
   "nbconvert_exporter": "python",
   "pygments_lexer": "ipython3",
   "version": "3.13.5"
  }
 },
 "nbformat": 4,
 "nbformat_minor": 5
}
