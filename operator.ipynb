{
 "cells": [
  {
   "cell_type": "code",
   "execution_count": null,
   "id": "515fc1ce-83aa-446c-b6a8-92213cd758dc",
   "metadata": {},
   "outputs": [],
   "source": [
    "#operators in python\n",
    "# operators are special used symbols in python that performs operations on variables and values.\n",
    "#for example + is an operator used to add two values."
   ]
  },
  {
   "cell_type": "code",
   "execution_count": null,
   "id": "21f0d22d-b2d4-4f9a-a0e9-42c76bc95261",
   "metadata": {},
   "outputs": [],
   "source": [
    "a=20\n",
    "b=3\n",
    "c=a/b\n",
    "d=a//b\n",
    "print (c,'this is the result of normal division')\n",
    "print(d,' this is the result of floor division, and value is quotient')\n"
   ]
  },
  {
   "cell_type": "code",
   "execution_count": null,
   "id": "c8f191b9-ec50-46ae-b203-7509f7f53192",
   "metadata": {},
   "outputs": [],
   "source": [
    "a=20\n",
    "b=3\n",
    "c=a/b\n",
    "d=a//b\n",
    "print (c,'this is the result of normal division')\n",
    "print(d,' this is the result of floor division, and value is quotient')\n"
   ]
  },
  {
   "cell_type": "code",
   "execution_count": null,
   "id": "cea3b646-4c26-4d3b-818b-d2b95f31b4ad",
   "metadata": {},
   "outputs": [],
   "source": [
    "a=20\n",
    "b=3\n",
    "c=a/b\n",
    "d=a%b\n",
    "print (c,'this is the result of normal division')\n",
    "print(d,' this is the result of modulus, and value is remainder')"
   ]
  },
  {
   "cell_type": "code",
   "execution_count": null,
   "id": "ccb50803-5077-4788-adba-b4927d88fe5e",
   "metadata": {},
   "outputs": [],
   "source": [
    "a=20\n",
    "b=3\n",
    "c=a/b\n",
    "d=a%b\n",
    "print (c,'this is the result of normal division')\n",
    "print(d,' this is the result of modulus, and value is remainder')"
   ]
  },
  {
   "cell_type": "code",
   "execution_count": null,
   "id": "f14afe17-cf22-4f5b-b9ef-a6a22dc70786",
   "metadata": {},
   "outputs": [],
   "source": [
    "a = 6+2*4\n",
    "b = 2*4\n",
    "c = 6+b\n",
    "print(a,\",\",c)"
   ]
  },
  {
   "cell_type": "code",
   "execution_count": null,
   "id": "80df0b2e-a4e0-4130-8959-6f89a850464c",
   "metadata": {},
   "outputs": [],
   "source": [
    "a = 2+3-5*2/3**2+4\n",
    "b = 2+3-5*2/9+4\n",
    "c = 2+3-10/9+4\n",
    "d = 2+3-1.11+4\n",
    "print(d)"
   ]
  },
  {
   "cell_type": "code",
   "execution_count": null,
   "id": "0ec64072-2324-4374-9ad8-421556eefd4b",
   "metadata": {},
   "outputs": [],
   "source": [
    "a = 2+3-5*2/3**2+4\n",
    "\n",
    "b= 3**2 # this will be the first operation\n",
    "    # 2+3-5*2/b+4\n",
    "\n",
    "c = 5*2 # this will be the second operation\n",
    "    # 2+3-c/b+4\n",
    "\n",
    "d = c/b # this will be the third operation\n",
    "    # 2+3-d+4\n",
    "\n",
    "e = 5-d+4 # this will be the fourth operatiohimashu\n",
    "print(e)"
   ]
  },
  {
   "cell_type": "code",
   "execution_count": 1,
   "id": "35165367-cbf1-47c5-8fc4-b86ce982f4fa",
   "metadata": {},
   "outputs": [
    {
     "name": "stdout",
     "output_type": "stream",
     "text": [
      "-7.666666666666667 -7.666666666666667 -7.666666666666667 -7.666666666666667 -7.666666666666667\n"
     ]
    }
   ],
   "source": [
    "a = 2+5 ** (3-1) // 2 % 11-5 + 4 / 3 + 2 - 3 * 3 \n",
    "\n",
    "#1st\n",
    "b = (3-1)\n",
    "eq1 = 2 + 5**b // 2 % 11-5+ 4 / 3 + 2 - 3*3\n",
    "\n",
    "#2nd\n",
    "c = 5**b\n",
    "eq2 = 2 + c // 2 % 11-5+ 4 / 3 + 2 - 3*3\n",
    "\n",
    "#3rd\n",
    "d=c//2\n",
    "eq3 = 2 + d % 11-5+ 4 / 3 + 2 - 3*3\n",
    "\n",
    "#4th\n",
    "e = d % 11\n",
    "eq4 = 2 + e -5+ 4 / 3 + 2 - 3*3\n",
    "\n",
    "#5th\n",
    "f = 4/3\n",
    "eq5 = 2 + e -5+ f + 2 - 3*3\n",
    "\n",
    "#6th\n",
    "g = 3*3\n",
    "eq5 = 2 + e -5+ f + 2 - g\n",
    "print(eq1,eq2,eq3,eq4,eq5)"
   ]
  },
  {
   "cell_type": "code",
   "execution_count": null,
   "id": "3a6e964e-9883-4e40-834b-8f53600601ea",
   "metadata": {},
   "outputs": [],
   "source": []
  }
 ],
 "metadata": {
  "kernelspec": {
   "display_name": "Python 3 (ipykernel)",
   "language": "python",
   "name": "python3"
  },
  "language_info": {
   "codemirror_mode": {
    "name": "ipython",
    "version": 3
   },
   "file_extension": ".py",
   "mimetype": "text/x-python",
   "name": "python",
   "nbconvert_exporter": "python",
   "pygments_lexer": "ipython3",
   "version": "3.13.5"
  }
 },
 "nbformat": 4,
 "nbformat_minor": 5
}
